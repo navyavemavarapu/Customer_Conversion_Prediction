{
  "nbformat": 4,
  "nbformat_minor": 0,
  "metadata": {
    "colab": {
      "provenance": [],
      "collapsed_sections": [],
      "authorship_tag": "ABX9TyNy95jXjOOx5UsGQFsWGJHM",
      "include_colab_link": true
    },
    "kernelspec": {
      "name": "python3",
      "display_name": "Python 3"
    },
    "language_info": {
      "name": "python"
    }
  },
  "cells": [
    {
      "cell_type": "markdown",
      "metadata": {
        "id": "view-in-github",
        "colab_type": "text"
      },
      "source": [
        "<a href=\"https://colab.research.google.com/github/navyavemavarapu/Customer_Conversion_Prediction/blob/main/Customer_Conversion_Prediction.ipynb\" target=\"_parent\"><img src=\"https://colab.research.google.com/assets/colab-badge.svg\" alt=\"Open In Colab\"/></a>"
      ]
    },
    {
      "cell_type": "code",
      "execution_count": 1,
      "metadata": {
        "id": "1TjPJ0DMXGw3"
      },
      "outputs": [],
      "source": [
        "import pandas as pd\n",
        "import numpy as np\n",
        "import matplotlib.pyplot as plt\n",
        "import seaborn as sns"
      ]
    },
    {
      "cell_type": "code",
      "source": [
        "df1 = pd.read_excel(\"/content/Customer Conversion Prediction.xlsx\")"
      ],
      "metadata": {
        "id": "pVpnJNdRXJ78"
      },
      "execution_count": 2,
      "outputs": []
    },
    {
      "cell_type": "code",
      "source": [
        "df=df1.copy()"
      ],
      "metadata": {
        "id": "5VpoaP3TYf7_"
      },
      "execution_count": 3,
      "outputs": []
    },
    {
      "cell_type": "code",
      "source": [
        "df.head()"
      ],
      "metadata": {
        "colab": {
          "base_uri": "https://localhost:8080/",
          "height": 206
        },
        "id": "NrFjAGJ2YFsK",
        "outputId": "7dfec699-ac49-468f-d14f-6a13c3002556"
      },
      "execution_count": 4,
      "outputs": [
        {
          "output_type": "execute_result",
          "data": {
            "text/plain": [
              "    age           job  marital education_qual call_type  day  mon    dur  \\\n",
              "0  58.0    management  married       tertiary   unknown  5.0  may  261.0   \n",
              "1  44.0    technician   single      secondary   unknown  5.0  may  151.0   \n",
              "2  33.0  entrepreneur  married      secondary   unknown  5.0  may   76.0   \n",
              "3  47.0   blue-collar  married        unknown   unknown  5.0  may   92.0   \n",
              "4  33.0       unknown   single        unknown   unknown  5.0  may  198.0   \n",
              "\n",
              "   num_calls prev_outcome   y  \n",
              "0        1.0      unknown  no  \n",
              "1        1.0      unknown  no  \n",
              "2        1.0      unknown  no  \n",
              "3        1.0      unknown  no  \n",
              "4        1.0      unknown  no  "
            ],
            "text/html": [
              "\n",
              "  <div id=\"df-1529adc1-3027-49e9-84e2-b89544739611\">\n",
              "    <div class=\"colab-df-container\">\n",
              "      <div>\n",
              "<style scoped>\n",
              "    .dataframe tbody tr th:only-of-type {\n",
              "        vertical-align: middle;\n",
              "    }\n",
              "\n",
              "    .dataframe tbody tr th {\n",
              "        vertical-align: top;\n",
              "    }\n",
              "\n",
              "    .dataframe thead th {\n",
              "        text-align: right;\n",
              "    }\n",
              "</style>\n",
              "<table border=\"1\" class=\"dataframe\">\n",
              "  <thead>\n",
              "    <tr style=\"text-align: right;\">\n",
              "      <th></th>\n",
              "      <th>age</th>\n",
              "      <th>job</th>\n",
              "      <th>marital</th>\n",
              "      <th>education_qual</th>\n",
              "      <th>call_type</th>\n",
              "      <th>day</th>\n",
              "      <th>mon</th>\n",
              "      <th>dur</th>\n",
              "      <th>num_calls</th>\n",
              "      <th>prev_outcome</th>\n",
              "      <th>y</th>\n",
              "    </tr>\n",
              "  </thead>\n",
              "  <tbody>\n",
              "    <tr>\n",
              "      <th>0</th>\n",
              "      <td>58.0</td>\n",
              "      <td>management</td>\n",
              "      <td>married</td>\n",
              "      <td>tertiary</td>\n",
              "      <td>unknown</td>\n",
              "      <td>5.0</td>\n",
              "      <td>may</td>\n",
              "      <td>261.0</td>\n",
              "      <td>1.0</td>\n",
              "      <td>unknown</td>\n",
              "      <td>no</td>\n",
              "    </tr>\n",
              "    <tr>\n",
              "      <th>1</th>\n",
              "      <td>44.0</td>\n",
              "      <td>technician</td>\n",
              "      <td>single</td>\n",
              "      <td>secondary</td>\n",
              "      <td>unknown</td>\n",
              "      <td>5.0</td>\n",
              "      <td>may</td>\n",
              "      <td>151.0</td>\n",
              "      <td>1.0</td>\n",
              "      <td>unknown</td>\n",
              "      <td>no</td>\n",
              "    </tr>\n",
              "    <tr>\n",
              "      <th>2</th>\n",
              "      <td>33.0</td>\n",
              "      <td>entrepreneur</td>\n",
              "      <td>married</td>\n",
              "      <td>secondary</td>\n",
              "      <td>unknown</td>\n",
              "      <td>5.0</td>\n",
              "      <td>may</td>\n",
              "      <td>76.0</td>\n",
              "      <td>1.0</td>\n",
              "      <td>unknown</td>\n",
              "      <td>no</td>\n",
              "    </tr>\n",
              "    <tr>\n",
              "      <th>3</th>\n",
              "      <td>47.0</td>\n",
              "      <td>blue-collar</td>\n",
              "      <td>married</td>\n",
              "      <td>unknown</td>\n",
              "      <td>unknown</td>\n",
              "      <td>5.0</td>\n",
              "      <td>may</td>\n",
              "      <td>92.0</td>\n",
              "      <td>1.0</td>\n",
              "      <td>unknown</td>\n",
              "      <td>no</td>\n",
              "    </tr>\n",
              "    <tr>\n",
              "      <th>4</th>\n",
              "      <td>33.0</td>\n",
              "      <td>unknown</td>\n",
              "      <td>single</td>\n",
              "      <td>unknown</td>\n",
              "      <td>unknown</td>\n",
              "      <td>5.0</td>\n",
              "      <td>may</td>\n",
              "      <td>198.0</td>\n",
              "      <td>1.0</td>\n",
              "      <td>unknown</td>\n",
              "      <td>no</td>\n",
              "    </tr>\n",
              "  </tbody>\n",
              "</table>\n",
              "</div>\n",
              "      <button class=\"colab-df-convert\" onclick=\"convertToInteractive('df-1529adc1-3027-49e9-84e2-b89544739611')\"\n",
              "              title=\"Convert this dataframe to an interactive table.\"\n",
              "              style=\"display:none;\">\n",
              "        \n",
              "  <svg xmlns=\"http://www.w3.org/2000/svg\" height=\"24px\"viewBox=\"0 0 24 24\"\n",
              "       width=\"24px\">\n",
              "    <path d=\"M0 0h24v24H0V0z\" fill=\"none\"/>\n",
              "    <path d=\"M18.56 5.44l.94 2.06.94-2.06 2.06-.94-2.06-.94-.94-2.06-.94 2.06-2.06.94zm-11 1L8.5 8.5l.94-2.06 2.06-.94-2.06-.94L8.5 2.5l-.94 2.06-2.06.94zm10 10l.94 2.06.94-2.06 2.06-.94-2.06-.94-.94-2.06-.94 2.06-2.06.94z\"/><path d=\"M17.41 7.96l-1.37-1.37c-.4-.4-.92-.59-1.43-.59-.52 0-1.04.2-1.43.59L10.3 9.45l-7.72 7.72c-.78.78-.78 2.05 0 2.83L4 21.41c.39.39.9.59 1.41.59.51 0 1.02-.2 1.41-.59l7.78-7.78 2.81-2.81c.8-.78.8-2.07 0-2.86zM5.41 20L4 18.59l7.72-7.72 1.47 1.35L5.41 20z\"/>\n",
              "  </svg>\n",
              "      </button>\n",
              "      \n",
              "  <style>\n",
              "    .colab-df-container {\n",
              "      display:flex;\n",
              "      flex-wrap:wrap;\n",
              "      gap: 12px;\n",
              "    }\n",
              "\n",
              "    .colab-df-convert {\n",
              "      background-color: #E8F0FE;\n",
              "      border: none;\n",
              "      border-radius: 50%;\n",
              "      cursor: pointer;\n",
              "      display: none;\n",
              "      fill: #1967D2;\n",
              "      height: 32px;\n",
              "      padding: 0 0 0 0;\n",
              "      width: 32px;\n",
              "    }\n",
              "\n",
              "    .colab-df-convert:hover {\n",
              "      background-color: #E2EBFA;\n",
              "      box-shadow: 0px 1px 2px rgba(60, 64, 67, 0.3), 0px 1px 3px 1px rgba(60, 64, 67, 0.15);\n",
              "      fill: #174EA6;\n",
              "    }\n",
              "\n",
              "    [theme=dark] .colab-df-convert {\n",
              "      background-color: #3B4455;\n",
              "      fill: #D2E3FC;\n",
              "    }\n",
              "\n",
              "    [theme=dark] .colab-df-convert:hover {\n",
              "      background-color: #434B5C;\n",
              "      box-shadow: 0px 1px 3px 1px rgba(0, 0, 0, 0.15);\n",
              "      filter: drop-shadow(0px 1px 2px rgba(0, 0, 0, 0.3));\n",
              "      fill: #FFFFFF;\n",
              "    }\n",
              "  </style>\n",
              "\n",
              "      <script>\n",
              "        const buttonEl =\n",
              "          document.querySelector('#df-1529adc1-3027-49e9-84e2-b89544739611 button.colab-df-convert');\n",
              "        buttonEl.style.display =\n",
              "          google.colab.kernel.accessAllowed ? 'block' : 'none';\n",
              "\n",
              "        async function convertToInteractive(key) {\n",
              "          const element = document.querySelector('#df-1529adc1-3027-49e9-84e2-b89544739611');\n",
              "          const dataTable =\n",
              "            await google.colab.kernel.invokeFunction('convertToInteractive',\n",
              "                                                     [key], {});\n",
              "          if (!dataTable) return;\n",
              "\n",
              "          const docLinkHtml = 'Like what you see? Visit the ' +\n",
              "            '<a target=\"_blank\" href=https://colab.research.google.com/notebooks/data_table.ipynb>data table notebook</a>'\n",
              "            + ' to learn more about interactive tables.';\n",
              "          element.innerHTML = '';\n",
              "          dataTable['output_type'] = 'display_data';\n",
              "          await google.colab.output.renderOutput(dataTable, element);\n",
              "          const docLink = document.createElement('div');\n",
              "          docLink.innerHTML = docLinkHtml;\n",
              "          element.appendChild(docLink);\n",
              "        }\n",
              "      </script>\n",
              "    </div>\n",
              "  </div>\n",
              "  "
            ]
          },
          "metadata": {},
          "execution_count": 4
        }
      ]
    },
    {
      "cell_type": "code",
      "source": [
        "print(\"First 5 rows of data:\\n\") \n",
        "df.head()"
      ],
      "metadata": {
        "colab": {
          "base_uri": "https://localhost:8080/",
          "height": 241
        },
        "id": "ZutDHcrAYKbj",
        "outputId": "7be4a87b-b401-4832-a7a3-ff8a9fb6fa43"
      },
      "execution_count": 5,
      "outputs": [
        {
          "output_type": "stream",
          "name": "stdout",
          "text": [
            "First 5 rows of data:\n",
            "\n"
          ]
        },
        {
          "output_type": "execute_result",
          "data": {
            "text/plain": [
              "    age           job  marital education_qual call_type  day  mon    dur  \\\n",
              "0  58.0    management  married       tertiary   unknown  5.0  may  261.0   \n",
              "1  44.0    technician   single      secondary   unknown  5.0  may  151.0   \n",
              "2  33.0  entrepreneur  married      secondary   unknown  5.0  may   76.0   \n",
              "3  47.0   blue-collar  married        unknown   unknown  5.0  may   92.0   \n",
              "4  33.0       unknown   single        unknown   unknown  5.0  may  198.0   \n",
              "\n",
              "   num_calls prev_outcome   y  \n",
              "0        1.0      unknown  no  \n",
              "1        1.0      unknown  no  \n",
              "2        1.0      unknown  no  \n",
              "3        1.0      unknown  no  \n",
              "4        1.0      unknown  no  "
            ],
            "text/html": [
              "\n",
              "  <div id=\"df-5204408c-5d85-47de-a226-04ff3b42a1ad\">\n",
              "    <div class=\"colab-df-container\">\n",
              "      <div>\n",
              "<style scoped>\n",
              "    .dataframe tbody tr th:only-of-type {\n",
              "        vertical-align: middle;\n",
              "    }\n",
              "\n",
              "    .dataframe tbody tr th {\n",
              "        vertical-align: top;\n",
              "    }\n",
              "\n",
              "    .dataframe thead th {\n",
              "        text-align: right;\n",
              "    }\n",
              "</style>\n",
              "<table border=\"1\" class=\"dataframe\">\n",
              "  <thead>\n",
              "    <tr style=\"text-align: right;\">\n",
              "      <th></th>\n",
              "      <th>age</th>\n",
              "      <th>job</th>\n",
              "      <th>marital</th>\n",
              "      <th>education_qual</th>\n",
              "      <th>call_type</th>\n",
              "      <th>day</th>\n",
              "      <th>mon</th>\n",
              "      <th>dur</th>\n",
              "      <th>num_calls</th>\n",
              "      <th>prev_outcome</th>\n",
              "      <th>y</th>\n",
              "    </tr>\n",
              "  </thead>\n",
              "  <tbody>\n",
              "    <tr>\n",
              "      <th>0</th>\n",
              "      <td>58.0</td>\n",
              "      <td>management</td>\n",
              "      <td>married</td>\n",
              "      <td>tertiary</td>\n",
              "      <td>unknown</td>\n",
              "      <td>5.0</td>\n",
              "      <td>may</td>\n",
              "      <td>261.0</td>\n",
              "      <td>1.0</td>\n",
              "      <td>unknown</td>\n",
              "      <td>no</td>\n",
              "    </tr>\n",
              "    <tr>\n",
              "      <th>1</th>\n",
              "      <td>44.0</td>\n",
              "      <td>technician</td>\n",
              "      <td>single</td>\n",
              "      <td>secondary</td>\n",
              "      <td>unknown</td>\n",
              "      <td>5.0</td>\n",
              "      <td>may</td>\n",
              "      <td>151.0</td>\n",
              "      <td>1.0</td>\n",
              "      <td>unknown</td>\n",
              "      <td>no</td>\n",
              "    </tr>\n",
              "    <tr>\n",
              "      <th>2</th>\n",
              "      <td>33.0</td>\n",
              "      <td>entrepreneur</td>\n",
              "      <td>married</td>\n",
              "      <td>secondary</td>\n",
              "      <td>unknown</td>\n",
              "      <td>5.0</td>\n",
              "      <td>may</td>\n",
              "      <td>76.0</td>\n",
              "      <td>1.0</td>\n",
              "      <td>unknown</td>\n",
              "      <td>no</td>\n",
              "    </tr>\n",
              "    <tr>\n",
              "      <th>3</th>\n",
              "      <td>47.0</td>\n",
              "      <td>blue-collar</td>\n",
              "      <td>married</td>\n",
              "      <td>unknown</td>\n",
              "      <td>unknown</td>\n",
              "      <td>5.0</td>\n",
              "      <td>may</td>\n",
              "      <td>92.0</td>\n",
              "      <td>1.0</td>\n",
              "      <td>unknown</td>\n",
              "      <td>no</td>\n",
              "    </tr>\n",
              "    <tr>\n",
              "      <th>4</th>\n",
              "      <td>33.0</td>\n",
              "      <td>unknown</td>\n",
              "      <td>single</td>\n",
              "      <td>unknown</td>\n",
              "      <td>unknown</td>\n",
              "      <td>5.0</td>\n",
              "      <td>may</td>\n",
              "      <td>198.0</td>\n",
              "      <td>1.0</td>\n",
              "      <td>unknown</td>\n",
              "      <td>no</td>\n",
              "    </tr>\n",
              "  </tbody>\n",
              "</table>\n",
              "</div>\n",
              "      <button class=\"colab-df-convert\" onclick=\"convertToInteractive('df-5204408c-5d85-47de-a226-04ff3b42a1ad')\"\n",
              "              title=\"Convert this dataframe to an interactive table.\"\n",
              "              style=\"display:none;\">\n",
              "        \n",
              "  <svg xmlns=\"http://www.w3.org/2000/svg\" height=\"24px\"viewBox=\"0 0 24 24\"\n",
              "       width=\"24px\">\n",
              "    <path d=\"M0 0h24v24H0V0z\" fill=\"none\"/>\n",
              "    <path d=\"M18.56 5.44l.94 2.06.94-2.06 2.06-.94-2.06-.94-.94-2.06-.94 2.06-2.06.94zm-11 1L8.5 8.5l.94-2.06 2.06-.94-2.06-.94L8.5 2.5l-.94 2.06-2.06.94zm10 10l.94 2.06.94-2.06 2.06-.94-2.06-.94-.94-2.06-.94 2.06-2.06.94z\"/><path d=\"M17.41 7.96l-1.37-1.37c-.4-.4-.92-.59-1.43-.59-.52 0-1.04.2-1.43.59L10.3 9.45l-7.72 7.72c-.78.78-.78 2.05 0 2.83L4 21.41c.39.39.9.59 1.41.59.51 0 1.02-.2 1.41-.59l7.78-7.78 2.81-2.81c.8-.78.8-2.07 0-2.86zM5.41 20L4 18.59l7.72-7.72 1.47 1.35L5.41 20z\"/>\n",
              "  </svg>\n",
              "      </button>\n",
              "      \n",
              "  <style>\n",
              "    .colab-df-container {\n",
              "      display:flex;\n",
              "      flex-wrap:wrap;\n",
              "      gap: 12px;\n",
              "    }\n",
              "\n",
              "    .colab-df-convert {\n",
              "      background-color: #E8F0FE;\n",
              "      border: none;\n",
              "      border-radius: 50%;\n",
              "      cursor: pointer;\n",
              "      display: none;\n",
              "      fill: #1967D2;\n",
              "      height: 32px;\n",
              "      padding: 0 0 0 0;\n",
              "      width: 32px;\n",
              "    }\n",
              "\n",
              "    .colab-df-convert:hover {\n",
              "      background-color: #E2EBFA;\n",
              "      box-shadow: 0px 1px 2px rgba(60, 64, 67, 0.3), 0px 1px 3px 1px rgba(60, 64, 67, 0.15);\n",
              "      fill: #174EA6;\n",
              "    }\n",
              "\n",
              "    [theme=dark] .colab-df-convert {\n",
              "      background-color: #3B4455;\n",
              "      fill: #D2E3FC;\n",
              "    }\n",
              "\n",
              "    [theme=dark] .colab-df-convert:hover {\n",
              "      background-color: #434B5C;\n",
              "      box-shadow: 0px 1px 3px 1px rgba(0, 0, 0, 0.15);\n",
              "      filter: drop-shadow(0px 1px 2px rgba(0, 0, 0, 0.3));\n",
              "      fill: #FFFFFF;\n",
              "    }\n",
              "  </style>\n",
              "\n",
              "      <script>\n",
              "        const buttonEl =\n",
              "          document.querySelector('#df-5204408c-5d85-47de-a226-04ff3b42a1ad button.colab-df-convert');\n",
              "        buttonEl.style.display =\n",
              "          google.colab.kernel.accessAllowed ? 'block' : 'none';\n",
              "\n",
              "        async function convertToInteractive(key) {\n",
              "          const element = document.querySelector('#df-5204408c-5d85-47de-a226-04ff3b42a1ad');\n",
              "          const dataTable =\n",
              "            await google.colab.kernel.invokeFunction('convertToInteractive',\n",
              "                                                     [key], {});\n",
              "          if (!dataTable) return;\n",
              "\n",
              "          const docLinkHtml = 'Like what you see? Visit the ' +\n",
              "            '<a target=\"_blank\" href=https://colab.research.google.com/notebooks/data_table.ipynb>data table notebook</a>'\n",
              "            + ' to learn more about interactive tables.';\n",
              "          element.innerHTML = '';\n",
              "          dataTable['output_type'] = 'display_data';\n",
              "          await google.colab.output.renderOutput(dataTable, element);\n",
              "          const docLink = document.createElement('div');\n",
              "          docLink.innerHTML = docLinkHtml;\n",
              "          element.appendChild(docLink);\n",
              "        }\n",
              "      </script>\n",
              "    </div>\n",
              "  </div>\n",
              "  "
            ]
          },
          "metadata": {},
          "execution_count": 5
        }
      ]
    },
    {
      "cell_type": "markdown",
      "source": [
        "**print number of rows and columns in dataset**"
      ],
      "metadata": {
        "id": "oSNQrdEQYoyB"
      }
    },
    {
      "cell_type": "code",
      "source": [
        "print(\"The original dataset has {} rows and {} columns\".format(df.shape[0], df.shape[1]))"
      ],
      "metadata": {
        "colab": {
          "base_uri": "https://localhost:8080/"
        },
        "id": "5PxOoN48YskP",
        "outputId": "1a85887d-cbe7-4b2b-e725-b4aff7c9f061"
      },
      "execution_count": 6,
      "outputs": [
        {
          "output_type": "stream",
          "name": "stdout",
          "text": [
            "The original dataset has 45211 rows and 11 columns\n"
          ]
        }
      ]
    },
    {
      "cell_type": "code",
      "source": [
        "df.info()"
      ],
      "metadata": {
        "colab": {
          "base_uri": "https://localhost:8080/"
        },
        "id": "rgXj6MdOYzOH",
        "outputId": "c68a1562-e176-4398-9147-f883e5fdc9d4"
      },
      "execution_count": 7,
      "outputs": [
        {
          "output_type": "stream",
          "name": "stdout",
          "text": [
            "<class 'pandas.core.frame.DataFrame'>\n",
            "RangeIndex: 45211 entries, 0 to 45210\n",
            "Data columns (total 11 columns):\n",
            " #   Column          Non-Null Count  Dtype  \n",
            "---  ------          --------------  -----  \n",
            " 0   age             45211 non-null  float64\n",
            " 1   job             45211 non-null  object \n",
            " 2   marital         45211 non-null  object \n",
            " 3   education_qual  45211 non-null  object \n",
            " 4   call_type       45211 non-null  object \n",
            " 5   day             45211 non-null  float64\n",
            " 6   mon             45211 non-null  object \n",
            " 7   dur             45211 non-null  float64\n",
            " 8   num_calls       45211 non-null  float64\n",
            " 9   prev_outcome    45211 non-null  object \n",
            " 10  y               45211 non-null  object \n",
            "dtypes: float64(4), object(7)\n",
            "memory usage: 3.8+ MB\n"
          ]
        }
      ]
    },
    {
      "cell_type": "code",
      "source": [
        "df.describe().T"
      ],
      "metadata": {
        "colab": {
          "base_uri": "https://localhost:8080/",
          "height": 175
        },
        "id": "3sZbK_JtY0RC",
        "outputId": "e7163e00-5ec2-4d11-fe56-bc78cb8171dd"
      },
      "execution_count": 8,
      "outputs": [
        {
          "output_type": "execute_result",
          "data": {
            "text/plain": [
              "             count        mean         std   min    25%    50%    75%     max\n",
              "age        45211.0   40.936210   10.618762  18.0   33.0   39.0   48.0    95.0\n",
              "day        45211.0   15.806419    8.322476   1.0    8.0   16.0   21.0    31.0\n",
              "dur        45211.0  258.163080  257.527812   0.0  103.0  180.0  319.0  4918.0\n",
              "num_calls  45211.0    2.763841    3.098021   1.0    1.0    2.0    3.0    63.0"
            ],
            "text/html": [
              "\n",
              "  <div id=\"df-ab157862-f5ed-4130-90c1-b9e6291d5cb6\">\n",
              "    <div class=\"colab-df-container\">\n",
              "      <div>\n",
              "<style scoped>\n",
              "    .dataframe tbody tr th:only-of-type {\n",
              "        vertical-align: middle;\n",
              "    }\n",
              "\n",
              "    .dataframe tbody tr th {\n",
              "        vertical-align: top;\n",
              "    }\n",
              "\n",
              "    .dataframe thead th {\n",
              "        text-align: right;\n",
              "    }\n",
              "</style>\n",
              "<table border=\"1\" class=\"dataframe\">\n",
              "  <thead>\n",
              "    <tr style=\"text-align: right;\">\n",
              "      <th></th>\n",
              "      <th>count</th>\n",
              "      <th>mean</th>\n",
              "      <th>std</th>\n",
              "      <th>min</th>\n",
              "      <th>25%</th>\n",
              "      <th>50%</th>\n",
              "      <th>75%</th>\n",
              "      <th>max</th>\n",
              "    </tr>\n",
              "  </thead>\n",
              "  <tbody>\n",
              "    <tr>\n",
              "      <th>age</th>\n",
              "      <td>45211.0</td>\n",
              "      <td>40.936210</td>\n",
              "      <td>10.618762</td>\n",
              "      <td>18.0</td>\n",
              "      <td>33.0</td>\n",
              "      <td>39.0</td>\n",
              "      <td>48.0</td>\n",
              "      <td>95.0</td>\n",
              "    </tr>\n",
              "    <tr>\n",
              "      <th>day</th>\n",
              "      <td>45211.0</td>\n",
              "      <td>15.806419</td>\n",
              "      <td>8.322476</td>\n",
              "      <td>1.0</td>\n",
              "      <td>8.0</td>\n",
              "      <td>16.0</td>\n",
              "      <td>21.0</td>\n",
              "      <td>31.0</td>\n",
              "    </tr>\n",
              "    <tr>\n",
              "      <th>dur</th>\n",
              "      <td>45211.0</td>\n",
              "      <td>258.163080</td>\n",
              "      <td>257.527812</td>\n",
              "      <td>0.0</td>\n",
              "      <td>103.0</td>\n",
              "      <td>180.0</td>\n",
              "      <td>319.0</td>\n",
              "      <td>4918.0</td>\n",
              "    </tr>\n",
              "    <tr>\n",
              "      <th>num_calls</th>\n",
              "      <td>45211.0</td>\n",
              "      <td>2.763841</td>\n",
              "      <td>3.098021</td>\n",
              "      <td>1.0</td>\n",
              "      <td>1.0</td>\n",
              "      <td>2.0</td>\n",
              "      <td>3.0</td>\n",
              "      <td>63.0</td>\n",
              "    </tr>\n",
              "  </tbody>\n",
              "</table>\n",
              "</div>\n",
              "      <button class=\"colab-df-convert\" onclick=\"convertToInteractive('df-ab157862-f5ed-4130-90c1-b9e6291d5cb6')\"\n",
              "              title=\"Convert this dataframe to an interactive table.\"\n",
              "              style=\"display:none;\">\n",
              "        \n",
              "  <svg xmlns=\"http://www.w3.org/2000/svg\" height=\"24px\"viewBox=\"0 0 24 24\"\n",
              "       width=\"24px\">\n",
              "    <path d=\"M0 0h24v24H0V0z\" fill=\"none\"/>\n",
              "    <path d=\"M18.56 5.44l.94 2.06.94-2.06 2.06-.94-2.06-.94-.94-2.06-.94 2.06-2.06.94zm-11 1L8.5 8.5l.94-2.06 2.06-.94-2.06-.94L8.5 2.5l-.94 2.06-2.06.94zm10 10l.94 2.06.94-2.06 2.06-.94-2.06-.94-.94-2.06-.94 2.06-2.06.94z\"/><path d=\"M17.41 7.96l-1.37-1.37c-.4-.4-.92-.59-1.43-.59-.52 0-1.04.2-1.43.59L10.3 9.45l-7.72 7.72c-.78.78-.78 2.05 0 2.83L4 21.41c.39.39.9.59 1.41.59.51 0 1.02-.2 1.41-.59l7.78-7.78 2.81-2.81c.8-.78.8-2.07 0-2.86zM5.41 20L4 18.59l7.72-7.72 1.47 1.35L5.41 20z\"/>\n",
              "  </svg>\n",
              "      </button>\n",
              "      \n",
              "  <style>\n",
              "    .colab-df-container {\n",
              "      display:flex;\n",
              "      flex-wrap:wrap;\n",
              "      gap: 12px;\n",
              "    }\n",
              "\n",
              "    .colab-df-convert {\n",
              "      background-color: #E8F0FE;\n",
              "      border: none;\n",
              "      border-radius: 50%;\n",
              "      cursor: pointer;\n",
              "      display: none;\n",
              "      fill: #1967D2;\n",
              "      height: 32px;\n",
              "      padding: 0 0 0 0;\n",
              "      width: 32px;\n",
              "    }\n",
              "\n",
              "    .colab-df-convert:hover {\n",
              "      background-color: #E2EBFA;\n",
              "      box-shadow: 0px 1px 2px rgba(60, 64, 67, 0.3), 0px 1px 3px 1px rgba(60, 64, 67, 0.15);\n",
              "      fill: #174EA6;\n",
              "    }\n",
              "\n",
              "    [theme=dark] .colab-df-convert {\n",
              "      background-color: #3B4455;\n",
              "      fill: #D2E3FC;\n",
              "    }\n",
              "\n",
              "    [theme=dark] .colab-df-convert:hover {\n",
              "      background-color: #434B5C;\n",
              "      box-shadow: 0px 1px 3px 1px rgba(0, 0, 0, 0.15);\n",
              "      filter: drop-shadow(0px 1px 2px rgba(0, 0, 0, 0.3));\n",
              "      fill: #FFFFFF;\n",
              "    }\n",
              "  </style>\n",
              "\n",
              "      <script>\n",
              "        const buttonEl =\n",
              "          document.querySelector('#df-ab157862-f5ed-4130-90c1-b9e6291d5cb6 button.colab-df-convert');\n",
              "        buttonEl.style.display =\n",
              "          google.colab.kernel.accessAllowed ? 'block' : 'none';\n",
              "\n",
              "        async function convertToInteractive(key) {\n",
              "          const element = document.querySelector('#df-ab157862-f5ed-4130-90c1-b9e6291d5cb6');\n",
              "          const dataTable =\n",
              "            await google.colab.kernel.invokeFunction('convertToInteractive',\n",
              "                                                     [key], {});\n",
              "          if (!dataTable) return;\n",
              "\n",
              "          const docLinkHtml = 'Like what you see? Visit the ' +\n",
              "            '<a target=\"_blank\" href=https://colab.research.google.com/notebooks/data_table.ipynb>data table notebook</a>'\n",
              "            + ' to learn more about interactive tables.';\n",
              "          element.innerHTML = '';\n",
              "          dataTable['output_type'] = 'display_data';\n",
              "          await google.colab.output.renderOutput(dataTable, element);\n",
              "          const docLink = document.createElement('div');\n",
              "          docLink.innerHTML = docLinkHtml;\n",
              "          element.appendChild(docLink);\n",
              "        }\n",
              "      </script>\n",
              "    </div>\n",
              "  </div>\n",
              "  "
            ]
          },
          "metadata": {},
          "execution_count": 8
        }
      ]
    },
    {
      "cell_type": "markdown",
      "source": [
        "# **Data Cleaning**"
      ],
      "metadata": {
        "id": "GO7S6K_NbBTH"
      }
    },
    {
      "cell_type": "markdown",
      "source": [
        "**Checking duplicates in the data**"
      ],
      "metadata": {
        "id": "qchVaaTccAt0"
      }
    },
    {
      "cell_type": "code",
      "source": [
        "df.duplicated().sum()"
      ],
      "metadata": {
        "colab": {
          "base_uri": "https://localhost:8080/"
        },
        "id": "UW4gihxtcEJ2",
        "outputId": "7ed8679f-5962-4197-99f6-775a5cfb5175"
      },
      "execution_count": 9,
      "outputs": [
        {
          "output_type": "execute_result",
          "data": {
            "text/plain": [
              "6"
            ]
          },
          "metadata": {},
          "execution_count": 9
        }
      ]
    },
    {
      "cell_type": "code",
      "source": [
        "df[df.duplicated()]"
      ],
      "metadata": {
        "colab": {
          "base_uri": "https://localhost:8080/",
          "height": 237
        },
        "id": "7wypIYq1cIbA",
        "outputId": "802b92cd-4d23-4c36-884d-777992423533"
      },
      "execution_count": 10,
      "outputs": [
        {
          "output_type": "execute_result",
          "data": {
            "text/plain": [
              "        age          job  marital education_qual call_type   day  mon    dur  \\\n",
              "6893   34.0     services  married      secondary   unknown  28.0  may  124.0   \n",
              "8138   29.0       admin.   single      secondary   unknown   2.0  jun  121.0   \n",
              "11630  39.0  blue-collar  married        primary   unknown  19.0  jun  112.0   \n",
              "13400  36.0  blue-collar  married      secondary  cellular   9.0  jul  183.0   \n",
              "19826  36.0   management  married       tertiary  cellular   8.0  aug   75.0   \n",
              "19854  32.0   technician   single       tertiary  cellular   8.0  aug   31.0   \n",
              "\n",
              "       num_calls prev_outcome   y  \n",
              "6893         1.0      unknown  no  \n",
              "8138         4.0      unknown  no  \n",
              "11630        4.0      unknown  no  \n",
              "13400        1.0      unknown  no  \n",
              "19826        2.0      unknown  no  \n",
              "19854        2.0      unknown  no  "
            ],
            "text/html": [
              "\n",
              "  <div id=\"df-19344cf8-59bd-4b81-bec0-2d0cd964771a\">\n",
              "    <div class=\"colab-df-container\">\n",
              "      <div>\n",
              "<style scoped>\n",
              "    .dataframe tbody tr th:only-of-type {\n",
              "        vertical-align: middle;\n",
              "    }\n",
              "\n",
              "    .dataframe tbody tr th {\n",
              "        vertical-align: top;\n",
              "    }\n",
              "\n",
              "    .dataframe thead th {\n",
              "        text-align: right;\n",
              "    }\n",
              "</style>\n",
              "<table border=\"1\" class=\"dataframe\">\n",
              "  <thead>\n",
              "    <tr style=\"text-align: right;\">\n",
              "      <th></th>\n",
              "      <th>age</th>\n",
              "      <th>job</th>\n",
              "      <th>marital</th>\n",
              "      <th>education_qual</th>\n",
              "      <th>call_type</th>\n",
              "      <th>day</th>\n",
              "      <th>mon</th>\n",
              "      <th>dur</th>\n",
              "      <th>num_calls</th>\n",
              "      <th>prev_outcome</th>\n",
              "      <th>y</th>\n",
              "    </tr>\n",
              "  </thead>\n",
              "  <tbody>\n",
              "    <tr>\n",
              "      <th>6893</th>\n",
              "      <td>34.0</td>\n",
              "      <td>services</td>\n",
              "      <td>married</td>\n",
              "      <td>secondary</td>\n",
              "      <td>unknown</td>\n",
              "      <td>28.0</td>\n",
              "      <td>may</td>\n",
              "      <td>124.0</td>\n",
              "      <td>1.0</td>\n",
              "      <td>unknown</td>\n",
              "      <td>no</td>\n",
              "    </tr>\n",
              "    <tr>\n",
              "      <th>8138</th>\n",
              "      <td>29.0</td>\n",
              "      <td>admin.</td>\n",
              "      <td>single</td>\n",
              "      <td>secondary</td>\n",
              "      <td>unknown</td>\n",
              "      <td>2.0</td>\n",
              "      <td>jun</td>\n",
              "      <td>121.0</td>\n",
              "      <td>4.0</td>\n",
              "      <td>unknown</td>\n",
              "      <td>no</td>\n",
              "    </tr>\n",
              "    <tr>\n",
              "      <th>11630</th>\n",
              "      <td>39.0</td>\n",
              "      <td>blue-collar</td>\n",
              "      <td>married</td>\n",
              "      <td>primary</td>\n",
              "      <td>unknown</td>\n",
              "      <td>19.0</td>\n",
              "      <td>jun</td>\n",
              "      <td>112.0</td>\n",
              "      <td>4.0</td>\n",
              "      <td>unknown</td>\n",
              "      <td>no</td>\n",
              "    </tr>\n",
              "    <tr>\n",
              "      <th>13400</th>\n",
              "      <td>36.0</td>\n",
              "      <td>blue-collar</td>\n",
              "      <td>married</td>\n",
              "      <td>secondary</td>\n",
              "      <td>cellular</td>\n",
              "      <td>9.0</td>\n",
              "      <td>jul</td>\n",
              "      <td>183.0</td>\n",
              "      <td>1.0</td>\n",
              "      <td>unknown</td>\n",
              "      <td>no</td>\n",
              "    </tr>\n",
              "    <tr>\n",
              "      <th>19826</th>\n",
              "      <td>36.0</td>\n",
              "      <td>management</td>\n",
              "      <td>married</td>\n",
              "      <td>tertiary</td>\n",
              "      <td>cellular</td>\n",
              "      <td>8.0</td>\n",
              "      <td>aug</td>\n",
              "      <td>75.0</td>\n",
              "      <td>2.0</td>\n",
              "      <td>unknown</td>\n",
              "      <td>no</td>\n",
              "    </tr>\n",
              "    <tr>\n",
              "      <th>19854</th>\n",
              "      <td>32.0</td>\n",
              "      <td>technician</td>\n",
              "      <td>single</td>\n",
              "      <td>tertiary</td>\n",
              "      <td>cellular</td>\n",
              "      <td>8.0</td>\n",
              "      <td>aug</td>\n",
              "      <td>31.0</td>\n",
              "      <td>2.0</td>\n",
              "      <td>unknown</td>\n",
              "      <td>no</td>\n",
              "    </tr>\n",
              "  </tbody>\n",
              "</table>\n",
              "</div>\n",
              "      <button class=\"colab-df-convert\" onclick=\"convertToInteractive('df-19344cf8-59bd-4b81-bec0-2d0cd964771a')\"\n",
              "              title=\"Convert this dataframe to an interactive table.\"\n",
              "              style=\"display:none;\">\n",
              "        \n",
              "  <svg xmlns=\"http://www.w3.org/2000/svg\" height=\"24px\"viewBox=\"0 0 24 24\"\n",
              "       width=\"24px\">\n",
              "    <path d=\"M0 0h24v24H0V0z\" fill=\"none\"/>\n",
              "    <path d=\"M18.56 5.44l.94 2.06.94-2.06 2.06-.94-2.06-.94-.94-2.06-.94 2.06-2.06.94zm-11 1L8.5 8.5l.94-2.06 2.06-.94-2.06-.94L8.5 2.5l-.94 2.06-2.06.94zm10 10l.94 2.06.94-2.06 2.06-.94-2.06-.94-.94-2.06-.94 2.06-2.06.94z\"/><path d=\"M17.41 7.96l-1.37-1.37c-.4-.4-.92-.59-1.43-.59-.52 0-1.04.2-1.43.59L10.3 9.45l-7.72 7.72c-.78.78-.78 2.05 0 2.83L4 21.41c.39.39.9.59 1.41.59.51 0 1.02-.2 1.41-.59l7.78-7.78 2.81-2.81c.8-.78.8-2.07 0-2.86zM5.41 20L4 18.59l7.72-7.72 1.47 1.35L5.41 20z\"/>\n",
              "  </svg>\n",
              "      </button>\n",
              "      \n",
              "  <style>\n",
              "    .colab-df-container {\n",
              "      display:flex;\n",
              "      flex-wrap:wrap;\n",
              "      gap: 12px;\n",
              "    }\n",
              "\n",
              "    .colab-df-convert {\n",
              "      background-color: #E8F0FE;\n",
              "      border: none;\n",
              "      border-radius: 50%;\n",
              "      cursor: pointer;\n",
              "      display: none;\n",
              "      fill: #1967D2;\n",
              "      height: 32px;\n",
              "      padding: 0 0 0 0;\n",
              "      width: 32px;\n",
              "    }\n",
              "\n",
              "    .colab-df-convert:hover {\n",
              "      background-color: #E2EBFA;\n",
              "      box-shadow: 0px 1px 2px rgba(60, 64, 67, 0.3), 0px 1px 3px 1px rgba(60, 64, 67, 0.15);\n",
              "      fill: #174EA6;\n",
              "    }\n",
              "\n",
              "    [theme=dark] .colab-df-convert {\n",
              "      background-color: #3B4455;\n",
              "      fill: #D2E3FC;\n",
              "    }\n",
              "\n",
              "    [theme=dark] .colab-df-convert:hover {\n",
              "      background-color: #434B5C;\n",
              "      box-shadow: 0px 1px 3px 1px rgba(0, 0, 0, 0.15);\n",
              "      filter: drop-shadow(0px 1px 2px rgba(0, 0, 0, 0.3));\n",
              "      fill: #FFFFFF;\n",
              "    }\n",
              "  </style>\n",
              "\n",
              "      <script>\n",
              "        const buttonEl =\n",
              "          document.querySelector('#df-19344cf8-59bd-4b81-bec0-2d0cd964771a button.colab-df-convert');\n",
              "        buttonEl.style.display =\n",
              "          google.colab.kernel.accessAllowed ? 'block' : 'none';\n",
              "\n",
              "        async function convertToInteractive(key) {\n",
              "          const element = document.querySelector('#df-19344cf8-59bd-4b81-bec0-2d0cd964771a');\n",
              "          const dataTable =\n",
              "            await google.colab.kernel.invokeFunction('convertToInteractive',\n",
              "                                                     [key], {});\n",
              "          if (!dataTable) return;\n",
              "\n",
              "          const docLinkHtml = 'Like what you see? Visit the ' +\n",
              "            '<a target=\"_blank\" href=https://colab.research.google.com/notebooks/data_table.ipynb>data table notebook</a>'\n",
              "            + ' to learn more about interactive tables.';\n",
              "          element.innerHTML = '';\n",
              "          dataTable['output_type'] = 'display_data';\n",
              "          await google.colab.output.renderOutput(dataTable, element);\n",
              "          const docLink = document.createElement('div');\n",
              "          docLink.innerHTML = docLinkHtml;\n",
              "          element.appendChild(docLink);\n",
              "        }\n",
              "      </script>\n",
              "    </div>\n",
              "  </div>\n",
              "  "
            ]
          },
          "metadata": {},
          "execution_count": 10
        }
      ]
    },
    {
      "cell_type": "code",
      "source": [
        "df = df.drop_duplicates().reset_index(drop=True)"
      ],
      "metadata": {
        "id": "17Ab7zfOcVDn"
      },
      "execution_count": 11,
      "outputs": []
    },
    {
      "cell_type": "code",
      "source": [
        "df.tail()"
      ],
      "metadata": {
        "colab": {
          "base_uri": "https://localhost:8080/",
          "height": 206
        },
        "id": "lSUxaOavW8vX",
        "outputId": "62e47984-7988-44f0-d8aa-573cf09dc317"
      },
      "execution_count": 12,
      "outputs": [
        {
          "output_type": "execute_result",
          "data": {
            "text/plain": [
              "        age           job   marital education_qual  call_type   day  mon  \\\n",
              "45200  51.0    technician   married       tertiary   cellular  17.0  nov   \n",
              "45201  71.0       retired  divorced        primary   cellular  17.0  nov   \n",
              "45202  72.0       retired   married      secondary   cellular  17.0  nov   \n",
              "45203  57.0   blue-collar   married      secondary  telephone  17.0  nov   \n",
              "45204  37.0  entrepreneur   married      secondary   cellular  17.0  nov   \n",
              "\n",
              "          dur  num_calls prev_outcome    y  \n",
              "45200   977.0        3.0      unknown  yes  \n",
              "45201   456.0        2.0      unknown  yes  \n",
              "45202  1127.0        5.0      success  yes  \n",
              "45203   508.0        4.0      unknown   no  \n",
              "45204   361.0        2.0        other   no  "
            ],
            "text/html": [
              "\n",
              "  <div id=\"df-0b7f8532-41a9-49f5-946f-a1cbc07b4511\">\n",
              "    <div class=\"colab-df-container\">\n",
              "      <div>\n",
              "<style scoped>\n",
              "    .dataframe tbody tr th:only-of-type {\n",
              "        vertical-align: middle;\n",
              "    }\n",
              "\n",
              "    .dataframe tbody tr th {\n",
              "        vertical-align: top;\n",
              "    }\n",
              "\n",
              "    .dataframe thead th {\n",
              "        text-align: right;\n",
              "    }\n",
              "</style>\n",
              "<table border=\"1\" class=\"dataframe\">\n",
              "  <thead>\n",
              "    <tr style=\"text-align: right;\">\n",
              "      <th></th>\n",
              "      <th>age</th>\n",
              "      <th>job</th>\n",
              "      <th>marital</th>\n",
              "      <th>education_qual</th>\n",
              "      <th>call_type</th>\n",
              "      <th>day</th>\n",
              "      <th>mon</th>\n",
              "      <th>dur</th>\n",
              "      <th>num_calls</th>\n",
              "      <th>prev_outcome</th>\n",
              "      <th>y</th>\n",
              "    </tr>\n",
              "  </thead>\n",
              "  <tbody>\n",
              "    <tr>\n",
              "      <th>45200</th>\n",
              "      <td>51.0</td>\n",
              "      <td>technician</td>\n",
              "      <td>married</td>\n",
              "      <td>tertiary</td>\n",
              "      <td>cellular</td>\n",
              "      <td>17.0</td>\n",
              "      <td>nov</td>\n",
              "      <td>977.0</td>\n",
              "      <td>3.0</td>\n",
              "      <td>unknown</td>\n",
              "      <td>yes</td>\n",
              "    </tr>\n",
              "    <tr>\n",
              "      <th>45201</th>\n",
              "      <td>71.0</td>\n",
              "      <td>retired</td>\n",
              "      <td>divorced</td>\n",
              "      <td>primary</td>\n",
              "      <td>cellular</td>\n",
              "      <td>17.0</td>\n",
              "      <td>nov</td>\n",
              "      <td>456.0</td>\n",
              "      <td>2.0</td>\n",
              "      <td>unknown</td>\n",
              "      <td>yes</td>\n",
              "    </tr>\n",
              "    <tr>\n",
              "      <th>45202</th>\n",
              "      <td>72.0</td>\n",
              "      <td>retired</td>\n",
              "      <td>married</td>\n",
              "      <td>secondary</td>\n",
              "      <td>cellular</td>\n",
              "      <td>17.0</td>\n",
              "      <td>nov</td>\n",
              "      <td>1127.0</td>\n",
              "      <td>5.0</td>\n",
              "      <td>success</td>\n",
              "      <td>yes</td>\n",
              "    </tr>\n",
              "    <tr>\n",
              "      <th>45203</th>\n",
              "      <td>57.0</td>\n",
              "      <td>blue-collar</td>\n",
              "      <td>married</td>\n",
              "      <td>secondary</td>\n",
              "      <td>telephone</td>\n",
              "      <td>17.0</td>\n",
              "      <td>nov</td>\n",
              "      <td>508.0</td>\n",
              "      <td>4.0</td>\n",
              "      <td>unknown</td>\n",
              "      <td>no</td>\n",
              "    </tr>\n",
              "    <tr>\n",
              "      <th>45204</th>\n",
              "      <td>37.0</td>\n",
              "      <td>entrepreneur</td>\n",
              "      <td>married</td>\n",
              "      <td>secondary</td>\n",
              "      <td>cellular</td>\n",
              "      <td>17.0</td>\n",
              "      <td>nov</td>\n",
              "      <td>361.0</td>\n",
              "      <td>2.0</td>\n",
              "      <td>other</td>\n",
              "      <td>no</td>\n",
              "    </tr>\n",
              "  </tbody>\n",
              "</table>\n",
              "</div>\n",
              "      <button class=\"colab-df-convert\" onclick=\"convertToInteractive('df-0b7f8532-41a9-49f5-946f-a1cbc07b4511')\"\n",
              "              title=\"Convert this dataframe to an interactive table.\"\n",
              "              style=\"display:none;\">\n",
              "        \n",
              "  <svg xmlns=\"http://www.w3.org/2000/svg\" height=\"24px\"viewBox=\"0 0 24 24\"\n",
              "       width=\"24px\">\n",
              "    <path d=\"M0 0h24v24H0V0z\" fill=\"none\"/>\n",
              "    <path d=\"M18.56 5.44l.94 2.06.94-2.06 2.06-.94-2.06-.94-.94-2.06-.94 2.06-2.06.94zm-11 1L8.5 8.5l.94-2.06 2.06-.94-2.06-.94L8.5 2.5l-.94 2.06-2.06.94zm10 10l.94 2.06.94-2.06 2.06-.94-2.06-.94-.94-2.06-.94 2.06-2.06.94z\"/><path d=\"M17.41 7.96l-1.37-1.37c-.4-.4-.92-.59-1.43-.59-.52 0-1.04.2-1.43.59L10.3 9.45l-7.72 7.72c-.78.78-.78 2.05 0 2.83L4 21.41c.39.39.9.59 1.41.59.51 0 1.02-.2 1.41-.59l7.78-7.78 2.81-2.81c.8-.78.8-2.07 0-2.86zM5.41 20L4 18.59l7.72-7.72 1.47 1.35L5.41 20z\"/>\n",
              "  </svg>\n",
              "      </button>\n",
              "      \n",
              "  <style>\n",
              "    .colab-df-container {\n",
              "      display:flex;\n",
              "      flex-wrap:wrap;\n",
              "      gap: 12px;\n",
              "    }\n",
              "\n",
              "    .colab-df-convert {\n",
              "      background-color: #E8F0FE;\n",
              "      border: none;\n",
              "      border-radius: 50%;\n",
              "      cursor: pointer;\n",
              "      display: none;\n",
              "      fill: #1967D2;\n",
              "      height: 32px;\n",
              "      padding: 0 0 0 0;\n",
              "      width: 32px;\n",
              "    }\n",
              "\n",
              "    .colab-df-convert:hover {\n",
              "      background-color: #E2EBFA;\n",
              "      box-shadow: 0px 1px 2px rgba(60, 64, 67, 0.3), 0px 1px 3px 1px rgba(60, 64, 67, 0.15);\n",
              "      fill: #174EA6;\n",
              "    }\n",
              "\n",
              "    [theme=dark] .colab-df-convert {\n",
              "      background-color: #3B4455;\n",
              "      fill: #D2E3FC;\n",
              "    }\n",
              "\n",
              "    [theme=dark] .colab-df-convert:hover {\n",
              "      background-color: #434B5C;\n",
              "      box-shadow: 0px 1px 3px 1px rgba(0, 0, 0, 0.15);\n",
              "      filter: drop-shadow(0px 1px 2px rgba(0, 0, 0, 0.3));\n",
              "      fill: #FFFFFF;\n",
              "    }\n",
              "  </style>\n",
              "\n",
              "      <script>\n",
              "        const buttonEl =\n",
              "          document.querySelector('#df-0b7f8532-41a9-49f5-946f-a1cbc07b4511 button.colab-df-convert');\n",
              "        buttonEl.style.display =\n",
              "          google.colab.kernel.accessAllowed ? 'block' : 'none';\n",
              "\n",
              "        async function convertToInteractive(key) {\n",
              "          const element = document.querySelector('#df-0b7f8532-41a9-49f5-946f-a1cbc07b4511');\n",
              "          const dataTable =\n",
              "            await google.colab.kernel.invokeFunction('convertToInteractive',\n",
              "                                                     [key], {});\n",
              "          if (!dataTable) return;\n",
              "\n",
              "          const docLinkHtml = 'Like what you see? Visit the ' +\n",
              "            '<a target=\"_blank\" href=https://colab.research.google.com/notebooks/data_table.ipynb>data table notebook</a>'\n",
              "            + ' to learn more about interactive tables.';\n",
              "          element.innerHTML = '';\n",
              "          dataTable['output_type'] = 'display_data';\n",
              "          await google.colab.output.renderOutput(dataTable, element);\n",
              "          const docLink = document.createElement('div');\n",
              "          docLink.innerHTML = docLinkHtml;\n",
              "          element.appendChild(docLink);\n",
              "        }\n",
              "      </script>\n",
              "    </div>\n",
              "  </div>\n",
              "  "
            ]
          },
          "metadata": {},
          "execution_count": 12
        }
      ]
    },
    {
      "cell_type": "code",
      "source": [
        "print(\"Now the dataset has {} rows and {} columns after dropping duplicates\".format(df.shape[0], df.shape[1]))"
      ],
      "metadata": {
        "colab": {
          "base_uri": "https://localhost:8080/"
        },
        "id": "WhcAbtsZcbNb",
        "outputId": "aaba9cfb-fa07-46ed-c2aa-77350214a5cd"
      },
      "execution_count": 13,
      "outputs": [
        {
          "output_type": "stream",
          "name": "stdout",
          "text": [
            "Now the dataset has 45205 rows and 11 columns after dropping duplicates\n"
          ]
        }
      ]
    },
    {
      "cell_type": "markdown",
      "source": [
        "# **Target column**"
      ],
      "metadata": {
        "id": "kiAzt_XuJ94j"
      }
    },
    {
      "cell_type": "code",
      "source": [
        "df.rename(columns = {'y':'insurance_stat'}, inplace = True)"
      ],
      "metadata": {
        "id": "WKIdZaTJKB9s"
      },
      "execution_count": 14,
      "outputs": []
    },
    {
      "cell_type": "code",
      "source": [
        "df.columns"
      ],
      "metadata": {
        "colab": {
          "base_uri": "https://localhost:8080/"
        },
        "id": "Sz_wXtz7KFtl",
        "outputId": "ddc7c6d0-4fa8-453d-c675-82345ba307ed"
      },
      "execution_count": 15,
      "outputs": [
        {
          "output_type": "execute_result",
          "data": {
            "text/plain": [
              "Index(['age', 'job', 'marital', 'education_qual', 'call_type', 'day', 'mon',\n",
              "       'dur', 'num_calls', 'prev_outcome', 'insurance_stat'],\n",
              "      dtype='object')"
            ]
          },
          "metadata": {},
          "execution_count": 15
        }
      ]
    },
    {
      "cell_type": "code",
      "source": [
        "target_count = df['insurance_stat'].value_counts()\n",
        "print('Class No:', target_count[0])\n",
        "print('Class yes:', target_count[1])\n",
        "print(\"The percentage of data where insurance is not given:\", ((df['insurance_stat']=='no').sum()/df.shape[0])*100)"
      ],
      "metadata": {
        "colab": {
          "base_uri": "https://localhost:8080/"
        },
        "id": "n_88v91XKJ0K",
        "outputId": "f5c860aa-1d4a-48df-e336-5641ecbeca20"
      },
      "execution_count": 16,
      "outputs": [
        {
          "output_type": "stream",
          "name": "stdout",
          "text": [
            "Class No: 39916\n",
            "Class yes: 5289\n",
            "The percentage of data where insurance is not given: 88.29996681782988\n"
          ]
        }
      ]
    },
    {
      "cell_type": "code",
      "source": [
        "sns.countplot(df['insurance_stat'])\n",
        "plt.title(\"Countplot of target variable\")"
      ],
      "metadata": {
        "colab": {
          "base_uri": "https://localhost:8080/",
          "height": 368
        },
        "id": "CTwBzL5gc1Lw",
        "outputId": "f65f41a1-a043-4dcc-d1df-5b11a9e02b92"
      },
      "execution_count": 17,
      "outputs": [
        {
          "output_type": "stream",
          "name": "stderr",
          "text": [
            "/usr/local/lib/python3.7/dist-packages/seaborn/_decorators.py:43: FutureWarning: Pass the following variable as a keyword arg: x. From version 0.12, the only valid positional argument will be `data`, and passing other arguments without an explicit keyword will result in an error or misinterpretation.\n",
            "  FutureWarning\n"
          ]
        },
        {
          "output_type": "execute_result",
          "data": {
            "text/plain": [
              "Text(0.5, 1.0, 'Countplot of target variable')"
            ]
          },
          "metadata": {},
          "execution_count": 17
        },
        {
          "output_type": "display_data",
          "data": {
            "text/plain": [
              "<Figure size 432x288 with 1 Axes>"
            ],
            "image/png": "[encoded data removed]"
          },
          "metadata": {
            "needs_background": "light"
          }
        }
      ]
    },
    {
      "cell_type": "markdown",
      "source": [
        "We can see that the data is imbalanced. where 88 percent of data belongs to one class."
      ],
      "metadata": {
        "id": "hd45hVXxdF1O"
      }
    },
    {
      "cell_type": "markdown",
      "source": [
        "# **age**"
      ],
      "metadata": {
        "id": "guS1-OzBbFL9"
      }
    },
    {
      "cell_type": "code",
      "source": [
        "df['age'][0]"
      ],
      "metadata": {
        "colab": {
          "base_uri": "https://localhost:8080/"
        },
        "id": "_kahDWcibEoX",
        "outputId": "58c69dd3-348b-49aa-973f-3f4e306be428"
      },
      "execution_count": 18,
      "outputs": [
        {
          "output_type": "execute_result",
          "data": {
            "text/plain": [
              "58.0"
            ]
          },
          "metadata": {},
          "execution_count": 18
        }
      ]
    },
    {
      "cell_type": "code",
      "source": [
        "df['age'].isnull().sum() # No null values"
      ],
      "metadata": {
        "colab": {
          "base_uri": "https://localhost:8080/"
        },
        "id": "GClkzg3vShgL",
        "outputId": "e1d9ef8e-6d42-4654-a48c-9513136676f0"
      },
      "execution_count": 19,
      "outputs": [
        {
          "output_type": "execute_result",
          "data": {
            "text/plain": [
              "0"
            ]
          },
          "metadata": {},
          "execution_count": 19
        }
      ]
    },
    {
      "cell_type": "markdown",
      "source": [
        "**Converting datatype to integer**"
      ],
      "metadata": {
        "id": "ntWcA-qDbdun"
      }
    },
    {
      "cell_type": "code",
      "source": [
        "df['age'] = df['age'].astype('int64')"
      ],
      "metadata": {
        "id": "zX5COECDbWSk"
      },
      "execution_count": 20,
      "outputs": []
    },
    {
      "cell_type": "code",
      "source": [
        "df['age'].unique()"
      ],
      "metadata": {
        "colab": {
          "base_uri": "https://localhost:8080/"
        },
        "id": "aDUxfW_dboie",
        "outputId": "188e8d34-a59b-4ad3-ab65-0f87c656fea1"
      },
      "execution_count": 21,
      "outputs": [
        {
          "output_type": "execute_result",
          "data": {
            "text/plain": [
              "array([58, 44, 33, 47, 35, 28, 42, 43, 41, 29, 53, 57, 51, 45, 60, 56, 32,\n",
              "       25, 40, 39, 52, 46, 36, 49, 59, 37, 50, 54, 55, 48, 24, 38, 31, 30,\n",
              "       27, 34, 23, 26, 61, 22, 21, 20, 66, 62, 83, 75, 67, 70, 65, 68, 64,\n",
              "       69, 72, 71, 19, 76, 85, 63, 90, 82, 73, 74, 78, 80, 94, 79, 77, 86,\n",
              "       95, 81, 18, 89, 84, 87, 92, 93, 88])"
            ]
          },
          "metadata": {},
          "execution_count": 21
        }
      ]
    },
    {
      "cell_type": "code",
      "source": [
        "len(df['age'].unique())"
      ],
      "metadata": {
        "colab": {
          "base_uri": "https://localhost:8080/"
        },
        "id": "dnRrT4j7bpvj",
        "outputId": "af9b5fb7-5b9a-4653-f589-8446d54f86d8"
      },
      "execution_count": 22,
      "outputs": [
        {
          "output_type": "execute_result",
          "data": {
            "text/plain": [
              "77"
            ]
          },
          "metadata": {},
          "execution_count": 22
        }
      ]
    },
    {
      "cell_type": "code",
      "source": [
        "df['age'].describe()"
      ],
      "metadata": {
        "colab": {
          "base_uri": "https://localhost:8080/"
        },
        "id": "KxyGijP6byR-",
        "outputId": "f0ecc4cb-aae1-4f81-86fb-5cc6f19ef335"
      },
      "execution_count": 23,
      "outputs": [
        {
          "output_type": "execute_result",
          "data": {
            "text/plain": [
              "count    45205.000000\n",
              "mean        40.937087\n",
              "std         10.619130\n",
              "min         18.000000\n",
              "25%         33.000000\n",
              "50%         39.000000\n",
              "75%         48.000000\n",
              "max         95.000000\n",
              "Name: age, dtype: float64"
            ]
          },
          "metadata": {},
          "execution_count": 23
        }
      ]
    },
    {
      "cell_type": "code",
      "source": [
        "sns.boxplot('age',data=df)\n",
        "plt.title(\"Visualising outliers\",color='m',size=15)"
      ],
      "metadata": {
        "colab": {
          "base_uri": "https://localhost:8080/",
          "height": 369
        },
        "id": "TfIqW9qNc2K_",
        "outputId": "da65beba-c086-4ee3-eab8-518ffdb149c8"
      },
      "execution_count": 24,
      "outputs": [
        {
          "output_type": "stream",
          "name": "stderr",
          "text": [
            "/usr/local/lib/python3.7/dist-packages/seaborn/_decorators.py:43: FutureWarning: Pass the following variable as a keyword arg: x. From version 0.12, the only valid positional argument will be `data`, and passing other arguments without an explicit keyword will result in an error or misinterpretation.\n",
            "  FutureWarning\n"
          ]
        },
        {
          "output_type": "execute_result",
          "data": {
            "text/plain": [
              "Text(0.5, 1.0, 'Visualising outliers')"
            ]
          },
          "metadata": {},
          "execution_count": 24
        },
        {
          "output_type": "display_data",
          "data": {
            "text/plain": [
              "<Figure size 432x288 with 1 Axes>"
            ],
            "image/png": "[encoded data removed]"
          },
          "metadata": {
            "needs_background": "light"
          }
        }
      ]
    },
    {
      "cell_type": "code",
      "source": [
        "#Finding the IQR\n",
        "percentile25 = df['age'].quantile(0.25)\n",
        "percentile75 = df['age'].quantile(0.75)\n",
        "iqr=percentile75 - percentile25\n",
        "print(iqr)\n",
        "print(percentile25)\n",
        "print(percentile75)"
      ],
      "metadata": {
        "id": "GoBFAJIBdWQ_",
        "colab": {
          "base_uri": "https://localhost:8080/"
        },
        "outputId": "a964ecf2-8c14-413e-ca8b-91e5d8426a81"
      },
      "execution_count": 25,
      "outputs": [
        {
          "output_type": "stream",
          "name": "stdout",
          "text": [
            "15.0\n",
            "33.0\n",
            "48.0\n"
          ]
        }
      ]
    },
    {
      "cell_type": "code",
      "source": [
        "#Finding upper and lower limit\n",
        "upper_limit = percentile75 + 1.5 * iqr\n",
        "lower_limit = percentile25 - 1.5 * iqr\n",
        "print(upper_limit)\n",
        "print(lower_limit)"
      ],
      "metadata": {
        "colab": {
          "base_uri": "https://localhost:8080/"
        },
        "id": "M4j6peaad5XG",
        "outputId": "e8561e49-45c4-45cc-efc1-4da674d1de7e"
      },
      "execution_count": 26,
      "outputs": [
        {
          "output_type": "stream",
          "name": "stdout",
          "text": [
            "70.5\n",
            "10.5\n"
          ]
        }
      ]
    },
    {
      "cell_type": "code",
      "source": [
        "df[df['age'] < lower_limit]"
      ],
      "metadata": {
        "colab": {
          "base_uri": "https://localhost:8080/",
          "height": 49
        },
        "id": "D53EyBNaf0PQ",
        "outputId": "610f6cba-982d-480c-8621-12bf24b0d016"
      },
      "execution_count": 27,
      "outputs": [
        {
          "output_type": "execute_result",
          "data": {
            "text/plain": [
              "Empty DataFrame\n",
              "Columns: [age, job, marital, education_qual, call_type, day, mon, dur, num_calls, prev_outcome, insurance_stat]\n",
              "Index: []"
            ],
            "text/html": [
              "\n",
              "  <div id=\"df-0b38c9d4-8647-4300-ab03-1f05c00e720c\">\n",
              "    <div class=\"colab-df-container\">\n",
              "      <div>\n",
              "<style scoped>\n",
              "    .dataframe tbody tr th:only-of-type {\n",
              "        vertical-align: middle;\n",
              "    }\n",
              "\n",
              "    .dataframe tbody tr th {\n",
              "        vertical-align: top;\n",
              "    }\n",
              "\n",
              "    .dataframe thead th {\n",
              "        text-align: right;\n",
              "    }\n",
              "</style>\n",
              "<table border=\"1\" class=\"dataframe\">\n",
              "  <thead>\n",
              "    <tr style=\"text-align: right;\">\n",
              "      <th></th>\n",
              "      <th>age</th>\n",
              "      <th>job</th>\n",
              "      <th>marital</th>\n",
              "      <th>education_qual</th>\n",
              "      <th>call_type</th>\n",
              "      <th>day</th>\n",
              "      <th>mon</th>\n",
              "      <th>dur</th>\n",
              "      <th>num_calls</th>\n",
              "      <th>prev_outcome</th>\n",
              "      <th>insurance_stat</th>\n",
              "    </tr>\n",
              "  </thead>\n",
              "  <tbody>\n",
              "  </tbody>\n",
              "</table>\n",
              "</div>\n",
              "      <button class=\"colab-df-convert\" onclick=\"convertToInteractive('df-0b38c9d4-8647-4300-ab03-1f05c00e720c')\"\n",
              "              title=\"Convert this dataframe to an interactive table.\"\n",
              "              style=\"display:none;\">\n",
              "        \n",
              "  <svg xmlns=\"http://www.w3.org/2000/svg\" height=\"24px\"viewBox=\"0 0 24 24\"\n",
              "       width=\"24px\">\n",
              "    <path d=\"M0 0h24v24H0V0z\" fill=\"none\"/>\n",
              "    <path d=\"M18.56 5.44l.94 2.06.94-2.06 2.06-.94-2.06-.94-.94-2.06-.94 2.06-2.06.94zm-11 1L8.5 8.5l.94-2.06 2.06-.94-2.06-.94L8.5 2.5l-.94 2.06-2.06.94zm10 10l.94 2.06.94-2.06 2.06-.94-2.06-.94-.94-2.06-.94 2.06-2.06.94z\"/><path d=\"M17.41 7.96l-1.37-1.37c-.4-.4-.92-.59-1.43-.59-.52 0-1.04.2-1.43.59L10.3 9.45l-7.72 7.72c-.78.78-.78 2.05 0 2.83L4 21.41c.39.39.9.59 1.41.59.51 0 1.02-.2 1.41-.59l7.78-7.78 2.81-2.81c.8-.78.8-2.07 0-2.86zM5.41 20L4 18.59l7.72-7.72 1.47 1.35L5.41 20z\"/>\n",
              "  </svg>\n",
              "      </button>\n",
              "      \n",
              "  <style>\n",
              "    .colab-df-container {\n",
              "      display:flex;\n",
              "      flex-wrap:wrap;\n",
              "      gap: 12px;\n",
              "    }\n",
              "\n",
              "    .colab-df-convert {\n",
              "      background-color: #E8F0FE;\n",
              "      border: none;\n",
              "      border-radius: 50%;\n",
              "      cursor: pointer;\n",
              "      display: none;\n",
              "      fill: #1967D2;\n",
              "      height: 32px;\n",
              "      padding: 0 0 0 0;\n",
              "      width: 32px;\n",
              "    }\n",
              "\n",
              "    .colab-df-convert:hover {\n",
              "      background-color: #E2EBFA;\n",
              "      box-shadow: 0px 1px 2px rgba(60, 64, 67, 0.3), 0px 1px 3px 1px rgba(60, 64, 67, 0.15);\n",
              "      fill: #174EA6;\n",
              "    }\n",
              "\n",
              "    [theme=dark] .colab-df-convert {\n",
              "      background-color: #3B4455;\n",
              "      fill: #D2E3FC;\n",
              "    }\n",
              "\n",
              "    [theme=dark] .colab-df-convert:hover {\n",
              "      background-color: #434B5C;\n",
              "      box-shadow: 0px 1px 3px 1px rgba(0, 0, 0, 0.15);\n",
              "      filter: drop-shadow(0px 1px 2px rgba(0, 0, 0, 0.3));\n",
              "      fill: #FFFFFF;\n",
              "    }\n",
              "  </style>\n",
              "\n",
              "      <script>\n",
              "        const buttonEl =\n",
              "          document.querySelector('#df-0b38c9d4-8647-4300-ab03-1f05c00e720c button.colab-df-convert');\n",
              "        buttonEl.style.display =\n",
              "          google.colab.kernel.accessAllowed ? 'block' : 'none';\n",
              "\n",
              "        async function convertToInteractive(key) {\n",
              "          const element = document.querySelector('#df-0b38c9d4-8647-4300-ab03-1f05c00e720c');\n",
              "          const dataTable =\n",
              "            await google.colab.kernel.invokeFunction('convertToInteractive',\n",
              "                                                     [key], {});\n",
              "          if (!dataTable) return;\n",
              "\n",
              "          const docLinkHtml = 'Like what you see? Visit the ' +\n",
              "            '<a target=\"_blank\" href=https://colab.research.google.com/notebooks/data_table.ipynb>data table notebook</a>'\n",
              "            + ' to learn more about interactive tables.';\n",
              "          element.innerHTML = '';\n",
              "          dataTable['output_type'] = 'display_data';\n",
              "          await google.colab.output.renderOutput(dataTable, element);\n",
              "          const docLink = document.createElement('div');\n",
              "          docLink.innerHTML = docLinkHtml;\n",
              "          element.appendChild(docLink);\n",
              "        }\n",
              "      </script>\n",
              "    </div>\n",
              "  </div>\n",
              "  "
            ]
          },
          "metadata": {},
          "execution_count": 27
        }
      ]
    },
    {
      "cell_type": "code",
      "source": [
        "df[df['age']>71]"
      ],
      "metadata": {
        "colab": {
          "base_uri": "https://localhost:8080/",
          "height": 424
        },
        "id": "spiFBCrWeUI7",
        "outputId": "1879cb80-298c-4cb7-c11d-b65fbb455a22"
      },
      "execution_count": 28,
      "outputs": [
        {
          "output_type": "execute_result",
          "data": {
            "text/plain": [
              "       age      job   marital education_qual  call_type   day  mon     dur  \\\n",
              "29152   83  retired   married        primary  telephone   2.0  feb   912.0   \n",
              "29255   75  retired  divorced        primary   cellular   2.0  feb   294.0   \n",
              "29257   75  retired   married        primary   cellular   2.0  feb   149.0   \n",
              "29316   83  retired   married       tertiary   cellular   2.0  feb   283.0   \n",
              "29859   75  retired  divorced        primary   cellular   4.0  feb   136.0   \n",
              "...    ...      ...       ...            ...        ...   ...  ...     ...   \n",
              "45112   78  retired   married        primary   cellular  26.0  oct   150.0   \n",
              "45135   77  unknown   married        unknown  telephone   8.0  nov   207.0   \n",
              "45185   75  retired  divorced       tertiary   cellular  16.0  nov   262.0   \n",
              "45198   73  retired   married      secondary   cellular  17.0  nov   300.0   \n",
              "45202   72  retired   married      secondary   cellular  17.0  nov  1127.0   \n",
              "\n",
              "       num_calls prev_outcome insurance_stat  \n",
              "29152        1.0      unknown             no  \n",
              "29255        1.0      unknown             no  \n",
              "29257        1.0      unknown             no  \n",
              "29316        2.0      unknown             no  \n",
              "29859        3.0      unknown            yes  \n",
              "...          ...          ...            ...  \n",
              "45112        1.0        other             no  \n",
              "45135        1.0      success             no  \n",
              "45185        1.0      failure            yes  \n",
              "45198        1.0      failure            yes  \n",
              "45202        5.0      success            yes  \n",
              "\n",
              "[433 rows x 11 columns]"
            ],
            "text/html": [
              "\n",
              "  <div id=\"df-d7945cf9-5f05-4ef1-9d0c-556060a4e20b\">\n",
              "    <div class=\"colab-df-container\">\n",
              "      <div>\n",
              "<style scoped>\n",
              "    .dataframe tbody tr th:only-of-type {\n",
              "        vertical-align: middle;\n",
              "    }\n",
              "\n",
              "    .dataframe tbody tr th {\n",
              "        vertical-align: top;\n",
              "    }\n",
              "\n",
              "    .dataframe thead th {\n",
              "        text-align: right;\n",
              "    }\n",
              "</style>\n",
              "<table border=\"1\" class=\"dataframe\">\n",
              "  <thead>\n",
              "    <tr style=\"text-align: right;\">\n",
              "      <th></th>\n",
              "      <th>age</th>\n",
              "      <th>job</th>\n",
              "      <th>marital</th>\n",
              "      <th>education_qual</th>\n",
              "      <th>call_type</th>\n",
              "      <th>day</th>\n",
              "      <th>mon</th>\n",
              "      <th>dur</th>\n",
              "      <th>num_calls</th>\n",
              "      <th>prev_outcome</th>\n",
              "      <th>insurance_stat</th>\n",
              "    </tr>\n",
              "  </thead>\n",
              "  <tbody>\n",
              "    <tr>\n",
              "      <th>29152</th>\n",
              "      <td>83</td>\n",
              "      <td>retired</td>\n",
              "      <td>married</td>\n",
              "      <td>primary</td>\n",
              "      <td>telephone</td>\n",
              "      <td>2.0</td>\n",
              "      <td>feb</td>\n",
              "      <td>912.0</td>\n",
              "      <td>1.0</td>\n",
              "      <td>unknown</td>\n",
              "      <td>no</td>\n",
              "    </tr>\n",
              "    <tr>\n",
              "      <th>29255</th>\n",
              "      <td>75</td>\n",
              "      <td>retired</td>\n",
              "      <td>divorced</td>\n",
              "      <td>primary</td>\n",
              "      <td>cellular</td>\n",
              "      <td>2.0</td>\n",
              "      <td>feb</td>\n",
              "      <td>294.0</td>\n",
              "      <td>1.0</td>\n",
              "      <td>unknown</td>\n",
              "      <td>no</td>\n",
              "    </tr>\n",
              "    <tr>\n",
              "      <th>29257</th>\n",
              "      <td>75</td>\n",
              "      <td>retired</td>\n",
              "      <td>married</td>\n",
              "      <td>primary</td>\n",
              "      <td>cellular</td>\n",
              "      <td>2.0</td>\n",
              "      <td>feb</td>\n",
              "      <td>149.0</td>\n",
              "      <td>1.0</td>\n",
              "      <td>unknown</td>\n",
              "      <td>no</td>\n",
              "    </tr>\n",
              "    <tr>\n",
              "      <th>29316</th>\n",
              "      <td>83</td>\n",
              "      <td>retired</td>\n",
              "      <td>married</td>\n",
              "      <td>tertiary</td>\n",
              "      <td>cellular</td>\n",
              "      <td>2.0</td>\n",
              "      <td>feb</td>\n",
              "      <td>283.0</td>\n",
              "      <td>2.0</td>\n",
              "      <td>unknown</td>\n",
              "      <td>no</td>\n",
              "    </tr>\n",
              "    <tr>\n",
              "      <th>29859</th>\n",
              "      <td>75</td>\n",
              "      <td>retired</td>\n",
              "      <td>divorced</td>\n",
              "      <td>primary</td>\n",
              "      <td>cellular</td>\n",
              "      <td>4.0</td>\n",
              "      <td>feb</td>\n",
              "      <td>136.0</td>\n",
              "      <td>3.0</td>\n",
              "      <td>unknown</td>\n",
              "      <td>yes</td>\n",
              "    </tr>\n",
              "    <tr>\n",
              "      <th>...</th>\n",
              "      <td>...</td>\n",
              "      <td>...</td>\n",
              "      <td>...</td>\n",
              "      <td>...</td>\n",
              "      <td>...</td>\n",
              "      <td>...</td>\n",
              "      <td>...</td>\n",
              "      <td>...</td>\n",
              "      <td>...</td>\n",
              "      <td>...</td>\n",
              "      <td>...</td>\n",
              "    </tr>\n",
              "    <tr>\n",
              "      <th>45112</th>\n",
              "      <td>78</td>\n",
              "      <td>retired</td>\n",
              "      <td>married</td>\n",
              "      <td>primary</td>\n",
              "      <td>cellular</td>\n",
              "      <td>26.0</td>\n",
              "      <td>oct</td>\n",
              "      <td>150.0</td>\n",
              "      <td>1.0</td>\n",
              "      <td>other</td>\n",
              "      <td>no</td>\n",
              "    </tr>\n",
              "    <tr>\n",
              "      <th>45135</th>\n",
              "      <td>77</td>\n",
              "      <td>unknown</td>\n",
              "      <td>married</td>\n",
              "      <td>unknown</td>\n",
              "      <td>telephone</td>\n",
              "      <td>8.0</td>\n",
              "      <td>nov</td>\n",
              "      <td>207.0</td>\n",
              "      <td>1.0</td>\n",
              "      <td>success</td>\n",
              "      <td>no</td>\n",
              "    </tr>\n",
              "    <tr>\n",
              "      <th>45185</th>\n",
              "      <td>75</td>\n",
              "      <td>retired</td>\n",
              "      <td>divorced</td>\n",
              "      <td>tertiary</td>\n",
              "      <td>cellular</td>\n",
              "      <td>16.0</td>\n",
              "      <td>nov</td>\n",
              "      <td>262.0</td>\n",
              "      <td>1.0</td>\n",
              "      <td>failure</td>\n",
              "      <td>yes</td>\n",
              "    </tr>\n",
              "    <tr>\n",
              "      <th>45198</th>\n",
              "      <td>73</td>\n",
              "      <td>retired</td>\n",
              "      <td>married</td>\n",
              "      <td>secondary</td>\n",
              "      <td>cellular</td>\n",
              "      <td>17.0</td>\n",
              "      <td>nov</td>\n",
              "      <td>300.0</td>\n",
              "      <td>1.0</td>\n",
              "      <td>failure</td>\n",
              "      <td>yes</td>\n",
              "    </tr>\n",
              "    <tr>\n",
              "      <th>45202</th>\n",
              "      <td>72</td>\n",
              "      <td>retired</td>\n",
              "      <td>married</td>\n",
              "      <td>secondary</td>\n",
              "      <td>cellular</td>\n",
              "      <td>17.0</td>\n",
              "      <td>nov</td>\n",
              "      <td>1127.0</td>\n",
              "      <td>5.0</td>\n",
              "      <td>success</td>\n",
              "      <td>yes</td>\n",
              "    </tr>\n",
              "  </tbody>\n",
              "</table>\n",
              "<p>433 rows × 11 columns</p>\n",
              "</div>\n",
              "      <button class=\"colab-df-convert\" onclick=\"convertToInteractive('df-d7945cf9-5f05-4ef1-9d0c-556060a4e20b')\"\n",
              "              title=\"Convert this dataframe to an interactive table.\"\n",
              "              style=\"display:none;\">\n",
              "        \n",
              "  <svg xmlns=\"http://www.w3.org/2000/svg\" height=\"24px\"viewBox=\"0 0 24 24\"\n",
              "       width=\"24px\">\n",
              "    <path d=\"M0 0h24v24H0V0z\" fill=\"none\"/>\n",
              "    <path d=\"M18.56 5.44l.94 2.06.94-2.06 2.06-.94-2.06-.94-.94-2.06-.94 2.06-2.06.94zm-11 1L8.5 8.5l.94-2.06 2.06-.94-2.06-.94L8.5 2.5l-.94 2.06-2.06.94zm10 10l.94 2.06.94-2.06 2.06-.94-2.06-.94-.94-2.06-.94 2.06-2.06.94z\"/><path d=\"M17.41 7.96l-1.37-1.37c-.4-.4-.92-.59-1.43-.59-.52 0-1.04.2-1.43.59L10.3 9.45l-7.72 7.72c-.78.78-.78 2.05 0 2.83L4 21.41c.39.39.9.59 1.41.59.51 0 1.02-.2 1.41-.59l7.78-7.78 2.81-2.81c.8-.78.8-2.07 0-2.86zM5.41 20L4 18.59l7.72-7.72 1.47 1.35L5.41 20z\"/>\n",
              "  </svg>\n",
              "      </button>\n",
              "      \n",
              "  <style>\n",
              "    .colab-df-container {\n",
              "      display:flex;\n",
              "      flex-wrap:wrap;\n",
              "      gap: 12px;\n",
              "    }\n",
              "\n",
              "    .colab-df-convert {\n",
              "      background-color: #E8F0FE;\n",
              "      border: none;\n",
              "      border-radius: 50%;\n",
              "      cursor: pointer;\n",
              "      display: none;\n",
              "      fill: #1967D2;\n",
              "      height: 32px;\n",
              "      padding: 0 0 0 0;\n",
              "      width: 32px;\n",
              "    }\n",
              "\n",
              "    .colab-df-convert:hover {\n",
              "      background-color: #E2EBFA;\n",
              "      box-shadow: 0px 1px 2px rgba(60, 64, 67, 0.3), 0px 1px 3px 1px rgba(60, 64, 67, 0.15);\n",
              "      fill: #174EA6;\n",
              "    }\n",
              "\n",
              "    [theme=dark] .colab-df-convert {\n",
              "      background-color: #3B4455;\n",
              "      fill: #D2E3FC;\n",
              "    }\n",
              "\n",
              "    [theme=dark] .colab-df-convert:hover {\n",
              "      background-color: #434B5C;\n",
              "      box-shadow: 0px 1px 3px 1px rgba(0, 0, 0, 0.15);\n",
              "      filter: drop-shadow(0px 1px 2px rgba(0, 0, 0, 0.3));\n",
              "      fill: #FFFFFF;\n",
              "    }\n",
              "  </style>\n",
              "\n",
              "      <script>\n",
              "        const buttonEl =\n",
              "          document.querySelector('#df-d7945cf9-5f05-4ef1-9d0c-556060a4e20b button.colab-df-convert');\n",
              "        buttonEl.style.display =\n",
              "          google.colab.kernel.accessAllowed ? 'block' : 'none';\n",
              "\n",
              "        async function convertToInteractive(key) {\n",
              "          const element = document.querySelector('#df-d7945cf9-5f05-4ef1-9d0c-556060a4e20b');\n",
              "          const dataTable =\n",
              "            await google.colab.kernel.invokeFunction('convertToInteractive',\n",
              "                                                     [key], {});\n",
              "          if (!dataTable) return;\n",
              "\n",
              "          const docLinkHtml = 'Like what you see? Visit the ' +\n",
              "            '<a target=\"_blank\" href=https://colab.research.google.com/notebooks/data_table.ipynb>data table notebook</a>'\n",
              "            + ' to learn more about interactive tables.';\n",
              "          element.innerHTML = '';\n",
              "          dataTable['output_type'] = 'display_data';\n",
              "          await google.colab.output.renderOutput(dataTable, element);\n",
              "          const docLink = document.createElement('div');\n",
              "          docLink.innerHTML = docLinkHtml;\n",
              "          element.appendChild(docLink);\n",
              "        }\n",
              "      </script>\n",
              "    </div>\n",
              "  </div>\n",
              "  "
            ]
          },
          "metadata": {},
          "execution_count": 28
        }
      ]
    },
    {
      "cell_type": "code",
      "source": [
        "(df['age']>71).sum()"
      ],
      "metadata": {
        "colab": {
          "base_uri": "https://localhost:8080/"
        },
        "id": "A7U1F7zrd89T",
        "outputId": "ed28e27c-ea08-4f1f-c1e1-30209b4d0cc8"
      },
      "execution_count": 29,
      "outputs": [
        {
          "output_type": "execute_result",
          "data": {
            "text/plain": [
              "433"
            ]
          },
          "metadata": {},
          "execution_count": 29
        }
      ]
    },
    {
      "cell_type": "code",
      "source": [
        "df_age = df[df['age']>71]\n",
        "print((df_age['insurance_stat']=='yes').sum())\n",
        "print((df_age['insurance_stat']=='no').sum())"
      ],
      "metadata": {
        "colab": {
          "base_uri": "https://localhost:8080/"
        },
        "id": "-o_P-WyzeTac",
        "outputId": "5d27e298-5a3b-4485-d3e1-3acecd17f7ed"
      },
      "execution_count": 30,
      "outputs": [
        {
          "output_type": "stream",
          "name": "stdout",
          "text": [
            "193\n",
            "240\n"
          ]
        }
      ]
    },
    {
      "cell_type": "code",
      "source": [
        "print(((df_age['insurance_stat']=='yes').sum()/433)*100)\n",
        "print(((df_age['insurance_stat']=='no').sum()/433)*100)"
      ],
      "metadata": {
        "colab": {
          "base_uri": "https://localhost:8080/"
        },
        "id": "ECT3MmSueqC5",
        "outputId": "956225af-0c8f-4dbb-dacf-dba9266ac919"
      },
      "execution_count": 31,
      "outputs": [
        {
          "output_type": "stream",
          "name": "stdout",
          "text": [
            "44.57274826789838\n",
            "55.42725173210161\n"
          ]
        }
      ]
    },
    {
      "cell_type": "markdown",
      "source": [
        "There are many outliers in the data, But i am not going to remove them or cap them. Because there insurance can be given to any age people."
      ],
      "metadata": {
        "id": "wqljO_7BdaTa"
      }
    },
    {
      "cell_type": "markdown",
      "source": [
        "# **job**"
      ],
      "metadata": {
        "id": "YTF1IZNRSuTy"
      }
    },
    {
      "cell_type": "code",
      "source": [
        "df['job'].isnull().sum() # No null values"
      ],
      "metadata": {
        "colab": {
          "base_uri": "https://localhost:8080/"
        },
        "id": "8vJz-yQYSvpX",
        "outputId": "55ee53d3-430c-423f-a213-149fd2578109"
      },
      "execution_count": 32,
      "outputs": [
        {
          "output_type": "execute_result",
          "data": {
            "text/plain": [
              "0"
            ]
          },
          "metadata": {},
          "execution_count": 32
        }
      ]
    },
    {
      "cell_type": "code",
      "source": [
        "df['job'][0] #Data is in string format.So it is in correct format only"
      ],
      "metadata": {
        "colab": {
          "base_uri": "https://localhost:8080/",
          "height": 35
        },
        "id": "-d5ALmGWS3Mx",
        "outputId": "52a60359-591c-4d9a-e25b-612fefb1057d"
      },
      "execution_count": 33,
      "outputs": [
        {
          "output_type": "execute_result",
          "data": {
            "text/plain": [
              "'management'"
            ],
            "application/vnd.google.colaboratory.intrinsic+json": {
              "type": "string"
            }
          },
          "metadata": {},
          "execution_count": 33
        }
      ]
    },
    {
      "cell_type": "code",
      "source": [
        "df['job'].unique()"
      ],
      "metadata": {
        "colab": {
          "base_uri": "https://localhost:8080/"
        },
        "id": "vjtp-CMoTFBx",
        "outputId": "b64c13b5-d467-457c-ad46-1004328fdf7e"
      },
      "execution_count": 34,
      "outputs": [
        {
          "output_type": "execute_result",
          "data": {
            "text/plain": [
              "array(['management', 'technician', 'entrepreneur', 'blue-collar',\n",
              "       'unknown', 'retired', 'admin.', 'services', 'self-employed',\n",
              "       'unemployed', 'housemaid', 'student'], dtype=object)"
            ]
          },
          "metadata": {},
          "execution_count": 34
        }
      ]
    },
    {
      "cell_type": "code",
      "source": [
        "(df['job']=='unknown').sum()"
      ],
      "metadata": {
        "colab": {
          "base_uri": "https://localhost:8080/"
        },
        "id": "DyWb09IoVrTQ",
        "outputId": "6fd8c06b-a053-4707-f52e-d14729107140"
      },
      "execution_count": 35,
      "outputs": [
        {
          "output_type": "execute_result",
          "data": {
            "text/plain": [
              "288"
            ]
          },
          "metadata": {},
          "execution_count": 35
        }
      ]
    },
    {
      "cell_type": "code",
      "source": [
        "df[df['job']=='unknown']"
      ],
      "metadata": {
        "colab": {
          "base_uri": "https://localhost:8080/",
          "height": 424
        },
        "id": "s9Y8ejBvdrjS",
        "outputId": "0596790c-6a76-4eed-fe37-b0d339b94138"
      },
      "execution_count": 36,
      "outputs": [
        {
          "output_type": "execute_result",
          "data": {
            "text/plain": [
              "       age      job   marital education_qual  call_type   day  mon    dur  \\\n",
              "4       33  unknown    single        unknown    unknown   5.0  may  198.0   \n",
              "216     47  unknown   married        unknown    unknown   5.0  may  338.0   \n",
              "354     59  unknown  divorced        unknown    unknown   5.0  may  347.0   \n",
              "876     37  unknown    single        unknown    unknown   7.0  may  131.0   \n",
              "1072    29  unknown    single        primary    unknown   7.0  may   50.0   \n",
              "...    ...      ...       ...            ...        ...   ...  ...    ...   \n",
              "44708   45  unknown   married       tertiary   cellular   7.0  sep  314.0   \n",
              "44736   64  unknown   married        unknown  telephone   9.0  sep  378.0   \n",
              "44964   28  unknown    single        unknown   cellular  11.0  oct  450.0   \n",
              "45135   77  unknown   married        unknown  telephone   8.0  nov  207.0   \n",
              "45180   59  unknown   married        unknown   cellular  16.0  nov  280.0   \n",
              "\n",
              "       num_calls prev_outcome insurance_stat  \n",
              "4            1.0      unknown             no  \n",
              "216          2.0      unknown             no  \n",
              "354          3.0      unknown             no  \n",
              "876          1.0      unknown             no  \n",
              "1072         2.0      unknown             no  \n",
              "...          ...          ...            ...  \n",
              "44708        1.0      unknown            yes  \n",
              "44736        4.0      unknown             no  \n",
              "44964        1.0      success            yes  \n",
              "45135        1.0      success             no  \n",
              "45180        1.0      failure             no  \n",
              "\n",
              "[288 rows x 11 columns]"
            ],
            "text/html": [
              "\n",
              "  <div id=\"df-cab857ad-171b-4160-a4aa-a47463f03d2c\">\n",
              "    <div class=\"colab-df-container\">\n",
              "      <div>\n",
              "<style scoped>\n",
              "    .dataframe tbody tr th:only-of-type {\n",
              "        vertical-align: middle;\n",
              "    }\n",
              "\n",
              "    .dataframe tbody tr th {\n",
              "        vertical-align: top;\n",
              "    }\n",
              "\n",
              "    .dataframe thead th {\n",
              "        text-align: right;\n",
              "    }\n",
              "</style>\n",
              "<table border=\"1\" class=\"dataframe\">\n",
              "  <thead>\n",
              "    <tr style=\"text-align: right;\">\n",
              "      <th></th>\n",
              "      <th>age</th>\n",
              "      <th>job</th>\n",
              "      <th>marital</th>\n",
              "      <th>education_qual</th>\n",
              "      <th>call_type</th>\n",
              "      <th>day</th>\n",
              "      <th>mon</th>\n",
              "      <th>dur</th>\n",
              "      <th>num_calls</th>\n",
              "      <th>prev_outcome</th>\n",
              "      <th>insurance_stat</th>\n",
              "    </tr>\n",
              "  </thead>\n",
              "  <tbody>\n",
              "    <tr>\n",
              "      <th>4</th>\n",
              "      <td>33</td>\n",
              "      <td>unknown</td>\n",
              "      <td>single</td>\n",
              "      <td>unknown</td>\n",
              "      <td>unknown</td>\n",
              "      <td>5.0</td>\n",
              "      <td>may</td>\n",
              "      <td>198.0</td>\n",
              "      <td>1.0</td>\n",
              "      <td>unknown</td>\n",
              "      <td>no</td>\n",
              "    </tr>\n",
              "    <tr>\n",
              "      <th>216</th>\n",
              "      <td>47</td>\n",
              "      <td>unknown</td>\n",
              "      <td>married</td>\n",
              "      <td>unknown</td>\n",
              "      <td>unknown</td>\n",
              "      <td>5.0</td>\n",
              "      <td>may</td>\n",
              "      <td>338.0</td>\n",
              "      <td>2.0</td>\n",
              "      <td>unknown</td>\n",
              "      <td>no</td>\n",
              "    </tr>\n",
              "    <tr>\n",
              "      <th>354</th>\n",
              "      <td>59</td>\n",
              "      <td>unknown</td>\n",
              "      <td>divorced</td>\n",
              "      <td>unknown</td>\n",
              "      <td>unknown</td>\n",
              "      <td>5.0</td>\n",
              "      <td>may</td>\n",
              "      <td>347.0</td>\n",
              "      <td>3.0</td>\n",
              "      <td>unknown</td>\n",
              "      <td>no</td>\n",
              "    </tr>\n",
              "    <tr>\n",
              "      <th>876</th>\n",
              "      <td>37</td>\n",
              "      <td>unknown</td>\n",
              "      <td>single</td>\n",
              "      <td>unknown</td>\n",
              "      <td>unknown</td>\n",
              "      <td>7.0</td>\n",
              "      <td>may</td>\n",
              "      <td>131.0</td>\n",
              "      <td>1.0</td>\n",
              "      <td>unknown</td>\n",
              "      <td>no</td>\n",
              "    </tr>\n",
              "    <tr>\n",
              "      <th>1072</th>\n",
              "      <td>29</td>\n",
              "      <td>unknown</td>\n",
              "      <td>single</td>\n",
              "      <td>primary</td>\n",
              "      <td>unknown</td>\n",
              "      <td>7.0</td>\n",
              "      <td>may</td>\n",
              "      <td>50.0</td>\n",
              "      <td>2.0</td>\n",
              "      <td>unknown</td>\n",
              "      <td>no</td>\n",
              "    </tr>\n",
              "    <tr>\n",
              "      <th>...</th>\n",
              "      <td>...</td>\n",
              "      <td>...</td>\n",
              "      <td>...</td>\n",
              "      <td>...</td>\n",
              "      <td>...</td>\n",
              "      <td>...</td>\n",
              "      <td>...</td>\n",
              "      <td>...</td>\n",
              "      <td>...</td>\n",
              "      <td>...</td>\n",
              "      <td>...</td>\n",
              "    </tr>\n",
              "    <tr>\n",
              "      <th>44708</th>\n",
              "      <td>45</td>\n",
              "      <td>unknown</td>\n",
              "      <td>married</td>\n",
              "      <td>tertiary</td>\n",
              "      <td>cellular</td>\n",
              "      <td>7.0</td>\n",
              "      <td>sep</td>\n",
              "      <td>314.0</td>\n",
              "      <td>1.0</td>\n",
              "      <td>unknown</td>\n",
              "      <td>yes</td>\n",
              "    </tr>\n",
              "    <tr>\n",
              "      <th>44736</th>\n",
              "      <td>64</td>\n",
              "      <td>unknown</td>\n",
              "      <td>married</td>\n",
              "      <td>unknown</td>\n",
              "      <td>telephone</td>\n",
              "      <td>9.0</td>\n",
              "      <td>sep</td>\n",
              "      <td>378.0</td>\n",
              "      <td>4.0</td>\n",
              "      <td>unknown</td>\n",
              "      <td>no</td>\n",
              "    </tr>\n",
              "    <tr>\n",
              "      <th>44964</th>\n",
              "      <td>28</td>\n",
              "      <td>unknown</td>\n",
              "      <td>single</td>\n",
              "      <td>unknown</td>\n",
              "      <td>cellular</td>\n",
              "      <td>11.0</td>\n",
              "      <td>oct</td>\n",
              "      <td>450.0</td>\n",
              "      <td>1.0</td>\n",
              "      <td>success</td>\n",
              "      <td>yes</td>\n",
              "    </tr>\n",
              "    <tr>\n",
              "      <th>45135</th>\n",
              "      <td>77</td>\n",
              "      <td>unknown</td>\n",
              "      <td>married</td>\n",
              "      <td>unknown</td>\n",
              "      <td>telephone</td>\n",
              "      <td>8.0</td>\n",
              "      <td>nov</td>\n",
              "      <td>207.0</td>\n",
              "      <td>1.0</td>\n",
              "      <td>success</td>\n",
              "      <td>no</td>\n",
              "    </tr>\n",
              "    <tr>\n",
              "      <th>45180</th>\n",
              "      <td>59</td>\n",
              "      <td>unknown</td>\n",
              "      <td>married</td>\n",
              "      <td>unknown</td>\n",
              "      <td>cellular</td>\n",
              "      <td>16.0</td>\n",
              "      <td>nov</td>\n",
              "      <td>280.0</td>\n",
              "      <td>1.0</td>\n",
              "      <td>failure</td>\n",
              "      <td>no</td>\n",
              "    </tr>\n",
              "  </tbody>\n",
              "</table>\n",
              "<p>288 rows × 11 columns</p>\n",
              "</div>\n",
              "      <button class=\"colab-df-convert\" onclick=\"convertToInteractive('df-cab857ad-171b-4160-a4aa-a47463f03d2c')\"\n",
              "              title=\"Convert this dataframe to an interactive table.\"\n",
              "              style=\"display:none;\">\n",
              "        \n",
              "  <svg xmlns=\"http://www.w3.org/2000/svg\" height=\"24px\"viewBox=\"0 0 24 24\"\n",
              "       width=\"24px\">\n",
              "    <path d=\"M0 0h24v24H0V0z\" fill=\"none\"/>\n",
              "    <path d=\"M18.56 5.44l.94 2.06.94-2.06 2.06-.94-2.06-.94-.94-2.06-.94 2.06-2.06.94zm-11 1L8.5 8.5l.94-2.06 2.06-.94-2.06-.94L8.5 2.5l-.94 2.06-2.06.94zm10 10l.94 2.06.94-2.06 2.06-.94-2.06-.94-.94-2.06-.94 2.06-2.06.94z\"/><path d=\"M17.41 7.96l-1.37-1.37c-.4-.4-.92-.59-1.43-.59-.52 0-1.04.2-1.43.59L10.3 9.45l-7.72 7.72c-.78.78-.78 2.05 0 2.83L4 21.41c.39.39.9.59 1.41.59.51 0 1.02-.2 1.41-.59l7.78-7.78 2.81-2.81c.8-.78.8-2.07 0-2.86zM5.41 20L4 18.59l7.72-7.72 1.47 1.35L5.41 20z\"/>\n",
              "  </svg>\n",
              "      </button>\n",
              "      \n",
              "  <style>\n",
              "    .colab-df-container {\n",
              "      display:flex;\n",
              "      flex-wrap:wrap;\n",
              "      gap: 12px;\n",
              "    }\n",
              "\n",
              "    .colab-df-convert {\n",
              "      background-color: #E8F0FE;\n",
              "      border: none;\n",
              "      border-radius: 50%;\n",
              "      cursor: pointer;\n",
              "      display: none;\n",
              "      fill: #1967D2;\n",
              "      height: 32px;\n",
              "      padding: 0 0 0 0;\n",
              "      width: 32px;\n",
              "    }\n",
              "\n",
              "    .colab-df-convert:hover {\n",
              "      background-color: #E2EBFA;\n",
              "      box-shadow: 0px 1px 2px rgba(60, 64, 67, 0.3), 0px 1px 3px 1px rgba(60, 64, 67, 0.15);\n",
              "      fill: #174EA6;\n",
              "    }\n",
              "\n",
              "    [theme=dark] .colab-df-convert {\n",
              "      background-color: #3B4455;\n",
              "      fill: #D2E3FC;\n",
              "    }\n",
              "\n",
              "    [theme=dark] .colab-df-convert:hover {\n",
              "      background-color: #434B5C;\n",
              "      box-shadow: 0px 1px 3px 1px rgba(0, 0, 0, 0.15);\n",
              "      filter: drop-shadow(0px 1px 2px rgba(0, 0, 0, 0.3));\n",
              "      fill: #FFFFFF;\n",
              "    }\n",
              "  </style>\n",
              "\n",
              "      <script>\n",
              "        const buttonEl =\n",
              "          document.querySelector('#df-cab857ad-171b-4160-a4aa-a47463f03d2c button.colab-df-convert');\n",
              "        buttonEl.style.display =\n",
              "          google.colab.kernel.accessAllowed ? 'block' : 'none';\n",
              "\n",
              "        async function convertToInteractive(key) {\n",
              "          const element = document.querySelector('#df-cab857ad-171b-4160-a4aa-a47463f03d2c');\n",
              "          const dataTable =\n",
              "            await google.colab.kernel.invokeFunction('convertToInteractive',\n",
              "                                                     [key], {});\n",
              "          if (!dataTable) return;\n",
              "\n",
              "          const docLinkHtml = 'Like what you see? Visit the ' +\n",
              "            '<a target=\"_blank\" href=https://colab.research.google.com/notebooks/data_table.ipynb>data table notebook</a>'\n",
              "            + ' to learn more about interactive tables.';\n",
              "          element.innerHTML = '';\n",
              "          dataTable['output_type'] = 'display_data';\n",
              "          await google.colab.output.renderOutput(dataTable, element);\n",
              "          const docLink = document.createElement('div');\n",
              "          docLink.innerHTML = docLinkHtml;\n",
              "          element.appendChild(docLink);\n",
              "        }\n",
              "      </script>\n",
              "    </div>\n",
              "  </div>\n",
              "  "
            ]
          },
          "metadata": {},
          "execution_count": 36
        }
      ]
    },
    {
      "cell_type": "code",
      "source": [
        "print(\"The percentage of unknown data is:\", ((df['job']=='unknown').sum()/df.shape[0])*100)"
      ],
      "metadata": {
        "colab": {
          "base_uri": "https://localhost:8080/"
        },
        "id": "3QoumzaPc66Q",
        "outputId": "a0af1383-e937-481e-d4b9-a71ee90b9468"
      },
      "execution_count": 37,
      "outputs": [
        {
          "output_type": "stream",
          "name": "stdout",
          "text": [
            "The percentage of unknown data is: 0.6370976661873686\n"
          ]
        }
      ]
    },
    {
      "cell_type": "code",
      "source": [
        "#mode1 = df['job'].mode()  # Filling null values with mode\n",
        "#df['job'].fillna(mode1,inplace=True)"
      ],
      "metadata": {
        "id": "K_uSV1glgttB"
      },
      "execution_count": 38,
      "outputs": []
    },
    {
      "cell_type": "markdown",
      "source": [
        "Only 0.6% of data is unknown in the job feature is unknown, so i decided to drop the unknown values in the feature"
      ],
      "metadata": {
        "id": "yt0RF7fbTrKP"
      }
    },
    {
      "cell_type": "code",
      "source": [
        "df = df.drop(df[df['job']=='unknown'].index).reset_index(drop=True)"
      ],
      "metadata": {
        "id": "cYoP0MC4TT5p"
      },
      "execution_count": 39,
      "outputs": []
    },
    {
      "cell_type": "code",
      "source": [
        "df.tail()"
      ],
      "metadata": {
        "colab": {
          "base_uri": "https://localhost:8080/",
          "height": 206
        },
        "id": "XBUK7ij5Vv9T",
        "outputId": "42058610-ec3c-4f0a-e1a3-34f01c54639d"
      },
      "execution_count": 40,
      "outputs": [
        {
          "output_type": "execute_result",
          "data": {
            "text/plain": [
              "       age           job   marital education_qual  call_type   day  mon  \\\n",
              "44912   51    technician   married       tertiary   cellular  17.0  nov   \n",
              "44913   71       retired  divorced        primary   cellular  17.0  nov   \n",
              "44914   72       retired   married      secondary   cellular  17.0  nov   \n",
              "44915   57   blue-collar   married      secondary  telephone  17.0  nov   \n",
              "44916   37  entrepreneur   married      secondary   cellular  17.0  nov   \n",
              "\n",
              "          dur  num_calls prev_outcome insurance_stat  \n",
              "44912   977.0        3.0      unknown            yes  \n",
              "44913   456.0        2.0      unknown            yes  \n",
              "44914  1127.0        5.0      success            yes  \n",
              "44915   508.0        4.0      unknown             no  \n",
              "44916   361.0        2.0        other             no  "
            ],
            "text/html": [
              "\n",
              "  <div id=\"df-ccf801c4-a760-49be-9df1-53470c635361\">\n",
              "    <div class=\"colab-df-container\">\n",
              "      <div>\n",
              "<style scoped>\n",
              "    .dataframe tbody tr th:only-of-type {\n",
              "        vertical-align: middle;\n",
              "    }\n",
              "\n",
              "    .dataframe tbody tr th {\n",
              "        vertical-align: top;\n",
              "    }\n",
              "\n",
              "    .dataframe thead th {\n",
              "        text-align: right;\n",
              "    }\n",
              "</style>\n",
              "<table border=\"1\" class=\"dataframe\">\n",
              "  <thead>\n",
              "    <tr style=\"text-align: right;\">\n",
              "      <th></th>\n",
              "      <th>age</th>\n",
              "      <th>job</th>\n",
              "      <th>marital</th>\n",
              "      <th>education_qual</th>\n",
              "      <th>call_type</th>\n",
              "      <th>day</th>\n",
              "      <th>mon</th>\n",
              "      <th>dur</th>\n",
              "      <th>num_calls</th>\n",
              "      <th>prev_outcome</th>\n",
              "      <th>insurance_stat</th>\n",
              "    </tr>\n",
              "  </thead>\n",
              "  <tbody>\n",
              "    <tr>\n",
              "      <th>44912</th>\n",
              "      <td>51</td>\n",
              "      <td>technician</td>\n",
              "      <td>married</td>\n",
              "      <td>tertiary</td>\n",
              "      <td>cellular</td>\n",
              "      <td>17.0</td>\n",
              "      <td>nov</td>\n",
              "      <td>977.0</td>\n",
              "      <td>3.0</td>\n",
              "      <td>unknown</td>\n",
              "      <td>yes</td>\n",
              "    </tr>\n",
              "    <tr>\n",
              "      <th>44913</th>\n",
              "      <td>71</td>\n",
              "      <td>retired</td>\n",
              "      <td>divorced</td>\n",
              "      <td>primary</td>\n",
              "      <td>cellular</td>\n",
              "      <td>17.0</td>\n",
              "      <td>nov</td>\n",
              "      <td>456.0</td>\n",
              "      <td>2.0</td>\n",
              "      <td>unknown</td>\n",
              "      <td>yes</td>\n",
              "    </tr>\n",
              "    <tr>\n",
              "      <th>44914</th>\n",
              "      <td>72</td>\n",
              "      <td>retired</td>\n",
              "      <td>married</td>\n",
              "      <td>secondary</td>\n",
              "      <td>cellular</td>\n",
              "      <td>17.0</td>\n",
              "      <td>nov</td>\n",
              "      <td>1127.0</td>\n",
              "      <td>5.0</td>\n",
              "      <td>success</td>\n",
              "      <td>yes</td>\n",
              "    </tr>\n",
              "    <tr>\n",
              "      <th>44915</th>\n",
              "      <td>57</td>\n",
              "      <td>blue-collar</td>\n",
              "      <td>married</td>\n",
              "      <td>secondary</td>\n",
              "      <td>telephone</td>\n",
              "      <td>17.0</td>\n",
              "      <td>nov</td>\n",
              "      <td>508.0</td>\n",
              "      <td>4.0</td>\n",
              "      <td>unknown</td>\n",
              "      <td>no</td>\n",
              "    </tr>\n",
              "    <tr>\n",
              "      <th>44916</th>\n",
              "      <td>37</td>\n",
              "      <td>entrepreneur</td>\n",
              "      <td>married</td>\n",
              "      <td>secondary</td>\n",
              "      <td>cellular</td>\n",
              "      <td>17.0</td>\n",
              "      <td>nov</td>\n",
              "      <td>361.0</td>\n",
              "      <td>2.0</td>\n",
              "      <td>other</td>\n",
              "      <td>no</td>\n",
              "    </tr>\n",
              "  </tbody>\n",
              "</table>\n",
              "</div>\n",
              "      <button class=\"colab-df-convert\" onclick=\"convertToInteractive('df-ccf801c4-a760-49be-9df1-53470c635361')\"\n",
              "              title=\"Convert this dataframe to an interactive table.\"\n",
              "              style=\"display:none;\">\n",
              "        \n",
              "  <svg xmlns=\"http://www.w3.org/2000/svg\" height=\"24px\"viewBox=\"0 0 24 24\"\n",
              "       width=\"24px\">\n",
              "    <path d=\"M0 0h24v24H0V0z\" fill=\"none\"/>\n",
              "    <path d=\"M18.56 5.44l.94 2.06.94-2.06 2.06-.94-2.06-.94-.94-2.06-.94 2.06-2.06.94zm-11 1L8.5 8.5l.94-2.06 2.06-.94-2.06-.94L8.5 2.5l-.94 2.06-2.06.94zm10 10l.94 2.06.94-2.06 2.06-.94-2.06-.94-.94-2.06-.94 2.06-2.06.94z\"/><path d=\"M17.41 7.96l-1.37-1.37c-.4-.4-.92-.59-1.43-.59-.52 0-1.04.2-1.43.59L10.3 9.45l-7.72 7.72c-.78.78-.78 2.05 0 2.83L4 21.41c.39.39.9.59 1.41.59.51 0 1.02-.2 1.41-.59l7.78-7.78 2.81-2.81c.8-.78.8-2.07 0-2.86zM5.41 20L4 18.59l7.72-7.72 1.47 1.35L5.41 20z\"/>\n",
              "  </svg>\n",
              "      </button>\n",
              "      \n",
              "  <style>\n",
              "    .colab-df-container {\n",
              "      display:flex;\n",
              "      flex-wrap:wrap;\n",
              "      gap: 12px;\n",
              "    }\n",
              "\n",
              "    .colab-df-convert {\n",
              "      background-color: #E8F0FE;\n",
              "      border: none;\n",
              "      border-radius: 50%;\n",
              "      cursor: pointer;\n",
              "      display: none;\n",
              "      fill: #1967D2;\n",
              "      height: 32px;\n",
              "      padding: 0 0 0 0;\n",
              "      width: 32px;\n",
              "    }\n",
              "\n",
              "    .colab-df-convert:hover {\n",
              "      background-color: #E2EBFA;\n",
              "      box-shadow: 0px 1px 2px rgba(60, 64, 67, 0.3), 0px 1px 3px 1px rgba(60, 64, 67, 0.15);\n",
              "      fill: #174EA6;\n",
              "    }\n",
              "\n",
              "    [theme=dark] .colab-df-convert {\n",
              "      background-color: #3B4455;\n",
              "      fill: #D2E3FC;\n",
              "    }\n",
              "\n",
              "    [theme=dark] .colab-df-convert:hover {\n",
              "      background-color: #434B5C;\n",
              "      box-shadow: 0px 1px 3px 1px rgba(0, 0, 0, 0.15);\n",
              "      filter: drop-shadow(0px 1px 2px rgba(0, 0, 0, 0.3));\n",
              "      fill: #FFFFFF;\n",
              "    }\n",
              "  </style>\n",
              "\n",
              "      <script>\n",
              "        const buttonEl =\n",
              "          document.querySelector('#df-ccf801c4-a760-49be-9df1-53470c635361 button.colab-df-convert');\n",
              "        buttonEl.style.display =\n",
              "          google.colab.kernel.accessAllowed ? 'block' : 'none';\n",
              "\n",
              "        async function convertToInteractive(key) {\n",
              "          const element = document.querySelector('#df-ccf801c4-a760-49be-9df1-53470c635361');\n",
              "          const dataTable =\n",
              "            await google.colab.kernel.invokeFunction('convertToInteractive',\n",
              "                                                     [key], {});\n",
              "          if (!dataTable) return;\n",
              "\n",
              "          const docLinkHtml = 'Like what you see? Visit the ' +\n",
              "            '<a target=\"_blank\" href=https://colab.research.google.com/notebooks/data_table.ipynb>data table notebook</a>'\n",
              "            + ' to learn more about interactive tables.';\n",
              "          element.innerHTML = '';\n",
              "          dataTable['output_type'] = 'display_data';\n",
              "          await google.colab.output.renderOutput(dataTable, element);\n",
              "          const docLink = document.createElement('div');\n",
              "          docLink.innerHTML = docLinkHtml;\n",
              "          element.appendChild(docLink);\n",
              "        }\n",
              "      </script>\n",
              "    </div>\n",
              "  </div>\n",
              "  "
            ]
          },
          "metadata": {},
          "execution_count": 40
        }
      ]
    },
    {
      "cell_type": "code",
      "source": [
        "print(\"Now the dataset has {} rows and {} columns after dropping unknown values in job\".format(df.shape[0], df.shape[1]))"
      ],
      "metadata": {
        "colab": {
          "base_uri": "https://localhost:8080/"
        },
        "id": "4qzrLEiPVzae",
        "outputId": "74dd114c-4fbd-4ccf-dba0-cc150420a371"
      },
      "execution_count": 41,
      "outputs": [
        {
          "output_type": "stream",
          "name": "stdout",
          "text": [
            "Now the dataset has 44917 rows and 11 columns after dropping unknown values in job\n"
          ]
        }
      ]
    },
    {
      "cell_type": "code",
      "source": [
        "df['job'].replace(\"admin.\",\"admin\",inplace=True)"
      ],
      "metadata": {
        "id": "58p2jYtabDga"
      },
      "execution_count": 42,
      "outputs": []
    },
    {
      "cell_type": "code",
      "source": [
        "df['job'].value_counts()"
      ],
      "metadata": {
        "colab": {
          "base_uri": "https://localhost:8080/"
        },
        "id": "QrXTV0yQa9gg",
        "outputId": "e8542caf-4566-457a-b808-0fa6cd7e58b2"
      },
      "execution_count": 43,
      "outputs": [
        {
          "output_type": "execute_result",
          "data": {
            "text/plain": [
              "blue-collar      9730\n",
              "management       9457\n",
              "technician       7596\n",
              "admin            5170\n",
              "services         4153\n",
              "retired          2264\n",
              "self-employed    1579\n",
              "entrepreneur     1487\n",
              "unemployed       1303\n",
              "housemaid        1240\n",
              "student           938\n",
              "Name: job, dtype: int64"
            ]
          },
          "metadata": {},
          "execution_count": 43
        }
      ]
    },
    {
      "cell_type": "markdown",
      "source": [
        "# **marital**"
      ],
      "metadata": {
        "id": "mvf6rAzIbzGu"
      }
    },
    {
      "cell_type": "code",
      "source": [
        "df['marital'].isnull().sum()"
      ],
      "metadata": {
        "colab": {
          "base_uri": "https://localhost:8080/"
        },
        "id": "um5-uP54bvqN",
        "outputId": "54ac2363-8441-4724-b6df-f26018016015"
      },
      "execution_count": 44,
      "outputs": [
        {
          "output_type": "execute_result",
          "data": {
            "text/plain": [
              "0"
            ]
          },
          "metadata": {},
          "execution_count": 44
        }
      ]
    },
    {
      "cell_type": "code",
      "source": [
        "df['marital'][0] #Data is in correct format only"
      ],
      "metadata": {
        "colab": {
          "base_uri": "https://localhost:8080/",
          "height": 35
        },
        "id": "NbCjAO3zcSZr",
        "outputId": "96fee81d-df00-4816-b6dc-9cb1c8360f0d"
      },
      "execution_count": 45,
      "outputs": [
        {
          "output_type": "execute_result",
          "data": {
            "text/plain": [
              "'married'"
            ],
            "application/vnd.google.colaboratory.intrinsic+json": {
              "type": "string"
            }
          },
          "metadata": {},
          "execution_count": 45
        }
      ]
    },
    {
      "cell_type": "code",
      "source": [
        "df['marital'].value_counts()"
      ],
      "metadata": {
        "colab": {
          "base_uri": "https://localhost:8080/"
        },
        "id": "AV65-3tLcUt2",
        "outputId": "217c0e43-dfca-47d4-b743-a5a353133c2b"
      },
      "execution_count": 46,
      "outputs": [
        {
          "output_type": "execute_result",
          "data": {
            "text/plain": [
              "married     27007\n",
              "single      12720\n",
              "divorced     5190\n",
              "Name: marital, dtype: int64"
            ]
          },
          "metadata": {},
          "execution_count": 46
        }
      ]
    },
    {
      "cell_type": "markdown",
      "source": [
        "There are no spellig mistakes in this feature and no null value. so cleaning is not required."
      ],
      "metadata": {
        "id": "18Lrdkrhcb_Y"
      }
    },
    {
      "cell_type": "markdown",
      "source": [
        "# **education_qual**"
      ],
      "metadata": {
        "id": "dNr1qAZNdVAU"
      }
    },
    {
      "cell_type": "code",
      "source": [
        "df['education_qual'].isnull().sum()"
      ],
      "metadata": {
        "colab": {
          "base_uri": "https://localhost:8080/"
        },
        "id": "PwZl-bJ1cZc9",
        "outputId": "52dc9851-bad3-49fb-e7e0-da65721b8e1a"
      },
      "execution_count": 47,
      "outputs": [
        {
          "output_type": "execute_result",
          "data": {
            "text/plain": [
              "0"
            ]
          },
          "metadata": {},
          "execution_count": 47
        }
      ]
    },
    {
      "cell_type": "code",
      "source": [
        "df['education_qual'].unique()"
      ],
      "metadata": {
        "colab": {
          "base_uri": "https://localhost:8080/"
        },
        "id": "kMq8inC4db8B",
        "outputId": "dc5ac609-2cdc-481f-a9cc-2fb11a5d5f27"
      },
      "execution_count": 48,
      "outputs": [
        {
          "output_type": "execute_result",
          "data": {
            "text/plain": [
              "array(['tertiary', 'secondary', 'unknown', 'primary'], dtype=object)"
            ]
          },
          "metadata": {},
          "execution_count": 48
        }
      ]
    },
    {
      "cell_type": "code",
      "source": [
        "df['education_qual'].value_counts()"
      ],
      "metadata": {
        "colab": {
          "base_uri": "https://localhost:8080/"
        },
        "id": "uXwLkGbXdgNG",
        "outputId": "e533d0de-b030-49ca-ba05-648ea0fe1d34"
      },
      "execution_count": 49,
      "outputs": [
        {
          "output_type": "execute_result",
          "data": {
            "text/plain": [
              "secondary    23128\n",
              "tertiary     13260\n",
              "primary       6799\n",
              "unknown       1730\n",
              "Name: education_qual, dtype: int64"
            ]
          },
          "metadata": {},
          "execution_count": 49
        }
      ]
    },
    {
      "cell_type": "code",
      "source": [
        "print(\"The percentage of unknown data is:\", ((df['education_qual']=='unknown').sum()/df.shape[0])*100)"
      ],
      "metadata": {
        "colab": {
          "base_uri": "https://localhost:8080/"
        },
        "id": "2I9dNrIFfD6Q",
        "outputId": "bef2b642-97ec-4011-91f1-80643a78ce56"
      },
      "execution_count": 50,
      "outputs": [
        {
          "output_type": "stream",
          "name": "stdout",
          "text": [
            "The percentage of unknown data is: 3.8515484115145715\n"
          ]
        }
      ]
    },
    {
      "cell_type": "markdown",
      "source": [
        "As we canot correctly fill the educational values of unknown people. 3 percent of data is not do big, so i am going to drop those values."
      ],
      "metadata": {
        "id": "oc5mpW9rfWu3"
      }
    },
    {
      "cell_type": "code",
      "source": [
        "df = df.drop(df[df['education_qual']=='unknown'].index).reset_index(drop=True)"
      ],
      "metadata": {
        "id": "3Hezt-Iqfzh4"
      },
      "execution_count": 51,
      "outputs": []
    },
    {
      "cell_type": "code",
      "source": [
        "df.tail()"
      ],
      "metadata": {
        "colab": {
          "base_uri": "https://localhost:8080/",
          "height": 206
        },
        "id": "S6uMtqlkf3Gd",
        "outputId": "b71d083f-f577-49bc-f0b9-a6ad85e6092e"
      },
      "execution_count": 52,
      "outputs": [
        {
          "output_type": "execute_result",
          "data": {
            "text/plain": [
              "       age           job   marital education_qual  call_type   day  mon  \\\n",
              "43182   51    technician   married       tertiary   cellular  17.0  nov   \n",
              "43183   71       retired  divorced        primary   cellular  17.0  nov   \n",
              "43184   72       retired   married      secondary   cellular  17.0  nov   \n",
              "43185   57   blue-collar   married      secondary  telephone  17.0  nov   \n",
              "43186   37  entrepreneur   married      secondary   cellular  17.0  nov   \n",
              "\n",
              "          dur  num_calls prev_outcome insurance_stat  \n",
              "43182   977.0        3.0      unknown            yes  \n",
              "43183   456.0        2.0      unknown            yes  \n",
              "43184  1127.0        5.0      success            yes  \n",
              "43185   508.0        4.0      unknown             no  \n",
              "43186   361.0        2.0        other             no  "
            ],
            "text/html": [
              "\n",
              "  <div id=\"df-b0aa6d37-591c-4daf-bd2a-315868d9aa66\">\n",
              "    <div class=\"colab-df-container\">\n",
              "      <div>\n",
              "<style scoped>\n",
              "    .dataframe tbody tr th:only-of-type {\n",
              "        vertical-align: middle;\n",
              "    }\n",
              "\n",
              "    .dataframe tbody tr th {\n",
              "        vertical-align: top;\n",
              "    }\n",
              "\n",
              "    .dataframe thead th {\n",
              "        text-align: right;\n",
              "    }\n",
              "</style>\n",
              "<table border=\"1\" class=\"dataframe\">\n",
              "  <thead>\n",
              "    <tr style=\"text-align: right;\">\n",
              "      <th></th>\n",
              "      <th>age</th>\n",
              "      <th>job</th>\n",
              "      <th>marital</th>\n",
              "      <th>education_qual</th>\n",
              "      <th>call_type</th>\n",
              "      <th>day</th>\n",
              "      <th>mon</th>\n",
              "      <th>dur</th>\n",
              "      <th>num_calls</th>\n",
              "      <th>prev_outcome</th>\n",
              "      <th>insurance_stat</th>\n",
              "    </tr>\n",
              "  </thead>\n",
              "  <tbody>\n",
              "    <tr>\n",
              "      <th>43182</th>\n",
              "      <td>51</td>\n",
              "      <td>technician</td>\n",
              "      <td>married</td>\n",
              "      <td>tertiary</td>\n",
              "      <td>cellular</td>\n",
              "      <td>17.0</td>\n",
              "      <td>nov</td>\n",
              "      <td>977.0</td>\n",
              "      <td>3.0</td>\n",
              "      <td>unknown</td>\n",
              "      <td>yes</td>\n",
              "    </tr>\n",
              "    <tr>\n",
              "      <th>43183</th>\n",
              "      <td>71</td>\n",
              "      <td>retired</td>\n",
              "      <td>divorced</td>\n",
              "      <td>primary</td>\n",
              "      <td>cellular</td>\n",
              "      <td>17.0</td>\n",
              "      <td>nov</td>\n",
              "      <td>456.0</td>\n",
              "      <td>2.0</td>\n",
              "      <td>unknown</td>\n",
              "      <td>yes</td>\n",
              "    </tr>\n",
              "    <tr>\n",
              "      <th>43184</th>\n",
              "      <td>72</td>\n",
              "      <td>retired</td>\n",
              "      <td>married</td>\n",
              "      <td>secondary</td>\n",
              "      <td>cellular</td>\n",
              "      <td>17.0</td>\n",
              "      <td>nov</td>\n",
              "      <td>1127.0</td>\n",
              "      <td>5.0</td>\n",
              "      <td>success</td>\n",
              "      <td>yes</td>\n",
              "    </tr>\n",
              "    <tr>\n",
              "      <th>43185</th>\n",
              "      <td>57</td>\n",
              "      <td>blue-collar</td>\n",
              "      <td>married</td>\n",
              "      <td>secondary</td>\n",
              "      <td>telephone</td>\n",
              "      <td>17.0</td>\n",
              "      <td>nov</td>\n",
              "      <td>508.0</td>\n",
              "      <td>4.0</td>\n",
              "      <td>unknown</td>\n",
              "      <td>no</td>\n",
              "    </tr>\n",
              "    <tr>\n",
              "      <th>43186</th>\n",
              "      <td>37</td>\n",
              "      <td>entrepreneur</td>\n",
              "      <td>married</td>\n",
              "      <td>secondary</td>\n",
              "      <td>cellular</td>\n",
              "      <td>17.0</td>\n",
              "      <td>nov</td>\n",
              "      <td>361.0</td>\n",
              "      <td>2.0</td>\n",
              "      <td>other</td>\n",
              "      <td>no</td>\n",
              "    </tr>\n",
              "  </tbody>\n",
              "</table>\n",
              "</div>\n",
              "      <button class=\"colab-df-convert\" onclick=\"convertToInteractive('df-b0aa6d37-591c-4daf-bd2a-315868d9aa66')\"\n",
              "              title=\"Convert this dataframe to an interactive table.\"\n",
              "              style=\"display:none;\">\n",
              "        \n",
              "  <svg xmlns=\"http://www.w3.org/2000/svg\" height=\"24px\"viewBox=\"0 0 24 24\"\n",
              "       width=\"24px\">\n",
              "    <path d=\"M0 0h24v24H0V0z\" fill=\"none\"/>\n",
              "    <path d=\"M18.56 5.44l.94 2.06.94-2.06 2.06-.94-2.06-.94-.94-2.06-.94 2.06-2.06.94zm-11 1L8.5 8.5l.94-2.06 2.06-.94-2.06-.94L8.5 2.5l-.94 2.06-2.06.94zm10 10l.94 2.06.94-2.06 2.06-.94-2.06-.94-.94-2.06-.94 2.06-2.06.94z\"/><path d=\"M17.41 7.96l-1.37-1.37c-.4-.4-.92-.59-1.43-.59-.52 0-1.04.2-1.43.59L10.3 9.45l-7.72 7.72c-.78.78-.78 2.05 0 2.83L4 21.41c.39.39.9.59 1.41.59.51 0 1.02-.2 1.41-.59l7.78-7.78 2.81-2.81c.8-.78.8-2.07 0-2.86zM5.41 20L4 18.59l7.72-7.72 1.47 1.35L5.41 20z\"/>\n",
              "  </svg>\n",
              "      </button>\n",
              "      \n",
              "  <style>\n",
              "    .colab-df-container {\n",
              "      display:flex;\n",
              "      flex-wrap:wrap;\n",
              "      gap: 12px;\n",
              "    }\n",
              "\n",
              "    .colab-df-convert {\n",
              "      background-color: #E8F0FE;\n",
              "      border: none;\n",
              "      border-radius: 50%;\n",
              "      cursor: pointer;\n",
              "      display: none;\n",
              "      fill: #1967D2;\n",
              "      height: 32px;\n",
              "      padding: 0 0 0 0;\n",
              "      width: 32px;\n",
              "    }\n",
              "\n",
              "    .colab-df-convert:hover {\n",
              "      background-color: #E2EBFA;\n",
              "      box-shadow: 0px 1px 2px rgba(60, 64, 67, 0.3), 0px 1px 3px 1px rgba(60, 64, 67, 0.15);\n",
              "      fill: #174EA6;\n",
              "    }\n",
              "\n",
              "    [theme=dark] .colab-df-convert {\n",
              "      background-color: #3B4455;\n",
              "      fill: #D2E3FC;\n",
              "    }\n",
              "\n",
              "    [theme=dark] .colab-df-convert:hover {\n",
              "      background-color: #434B5C;\n",
              "      box-shadow: 0px 1px 3px 1px rgba(0, 0, 0, 0.15);\n",
              "      filter: drop-shadow(0px 1px 2px rgba(0, 0, 0, 0.3));\n",
              "      fill: #FFFFFF;\n",
              "    }\n",
              "  </style>\n",
              "\n",
              "      <script>\n",
              "        const buttonEl =\n",
              "          document.querySelector('#df-b0aa6d37-591c-4daf-bd2a-315868d9aa66 button.colab-df-convert');\n",
              "        buttonEl.style.display =\n",
              "          google.colab.kernel.accessAllowed ? 'block' : 'none';\n",
              "\n",
              "        async function convertToInteractive(key) {\n",
              "          const element = document.querySelector('#df-b0aa6d37-591c-4daf-bd2a-315868d9aa66');\n",
              "          const dataTable =\n",
              "            await google.colab.kernel.invokeFunction('convertToInteractive',\n",
              "                                                     [key], {});\n",
              "          if (!dataTable) return;\n",
              "\n",
              "          const docLinkHtml = 'Like what you see? Visit the ' +\n",
              "            '<a target=\"_blank\" href=https://colab.research.google.com/notebooks/data_table.ipynb>data table notebook</a>'\n",
              "            + ' to learn more about interactive tables.';\n",
              "          element.innerHTML = '';\n",
              "          dataTable['output_type'] = 'display_data';\n",
              "          await google.colab.output.renderOutput(dataTable, element);\n",
              "          const docLink = document.createElement('div');\n",
              "          docLink.innerHTML = docLinkHtml;\n",
              "          element.appendChild(docLink);\n",
              "        }\n",
              "      </script>\n",
              "    </div>\n",
              "  </div>\n",
              "  "
            ]
          },
          "metadata": {},
          "execution_count": 52
        }
      ]
    },
    {
      "cell_type": "code",
      "source": [
        "df['education_qual'].value_counts()"
      ],
      "metadata": {
        "colab": {
          "base_uri": "https://localhost:8080/"
        },
        "id": "JNjx4eoIgTsM",
        "outputId": "fc20efb1-3f44-48b7-b4e8-39887fea4b5f"
      },
      "execution_count": 53,
      "outputs": [
        {
          "output_type": "execute_result",
          "data": {
            "text/plain": [
              "secondary    23128\n",
              "tertiary     13260\n",
              "primary       6799\n",
              "Name: education_qual, dtype: int64"
            ]
          },
          "metadata": {},
          "execution_count": 53
        }
      ]
    },
    {
      "cell_type": "code",
      "source": [
        "print(\"Now the dataset has {} rows and {} columns after dropping unknown values in educational qualifications\".format(df.shape[0], df.shape[1]))"
      ],
      "metadata": {
        "colab": {
          "base_uri": "https://localhost:8080/"
        },
        "id": "BEsIBVq-f4JX",
        "outputId": "bc00692c-8c9f-45a7-dbda-ec02622741d6"
      },
      "execution_count": 54,
      "outputs": [
        {
          "output_type": "stream",
          "name": "stdout",
          "text": [
            "Now the dataset has 43187 rows and 11 columns after dropping unknown values in educational qualifications\n"
          ]
        }
      ]
    },
    {
      "cell_type": "markdown",
      "source": [
        "# **call_type**"
      ],
      "metadata": {
        "id": "yGVmP1tygn9G"
      }
    },
    {
      "cell_type": "code",
      "source": [
        "df['call_type'].isnull().sum() # No null values in the data"
      ],
      "metadata": {
        "colab": {
          "base_uri": "https://localhost:8080/"
        },
        "id": "tKB3gvs7gpQ3",
        "outputId": "b5d0696a-2fd9-4325-9298-d7ff1e087fa1"
      },
      "execution_count": 55,
      "outputs": [
        {
          "output_type": "execute_result",
          "data": {
            "text/plain": [
              "0"
            ]
          },
          "metadata": {},
          "execution_count": 55
        }
      ]
    },
    {
      "cell_type": "code",
      "source": [
        "df['call_type'].value_counts()"
      ],
      "metadata": {
        "colab": {
          "base_uri": "https://localhost:8080/"
        },
        "id": "6rqOTJb8grut",
        "outputId": "c58e05aa-f862-4a89-cff6-7d322f2be287"
      },
      "execution_count": 56,
      "outputs": [
        {
          "output_type": "execute_result",
          "data": {
            "text/plain": [
              "cellular     28210\n",
              "unknown      12283\n",
              "telephone     2694\n",
              "Name: call_type, dtype: int64"
            ]
          },
          "metadata": {},
          "execution_count": 56
        }
      ]
    },
    {
      "cell_type": "code",
      "source": [
        "print(\"The percentage of unknown data is:\", ((df['call_type']=='unknown').sum()/df.shape[0])*100)"
      ],
      "metadata": {
        "colab": {
          "base_uri": "https://localhost:8080/"
        },
        "id": "KZrMlap8gyU9",
        "outputId": "ae7cc7a5-4c52-4726-91a4-3cf51569d449"
      },
      "execution_count": 57,
      "outputs": [
        {
          "output_type": "stream",
          "name": "stdout",
          "text": [
            "The percentage of unknown data is: 28.441429133767105\n"
          ]
        }
      ]
    },
    {
      "cell_type": "markdown",
      "source": [
        "so much of data is unknow, i decided to drop the feature"
      ],
      "metadata": {
        "id": "0w-ysPidhc1A"
      }
    },
    {
      "cell_type": "code",
      "source": [
        "df.drop(['call_type'],axis=1,inplace=True)"
      ],
      "metadata": {
        "id": "B4Au50OVhcBP"
      },
      "execution_count": 58,
      "outputs": []
    },
    {
      "cell_type": "code",
      "source": [
        "df.columns"
      ],
      "metadata": {
        "colab": {
          "base_uri": "https://localhost:8080/"
        },
        "id": "xIdcABQBhmkF",
        "outputId": "b1b7a987-a895-44f4-aee9-59f40926e188"
      },
      "execution_count": 59,
      "outputs": [
        {
          "output_type": "execute_result",
          "data": {
            "text/plain": [
              "Index(['age', 'job', 'marital', 'education_qual', 'day', 'mon', 'dur',\n",
              "       'num_calls', 'prev_outcome', 'insurance_stat'],\n",
              "      dtype='object')"
            ]
          },
          "metadata": {},
          "execution_count": 59
        }
      ]
    },
    {
      "cell_type": "markdown",
      "source": [
        "# **day**"
      ],
      "metadata": {
        "id": "2NgVQUDHh-yl"
      }
    },
    {
      "cell_type": "code",
      "source": [
        "df['day'].isnull().sum()"
      ],
      "metadata": {
        "colab": {
          "base_uri": "https://localhost:8080/"
        },
        "id": "ISqj9YvahoXP",
        "outputId": "7606eae2-861a-4c00-99ac-1c4bdc3b3c36"
      },
      "execution_count": 60,
      "outputs": [
        {
          "output_type": "execute_result",
          "data": {
            "text/plain": [
              "0"
            ]
          },
          "metadata": {},
          "execution_count": 60
        }
      ]
    },
    {
      "cell_type": "code",
      "source": [
        "df['day'][0]"
      ],
      "metadata": {
        "colab": {
          "base_uri": "https://localhost:8080/"
        },
        "id": "ClbInURbiCms",
        "outputId": "d12a8648-fc97-4ab5-820f-cff09c60e8b1"
      },
      "execution_count": 61,
      "outputs": [
        {
          "output_type": "execute_result",
          "data": {
            "text/plain": [
              "5.0"
            ]
          },
          "metadata": {},
          "execution_count": 61
        }
      ]
    },
    {
      "cell_type": "code",
      "source": [
        "df['day'] = df['day'].astype('int64')"
      ],
      "metadata": {
        "id": "PPvQ0C2FiJGZ"
      },
      "execution_count": 62,
      "outputs": []
    },
    {
      "cell_type": "code",
      "source": [
        "df['day'].value_counts()"
      ],
      "metadata": {
        "colab": {
          "base_uri": "https://localhost:8080/"
        },
        "id": "1rM73QCViaqG",
        "outputId": "415b961b-cf1c-4d4b-c13c-5fc124c97331"
      },
      "execution_count": 63,
      "outputs": [
        {
          "output_type": "execute_result",
          "data": {
            "text/plain": [
              "20    2628\n",
              "18    2227\n",
              "21    1961\n",
              "17    1872\n",
              "6     1817\n",
              "5     1796\n",
              "14    1784\n",
              "8     1758\n",
              "7     1739\n",
              "28    1739\n",
              "29    1661\n",
              "19    1656\n",
              "15    1649\n",
              "12    1542\n",
              "13    1529\n",
              "9     1483\n",
              "30    1481\n",
              "11    1397\n",
              "4     1372\n",
              "16    1331\n",
              "2     1243\n",
              "27    1072\n",
              "3     1039\n",
              "26     994\n",
              "23     900\n",
              "22     875\n",
              "25     810\n",
              "31     597\n",
              "10     504\n",
              "24     426\n",
              "1      305\n",
              "Name: day, dtype: int64"
            ]
          },
          "metadata": {},
          "execution_count": 63
        }
      ]
    },
    {
      "cell_type": "code",
      "source": [
        "sns.boxplot('day',data=df)\n",
        "plt.title(\"Visualising outliers\",color='m',size=13)"
      ],
      "metadata": {
        "colab": {
          "base_uri": "https://localhost:8080/",
          "height": 367
        },
        "id": "AiVeVSclLBRL",
        "outputId": "43a93b9f-c3b2-41a2-8c1a-9d2720e495f1"
      },
      "execution_count": 64,
      "outputs": [
        {
          "output_type": "stream",
          "name": "stderr",
          "text": [
            "/usr/local/lib/python3.7/dist-packages/seaborn/_decorators.py:43: FutureWarning: Pass the following variable as a keyword arg: x. From version 0.12, the only valid positional argument will be `data`, and passing other arguments without an explicit keyword will result in an error or misinterpretation.\n",
            "  FutureWarning\n"
          ]
        },
        {
          "output_type": "execute_result",
          "data": {
            "text/plain": [
              "Text(0.5, 1.0, 'Visualising outliers')"
            ]
          },
          "metadata": {},
          "execution_count": 64
        },
        {
          "output_type": "display_data",
          "data": {
            "text/plain": [
              "<Figure size 432x288 with 1 Axes>"
            ],
            "image/png": "[encoded data removed]"
          },
          "metadata": {
            "needs_background": "light"
          }
        }
      ]
    },
    {
      "cell_type": "markdown",
      "source": [
        "No outliers in the data."
      ],
      "metadata": {
        "id": "YAn70swQLFI5"
      }
    },
    {
      "cell_type": "markdown",
      "source": [
        "# **mon**\n",
        "\n"
      ],
      "metadata": {
        "id": "Nrz4uMV_jJB3"
      }
    },
    {
      "cell_type": "code",
      "source": [
        "df['mon'].isnull().sum()"
      ],
      "metadata": {
        "colab": {
          "base_uri": "https://localhost:8080/"
        },
        "id": "J6AJtDpRjO7B",
        "outputId": "6d3367d6-5490-484a-a792-04f8a55510b6"
      },
      "execution_count": 65,
      "outputs": [
        {
          "output_type": "execute_result",
          "data": {
            "text/plain": [
              "0"
            ]
          },
          "metadata": {},
          "execution_count": 65
        }
      ]
    },
    {
      "cell_type": "code",
      "source": [
        "df['mon'][0]"
      ],
      "metadata": {
        "colab": {
          "base_uri": "https://localhost:8080/",
          "height": 35
        },
        "id": "AcqvTQTgjVF3",
        "outputId": "d90da45b-ebdb-4129-b169-0b49fc99fd3c"
      },
      "execution_count": 66,
      "outputs": [
        {
          "output_type": "execute_result",
          "data": {
            "text/plain": [
              "'may'"
            ],
            "application/vnd.google.colaboratory.intrinsic+json": {
              "type": "string"
            }
          },
          "metadata": {},
          "execution_count": 66
        }
      ]
    },
    {
      "cell_type": "code",
      "source": [
        "df['mon'].value_counts()"
      ],
      "metadata": {
        "colab": {
          "base_uri": "https://localhost:8080/"
        },
        "id": "MfFgGwPsjaPb",
        "outputId": "1ac05da1-24ad-4dec-ca76-d0a514276f84"
      },
      "execution_count": 67,
      "outputs": [
        {
          "output_type": "execute_result",
          "data": {
            "text/plain": [
              "may    13191\n",
              "jul     6600\n",
              "aug     6035\n",
              "jun     4978\n",
              "nov     3842\n",
              "apr     2820\n",
              "feb     2533\n",
              "jan     1318\n",
              "oct      690\n",
              "sep      532\n",
              "mar      448\n",
              "dec      200\n",
              "Name: mon, dtype: int64"
            ]
          },
          "metadata": {},
          "execution_count": 67
        }
      ]
    },
    {
      "cell_type": "markdown",
      "source": [
        "# **dur**"
      ],
      "metadata": {
        "id": "Tpoo3MrIjzwu"
      }
    },
    {
      "cell_type": "code",
      "source": [
        "df['dur'].isnull().sum()"
      ],
      "metadata": {
        "colab": {
          "base_uri": "https://localhost:8080/"
        },
        "id": "AYbfgNzyjf1-",
        "outputId": "507bd0cf-5fdb-44ff-fa20-7fe3e42f458e"
      },
      "execution_count": 68,
      "outputs": [
        {
          "output_type": "execute_result",
          "data": {
            "text/plain": [
              "0"
            ]
          },
          "metadata": {},
          "execution_count": 68
        }
      ]
    },
    {
      "cell_type": "code",
      "source": [
        "df['dur'][0]"
      ],
      "metadata": {
        "colab": {
          "base_uri": "https://localhost:8080/"
        },
        "id": "Pd3-bwdoj9_u",
        "outputId": "2bc1528e-e5b6-4cce-be88-aa2d8a0b9818"
      },
      "execution_count": 69,
      "outputs": [
        {
          "output_type": "execute_result",
          "data": {
            "text/plain": [
              "261.0"
            ]
          },
          "metadata": {},
          "execution_count": 69
        }
      ]
    },
    {
      "cell_type": "code",
      "source": [
        "df['dur'] = df['dur'].astype('int64')"
      ],
      "metadata": {
        "id": "ISpv0WF1lW9x"
      },
      "execution_count": 70,
      "outputs": []
    },
    {
      "cell_type": "markdown",
      "source": [
        "As duration is in seconds, we don't need milli seconds, so converting to integer."
      ],
      "metadata": {
        "id": "K8c3Sn_ula2_"
      }
    },
    {
      "cell_type": "code",
      "source": [
        "(df['dur']==0).sum()"
      ],
      "metadata": {
        "colab": {
          "base_uri": "https://localhost:8080/"
        },
        "id": "M7f0HyONkPch",
        "outputId": "839666ed-a6c2-47df-c9e9-250e7241705d"
      },
      "execution_count": 71,
      "outputs": [
        {
          "output_type": "execute_result",
          "data": {
            "text/plain": [
              "3"
            ]
          },
          "metadata": {},
          "execution_count": 71
        }
      ]
    },
    {
      "cell_type": "markdown",
      "source": [
        "duration=0, means may be the person didn't lift the call. So i am not treating it as a null value."
      ],
      "metadata": {
        "id": "HOktyJCdkX7a"
      }
    },
    {
      "cell_type": "code",
      "source": [
        "print(\"Minimum duration of call is:\",(df['dur']).min(),\"sec\")\n",
        "print(\"Maximum duration of call is:\",(df['dur']).max(),\"sec\")"
      ],
      "metadata": {
        "colab": {
          "base_uri": "https://localhost:8080/"
        },
        "id": "AOjubdQNkc50",
        "outputId": "32d884a6-33d2-4de5-851a-da00c5f9166e"
      },
      "execution_count": 72,
      "outputs": [
        {
          "output_type": "stream",
          "name": "stdout",
          "text": [
            "Minimum duration of call is: 0 sec\n",
            "Maximum duration of call is: 4918 sec\n"
          ]
        }
      ]
    },
    {
      "cell_type": "code",
      "source": [
        "df['dur'].value_counts()"
      ],
      "metadata": {
        "colab": {
          "base_uri": "https://localhost:8080/"
        },
        "id": "rLKlL06pj7TM",
        "outputId": "ca1b1357-b6e3-4db1-df1d-36abca53629c"
      },
      "execution_count": 73,
      "outputs": [
        {
          "output_type": "execute_result",
          "data": {
            "text/plain": [
              "124     176\n",
              "90      172\n",
              "89      172\n",
              "114     172\n",
              "122     169\n",
              "       ... \n",
              "1327      1\n",
              "1331      1\n",
              "1608      1\n",
              "1833      1\n",
              "1556      1\n",
              "Name: dur, Length: 1558, dtype: int64"
            ]
          },
          "metadata": {},
          "execution_count": 73
        }
      ]
    },
    {
      "cell_type": "code",
      "source": [
        "df['dur'].describe()"
      ],
      "metadata": {
        "colab": {
          "base_uri": "https://localhost:8080/"
        },
        "id": "qK9RM0n5lHUC",
        "outputId": "dbb27cc5-18ae-4850-bf32-770698446ed6"
      },
      "execution_count": 74,
      "outputs": [
        {
          "output_type": "execute_result",
          "data": {
            "text/plain": [
              "count    43187.000000\n",
              "mean       258.344340\n",
              "std        258.173244\n",
              "min          0.000000\n",
              "25%        103.000000\n",
              "50%        180.000000\n",
              "75%        318.000000\n",
              "max       4918.000000\n",
              "Name: dur, dtype: float64"
            ]
          },
          "metadata": {},
          "execution_count": 74
        }
      ]
    },
    {
      "cell_type": "code",
      "source": [
        "#Finding the IQR\n",
        "percentile25 = df['dur'].quantile(0.25)\n",
        "percentile75 = df['dur'].quantile(0.75)\n",
        "iqr=percentile75 - percentile25\n",
        "print(iqr)\n",
        "print(percentile25)\n",
        "print(percentile75)"
      ],
      "metadata": {
        "colab": {
          "base_uri": "https://localhost:8080/"
        },
        "id": "CKGGUuAmjvUD",
        "outputId": "4db98f63-22b1-43c5-b122-a0f8f530d9eb"
      },
      "execution_count": 75,
      "outputs": [
        {
          "output_type": "stream",
          "name": "stdout",
          "text": [
            "215.0\n",
            "103.0\n",
            "318.0\n"
          ]
        }
      ]
    },
    {
      "cell_type": "code",
      "source": [
        "#Finding upper and lower limit\n",
        "upper_limit = percentile75 + 1.5 * iqr\n",
        "lower_limit = percentile25 - 1.5 * iqr\n",
        "print(upper_limit)\n",
        "print(lower_limit)"
      ],
      "metadata": {
        "colab": {
          "base_uri": "https://localhost:8080/"
        },
        "id": "c5y0S242j0gx",
        "outputId": "9482a6ae-35de-4942-f171-cb6a75e72934"
      },
      "execution_count": 76,
      "outputs": [
        {
          "output_type": "stream",
          "name": "stdout",
          "text": [
            "640.5\n",
            "-219.5\n"
          ]
        }
      ]
    },
    {
      "cell_type": "code",
      "source": [
        "df[df['dur'] < lower_limit]"
      ],
      "metadata": {
        "colab": {
          "base_uri": "https://localhost:8080/",
          "height": 49
        },
        "id": "BZd6kLTFj4au",
        "outputId": "bbde534c-2a78-45ed-b84e-4eb37e2739f0"
      },
      "execution_count": 77,
      "outputs": [
        {
          "output_type": "execute_result",
          "data": {
            "text/plain": [
              "Empty DataFrame\n",
              "Columns: [age, job, marital, education_qual, day, mon, dur, num_calls, prev_outcome, insurance_stat]\n",
              "Index: []"
            ],
            "text/html": [
              "\n",
              "  <div id=\"df-fb2b2254-bcf6-49e6-ac44-a53f4dd30a24\">\n",
              "    <div class=\"colab-df-container\">\n",
              "      <div>\n",
              "<style scoped>\n",
              "    .dataframe tbody tr th:only-of-type {\n",
              "        vertical-align: middle;\n",
              "    }\n",
              "\n",
              "    .dataframe tbody tr th {\n",
              "        vertical-align: top;\n",
              "    }\n",
              "\n",
              "    .dataframe thead th {\n",
              "        text-align: right;\n",
              "    }\n",
              "</style>\n",
              "<table border=\"1\" class=\"dataframe\">\n",
              "  <thead>\n",
              "    <tr style=\"text-align: right;\">\n",
              "      <th></th>\n",
              "      <th>age</th>\n",
              "      <th>job</th>\n",
              "      <th>marital</th>\n",
              "      <th>education_qual</th>\n",
              "      <th>day</th>\n",
              "      <th>mon</th>\n",
              "      <th>dur</th>\n",
              "      <th>num_calls</th>\n",
              "      <th>prev_outcome</th>\n",
              "      <th>insurance_stat</th>\n",
              "    </tr>\n",
              "  </thead>\n",
              "  <tbody>\n",
              "  </tbody>\n",
              "</table>\n",
              "</div>\n",
              "      <button class=\"colab-df-convert\" onclick=\"convertToInteractive('df-fb2b2254-bcf6-49e6-ac44-a53f4dd30a24')\"\n",
              "              title=\"Convert this dataframe to an interactive table.\"\n",
              "              style=\"display:none;\">\n",
              "        \n",
              "  <svg xmlns=\"http://www.w3.org/2000/svg\" height=\"24px\"viewBox=\"0 0 24 24\"\n",
              "       width=\"24px\">\n",
              "    <path d=\"M0 0h24v24H0V0z\" fill=\"none\"/>\n",
              "    <path d=\"M18.56 5.44l.94 2.06.94-2.06 2.06-.94-2.06-.94-.94-2.06-.94 2.06-2.06.94zm-11 1L8.5 8.5l.94-2.06 2.06-.94-2.06-.94L8.5 2.5l-.94 2.06-2.06.94zm10 10l.94 2.06.94-2.06 2.06-.94-2.06-.94-.94-2.06-.94 2.06-2.06.94z\"/><path d=\"M17.41 7.96l-1.37-1.37c-.4-.4-.92-.59-1.43-.59-.52 0-1.04.2-1.43.59L10.3 9.45l-7.72 7.72c-.78.78-.78 2.05 0 2.83L4 21.41c.39.39.9.59 1.41.59.51 0 1.02-.2 1.41-.59l7.78-7.78 2.81-2.81c.8-.78.8-2.07 0-2.86zM5.41 20L4 18.59l7.72-7.72 1.47 1.35L5.41 20z\"/>\n",
              "  </svg>\n",
              "      </button>\n",
              "      \n",
              "  <style>\n",
              "    .colab-df-container {\n",
              "      display:flex;\n",
              "      flex-wrap:wrap;\n",
              "      gap: 12px;\n",
              "    }\n",
              "\n",
              "    .colab-df-convert {\n",
              "      background-color: #E8F0FE;\n",
              "      border: none;\n",
              "      border-radius: 50%;\n",
              "      cursor: pointer;\n",
              "      display: none;\n",
              "      fill: #1967D2;\n",
              "      height: 32px;\n",
              "      padding: 0 0 0 0;\n",
              "      width: 32px;\n",
              "    }\n",
              "\n",
              "    .colab-df-convert:hover {\n",
              "      background-color: #E2EBFA;\n",
              "      box-shadow: 0px 1px 2px rgba(60, 64, 67, 0.3), 0px 1px 3px 1px rgba(60, 64, 67, 0.15);\n",
              "      fill: #174EA6;\n",
              "    }\n",
              "\n",
              "    [theme=dark] .colab-df-convert {\n",
              "      background-color: #3B4455;\n",
              "      fill: #D2E3FC;\n",
              "    }\n",
              "\n",
              "    [theme=dark] .colab-df-convert:hover {\n",
              "      background-color: #434B5C;\n",
              "      box-shadow: 0px 1px 3px 1px rgba(0, 0, 0, 0.15);\n",
              "      filter: drop-shadow(0px 1px 2px rgba(0, 0, 0, 0.3));\n",
              "      fill: #FFFFFF;\n",
              "    }\n",
              "  </style>\n",
              "\n",
              "      <script>\n",
              "        const buttonEl =\n",
              "          document.querySelector('#df-fb2b2254-bcf6-49e6-ac44-a53f4dd30a24 button.colab-df-convert');\n",
              "        buttonEl.style.display =\n",
              "          google.colab.kernel.accessAllowed ? 'block' : 'none';\n",
              "\n",
              "        async function convertToInteractive(key) {\n",
              "          const element = document.querySelector('#df-fb2b2254-bcf6-49e6-ac44-a53f4dd30a24');\n",
              "          const dataTable =\n",
              "            await google.colab.kernel.invokeFunction('convertToInteractive',\n",
              "                                                     [key], {});\n",
              "          if (!dataTable) return;\n",
              "\n",
              "          const docLinkHtml = 'Like what you see? Visit the ' +\n",
              "            '<a target=\"_blank\" href=https://colab.research.google.com/notebooks/data_table.ipynb>data table notebook</a>'\n",
              "            + ' to learn more about interactive tables.';\n",
              "          element.innerHTML = '';\n",
              "          dataTable['output_type'] = 'display_data';\n",
              "          await google.colab.output.renderOutput(dataTable, element);\n",
              "          const docLink = document.createElement('div');\n",
              "          docLink.innerHTML = docLinkHtml;\n",
              "          element.appendChild(docLink);\n",
              "        }\n",
              "      </script>\n",
              "    </div>\n",
              "  </div>\n",
              "  "
            ]
          },
          "metadata": {},
          "execution_count": 77
        }
      ]
    },
    {
      "cell_type": "code",
      "source": [
        "df[df['dur'] > upper_limit]"
      ],
      "metadata": {
        "colab": {
          "base_uri": "https://localhost:8080/",
          "height": 424
        },
        "id": "wi9I3uG5kLpW",
        "outputId": "d040bd24-9cae-4d84-d586-0f943007c8b1"
      },
      "execution_count": 78,
      "outputs": [
        {
          "output_type": "execute_result",
          "data": {
            "text/plain": [
              "       age          job   marital education_qual  day  mon   dur  num_calls  \\\n",
              "33      53   technician   married      secondary    5  may  1666        1.0   \n",
              "38      54      retired   married      secondary    5  may  1492        1.0   \n",
              "47      42        admin    single      secondary    5  may   787        1.0   \n",
              "51      46     services   married        primary    5  may  1778        1.0   \n",
              "53      53   technician  divorced      secondary    5  may   812        1.0   \n",
              "...    ...          ...       ...            ...  ...  ...   ...        ...   \n",
              "43105   27  blue-collar    single        primary   26  oct   701        2.0   \n",
              "43175   34  blue-collar    single      secondary   16  nov  1166        3.0   \n",
              "43176   38   technician   married      secondary   16  nov  1556        4.0   \n",
              "43182   51   technician   married       tertiary   17  nov   977        3.0   \n",
              "43184   72      retired   married      secondary   17  nov  1127        5.0   \n",
              "\n",
              "      prev_outcome insurance_stat  \n",
              "33         unknown             no  \n",
              "38         unknown             no  \n",
              "47         unknown             no  \n",
              "51         unknown             no  \n",
              "53         unknown             no  \n",
              "...            ...            ...  \n",
              "43105      unknown            yes  \n",
              "43175        other             no  \n",
              "43176      unknown            yes  \n",
              "43182      unknown            yes  \n",
              "43184      success            yes  \n",
              "\n",
              "[3124 rows x 10 columns]"
            ],
            "text/html": [
              "\n",
              "  <div id=\"df-5eea14c3-9624-4023-b723-61748be8d0d7\">\n",
              "    <div class=\"colab-df-container\">\n",
              "      <div>\n",
              "<style scoped>\n",
              "    .dataframe tbody tr th:only-of-type {\n",
              "        vertical-align: middle;\n",
              "    }\n",
              "\n",
              "    .dataframe tbody tr th {\n",
              "        vertical-align: top;\n",
              "    }\n",
              "\n",
              "    .dataframe thead th {\n",
              "        text-align: right;\n",
              "    }\n",
              "</style>\n",
              "<table border=\"1\" class=\"dataframe\">\n",
              "  <thead>\n",
              "    <tr style=\"text-align: right;\">\n",
              "      <th></th>\n",
              "      <th>age</th>\n",
              "      <th>job</th>\n",
              "      <th>marital</th>\n",
              "      <th>education_qual</th>\n",
              "      <th>day</th>\n",
              "      <th>mon</th>\n",
              "      <th>dur</th>\n",
              "      <th>num_calls</th>\n",
              "      <th>prev_outcome</th>\n",
              "      <th>insurance_stat</th>\n",
              "    </tr>\n",
              "  </thead>\n",
              "  <tbody>\n",
              "    <tr>\n",
              "      <th>33</th>\n",
              "      <td>53</td>\n",
              "      <td>technician</td>\n",
              "      <td>married</td>\n",
              "      <td>secondary</td>\n",
              "      <td>5</td>\n",
              "      <td>may</td>\n",
              "      <td>1666</td>\n",
              "      <td>1.0</td>\n",
              "      <td>unknown</td>\n",
              "      <td>no</td>\n",
              "    </tr>\n",
              "    <tr>\n",
              "      <th>38</th>\n",
              "      <td>54</td>\n",
              "      <td>retired</td>\n",
              "      <td>married</td>\n",
              "      <td>secondary</td>\n",
              "      <td>5</td>\n",
              "      <td>may</td>\n",
              "      <td>1492</td>\n",
              "      <td>1.0</td>\n",
              "      <td>unknown</td>\n",
              "      <td>no</td>\n",
              "    </tr>\n",
              "    <tr>\n",
              "      <th>47</th>\n",
              "      <td>42</td>\n",
              "      <td>admin</td>\n",
              "      <td>single</td>\n",
              "      <td>secondary</td>\n",
              "      <td>5</td>\n",
              "      <td>may</td>\n",
              "      <td>787</td>\n",
              "      <td>1.0</td>\n",
              "      <td>unknown</td>\n",
              "      <td>no</td>\n",
              "    </tr>\n",
              "    <tr>\n",
              "      <th>51</th>\n",
              "      <td>46</td>\n",
              "      <td>services</td>\n",
              "      <td>married</td>\n",
              "      <td>primary</td>\n",
              "      <td>5</td>\n",
              "      <td>may</td>\n",
              "      <td>1778</td>\n",
              "      <td>1.0</td>\n",
              "      <td>unknown</td>\n",
              "      <td>no</td>\n",
              "    </tr>\n",
              "    <tr>\n",
              "      <th>53</th>\n",
              "      <td>53</td>\n",
              "      <td>technician</td>\n",
              "      <td>divorced</td>\n",
              "      <td>secondary</td>\n",
              "      <td>5</td>\n",
              "      <td>may</td>\n",
              "      <td>812</td>\n",
              "      <td>1.0</td>\n",
              "      <td>unknown</td>\n",
              "      <td>no</td>\n",
              "    </tr>\n",
              "    <tr>\n",
              "      <th>...</th>\n",
              "      <td>...</td>\n",
              "      <td>...</td>\n",
              "      <td>...</td>\n",
              "      <td>...</td>\n",
              "      <td>...</td>\n",
              "      <td>...</td>\n",
              "      <td>...</td>\n",
              "      <td>...</td>\n",
              "      <td>...</td>\n",
              "      <td>...</td>\n",
              "    </tr>\n",
              "    <tr>\n",
              "      <th>43105</th>\n",
              "      <td>27</td>\n",
              "      <td>blue-collar</td>\n",
              "      <td>single</td>\n",
              "      <td>primary</td>\n",
              "      <td>26</td>\n",
              "      <td>oct</td>\n",
              "      <td>701</td>\n",
              "      <td>2.0</td>\n",
              "      <td>unknown</td>\n",
              "      <td>yes</td>\n",
              "    </tr>\n",
              "    <tr>\n",
              "      <th>43175</th>\n",
              "      <td>34</td>\n",
              "      <td>blue-collar</td>\n",
              "      <td>single</td>\n",
              "      <td>secondary</td>\n",
              "      <td>16</td>\n",
              "      <td>nov</td>\n",
              "      <td>1166</td>\n",
              "      <td>3.0</td>\n",
              "      <td>other</td>\n",
              "      <td>no</td>\n",
              "    </tr>\n",
              "    <tr>\n",
              "      <th>43176</th>\n",
              "      <td>38</td>\n",
              "      <td>technician</td>\n",
              "      <td>married</td>\n",
              "      <td>secondary</td>\n",
              "      <td>16</td>\n",
              "      <td>nov</td>\n",
              "      <td>1556</td>\n",
              "      <td>4.0</td>\n",
              "      <td>unknown</td>\n",
              "      <td>yes</td>\n",
              "    </tr>\n",
              "    <tr>\n",
              "      <th>43182</th>\n",
              "      <td>51</td>\n",
              "      <td>technician</td>\n",
              "      <td>married</td>\n",
              "      <td>tertiary</td>\n",
              "      <td>17</td>\n",
              "      <td>nov</td>\n",
              "      <td>977</td>\n",
              "      <td>3.0</td>\n",
              "      <td>unknown</td>\n",
              "      <td>yes</td>\n",
              "    </tr>\n",
              "    <tr>\n",
              "      <th>43184</th>\n",
              "      <td>72</td>\n",
              "      <td>retired</td>\n",
              "      <td>married</td>\n",
              "      <td>secondary</td>\n",
              "      <td>17</td>\n",
              "      <td>nov</td>\n",
              "      <td>1127</td>\n",
              "      <td>5.0</td>\n",
              "      <td>success</td>\n",
              "      <td>yes</td>\n",
              "    </tr>\n",
              "  </tbody>\n",
              "</table>\n",
              "<p>3124 rows × 10 columns</p>\n",
              "</div>\n",
              "      <button class=\"colab-df-convert\" onclick=\"convertToInteractive('df-5eea14c3-9624-4023-b723-61748be8d0d7')\"\n",
              "              title=\"Convert this dataframe to an interactive table.\"\n",
              "              style=\"display:none;\">\n",
              "        \n",
              "  <svg xmlns=\"http://www.w3.org/2000/svg\" height=\"24px\"viewBox=\"0 0 24 24\"\n",
              "       width=\"24px\">\n",
              "    <path d=\"M0 0h24v24H0V0z\" fill=\"none\"/>\n",
              "    <path d=\"M18.56 5.44l.94 2.06.94-2.06 2.06-.94-2.06-.94-.94-2.06-.94 2.06-2.06.94zm-11 1L8.5 8.5l.94-2.06 2.06-.94-2.06-.94L8.5 2.5l-.94 2.06-2.06.94zm10 10l.94 2.06.94-2.06 2.06-.94-2.06-.94-.94-2.06-.94 2.06-2.06.94z\"/><path d=\"M17.41 7.96l-1.37-1.37c-.4-.4-.92-.59-1.43-.59-.52 0-1.04.2-1.43.59L10.3 9.45l-7.72 7.72c-.78.78-.78 2.05 0 2.83L4 21.41c.39.39.9.59 1.41.59.51 0 1.02-.2 1.41-.59l7.78-7.78 2.81-2.81c.8-.78.8-2.07 0-2.86zM5.41 20L4 18.59l7.72-7.72 1.47 1.35L5.41 20z\"/>\n",
              "  </svg>\n",
              "      </button>\n",
              "      \n",
              "  <style>\n",
              "    .colab-df-container {\n",
              "      display:flex;\n",
              "      flex-wrap:wrap;\n",
              "      gap: 12px;\n",
              "    }\n",
              "\n",
              "    .colab-df-convert {\n",
              "      background-color: #E8F0FE;\n",
              "      border: none;\n",
              "      border-radius: 50%;\n",
              "      cursor: pointer;\n",
              "      display: none;\n",
              "      fill: #1967D2;\n",
              "      height: 32px;\n",
              "      padding: 0 0 0 0;\n",
              "      width: 32px;\n",
              "    }\n",
              "\n",
              "    .colab-df-convert:hover {\n",
              "      background-color: #E2EBFA;\n",
              "      box-shadow: 0px 1px 2px rgba(60, 64, 67, 0.3), 0px 1px 3px 1px rgba(60, 64, 67, 0.15);\n",
              "      fill: #174EA6;\n",
              "    }\n",
              "\n",
              "    [theme=dark] .colab-df-convert {\n",
              "      background-color: #3B4455;\n",
              "      fill: #D2E3FC;\n",
              "    }\n",
              "\n",
              "    [theme=dark] .colab-df-convert:hover {\n",
              "      background-color: #434B5C;\n",
              "      box-shadow: 0px 1px 3px 1px rgba(0, 0, 0, 0.15);\n",
              "      filter: drop-shadow(0px 1px 2px rgba(0, 0, 0, 0.3));\n",
              "      fill: #FFFFFF;\n",
              "    }\n",
              "  </style>\n",
              "\n",
              "      <script>\n",
              "        const buttonEl =\n",
              "          document.querySelector('#df-5eea14c3-9624-4023-b723-61748be8d0d7 button.colab-df-convert');\n",
              "        buttonEl.style.display =\n",
              "          google.colab.kernel.accessAllowed ? 'block' : 'none';\n",
              "\n",
              "        async function convertToInteractive(key) {\n",
              "          const element = document.querySelector('#df-5eea14c3-9624-4023-b723-61748be8d0d7');\n",
              "          const dataTable =\n",
              "            await google.colab.kernel.invokeFunction('convertToInteractive',\n",
              "                                                     [key], {});\n",
              "          if (!dataTable) return;\n",
              "\n",
              "          const docLinkHtml = 'Like what you see? Visit the ' +\n",
              "            '<a target=\"_blank\" href=https://colab.research.google.com/notebooks/data_table.ipynb>data table notebook</a>'\n",
              "            + ' to learn more about interactive tables.';\n",
              "          element.innerHTML = '';\n",
              "          dataTable['output_type'] = 'display_data';\n",
              "          await google.colab.output.renderOutput(dataTable, element);\n",
              "          const docLink = document.createElement('div');\n",
              "          docLink.innerHTML = docLinkHtml;\n",
              "          element.appendChild(docLink);\n",
              "        }\n",
              "      </script>\n",
              "    </div>\n",
              "  </div>\n",
              "  "
            ]
          },
          "metadata": {},
          "execution_count": 78
        }
      ]
    },
    {
      "cell_type": "code",
      "source": [
        "len(df[df['dur'] > upper_limit])"
      ],
      "metadata": {
        "colab": {
          "base_uri": "https://localhost:8080/"
        },
        "id": "srAG6X7lj-6i",
        "outputId": "01affdf4-5912-4903-a288-fe99b8d9855c"
      },
      "execution_count": 79,
      "outputs": [
        {
          "output_type": "execute_result",
          "data": {
            "text/plain": [
              "3124"
            ]
          },
          "metadata": {},
          "execution_count": 79
        }
      ]
    },
    {
      "cell_type": "code",
      "source": [
        "df_high_dur = df[df['dur'] > upper_limit]\n",
        "print((df_high_dur['insurance_stat']=='yes').sum())\n",
        "print((df_high_dur['insurance_stat']=='no').sum())"
      ],
      "metadata": {
        "colab": {
          "base_uri": "https://localhost:8080/"
        },
        "id": "zpjHiYcFkN7L",
        "outputId": "a8838c0d-42a4-4a4f-c448-4bfc0610beba"
      },
      "execution_count": 80,
      "outputs": [
        {
          "output_type": "stream",
          "name": "stdout",
          "text": [
            "1600\n",
            "1524\n"
          ]
        }
      ]
    },
    {
      "cell_type": "code",
      "source": [
        "print((df_high_dur['insurance_stat']=='yes').sum()/3124)\n",
        "print((df_high_dur['insurance_stat']=='no').sum()/3124)"
      ],
      "metadata": {
        "colab": {
          "base_uri": "https://localhost:8080/"
        },
        "id": "CuPo1T86kf2M",
        "outputId": "04fa25fa-ecfa-44b7-bdec-ee3637c55acc"
      },
      "execution_count": 81,
      "outputs": [
        {
          "output_type": "stream",
          "name": "stdout",
          "text": [
            "0.5121638924455826\n",
            "0.4878361075544174\n"
          ]
        }
      ]
    },
    {
      "cell_type": "markdown",
      "source": [
        "There are outliers, but i am not going to clean them. Beacause a person can talk for how much time they need."
      ],
      "metadata": {
        "id": "lPLqop1tlr76"
      }
    },
    {
      "cell_type": "markdown",
      "source": [
        "# **num_calls**"
      ],
      "metadata": {
        "id": "0oBdHB2pmEAM"
      }
    },
    {
      "cell_type": "code",
      "source": [
        "df['num_calls'].isnull().sum()"
      ],
      "metadata": {
        "colab": {
          "base_uri": "https://localhost:8080/"
        },
        "id": "FdpS7gUYlqeV",
        "outputId": "d67cc549-07cd-4d94-8568-b6d2d73b007e"
      },
      "execution_count": 82,
      "outputs": [
        {
          "output_type": "execute_result",
          "data": {
            "text/plain": [
              "0"
            ]
          },
          "metadata": {},
          "execution_count": 82
        }
      ]
    },
    {
      "cell_type": "code",
      "source": [
        "df['num_calls'][0]"
      ],
      "metadata": {
        "colab": {
          "base_uri": "https://localhost:8080/"
        },
        "id": "bgrKYwnxmIYa",
        "outputId": "c49adb7d-5915-4a40-cb29-0fe7d95e998d"
      },
      "execution_count": 83,
      "outputs": [
        {
          "output_type": "execute_result",
          "data": {
            "text/plain": [
              "1.0"
            ]
          },
          "metadata": {},
          "execution_count": 83
        }
      ]
    },
    {
      "cell_type": "markdown",
      "source": [
        "number of contacts performed during this campaign for the client should be integer, so converting data type."
      ],
      "metadata": {
        "id": "73lEMS2imdM-"
      }
    },
    {
      "cell_type": "code",
      "source": [
        "df['num_calls'] = df['num_calls'].astype('int64')"
      ],
      "metadata": {
        "id": "3M7zJWxMmJn6"
      },
      "execution_count": 84,
      "outputs": []
    },
    {
      "cell_type": "code",
      "source": [
        "df['num_calls'].unique()"
      ],
      "metadata": {
        "colab": {
          "base_uri": "https://localhost:8080/"
        },
        "id": "0aXMxdbwmlvY",
        "outputId": "3074f6e2-559d-491f-a3fc-6f2912839e24"
      },
      "execution_count": 85,
      "outputs": [
        {
          "output_type": "execute_result",
          "data": {
            "text/plain": [
              "array([ 1,  2,  3,  5,  4,  7,  8,  6,  9, 10, 11, 12, 13, 19, 14, 24, 16,\n",
              "       32, 18, 22, 15, 17, 25, 21, 43, 51, 41, 26, 28, 55, 50, 38, 23, 20,\n",
              "       29, 31, 37, 30, 46, 27, 58, 33, 35, 34, 36, 39, 44])"
            ]
          },
          "metadata": {},
          "execution_count": 85
        }
      ]
    },
    {
      "cell_type": "code",
      "source": [
        "(df['num_calls']==0).sum()"
      ],
      "metadata": {
        "colab": {
          "base_uri": "https://localhost:8080/"
        },
        "id": "RCgWYxDim7zs",
        "outputId": "b229397c-b267-4b56-fd1e-1ada3c4955b1"
      },
      "execution_count": 86,
      "outputs": [
        {
          "output_type": "execute_result",
          "data": {
            "text/plain": [
              "0"
            ]
          },
          "metadata": {},
          "execution_count": 86
        }
      ]
    },
    {
      "cell_type": "code",
      "source": [
        "df['num_calls'].describe()"
      ],
      "metadata": {
        "colab": {
          "base_uri": "https://localhost:8080/"
        },
        "id": "iywX3bvll_qj",
        "outputId": "d2c42ca9-5057-4721-b41b-9375f68e4395"
      },
      "execution_count": 87,
      "outputs": [
        {
          "output_type": "execute_result",
          "data": {
            "text/plain": [
              "count    43187.000000\n",
              "mean         2.758237\n",
              "std          3.064160\n",
              "min          1.000000\n",
              "25%          1.000000\n",
              "50%          2.000000\n",
              "75%          3.000000\n",
              "max         58.000000\n",
              "Name: num_calls, dtype: float64"
            ]
          },
          "metadata": {},
          "execution_count": 87
        }
      ]
    },
    {
      "cell_type": "code",
      "source": [
        "sns.boxplot('num_calls',data=df)\n",
        "plt.title(\"Visualising outliers\",color='m',size=13)"
      ],
      "metadata": {
        "colab": {
          "base_uri": "https://localhost:8080/",
          "height": 368
        },
        "id": "sYRCOnfaLUmi",
        "outputId": "ebb46b57-132c-44fd-e735-ec81b51a4c16"
      },
      "execution_count": 88,
      "outputs": [
        {
          "output_type": "stream",
          "name": "stderr",
          "text": [
            "/usr/local/lib/python3.7/dist-packages/seaborn/_decorators.py:43: FutureWarning: Pass the following variable as a keyword arg: x. From version 0.12, the only valid positional argument will be `data`, and passing other arguments without an explicit keyword will result in an error or misinterpretation.\n",
            "  FutureWarning\n"
          ]
        },
        {
          "output_type": "execute_result",
          "data": {
            "text/plain": [
              "Text(0.5, 1.0, 'Visualising outliers')"
            ]
          },
          "metadata": {},
          "execution_count": 88
        },
        {
          "output_type": "display_data",
          "data": {
            "text/plain": [
              "<Figure size 432x288 with 1 Axes>"
            ],
            "image/png": "[encoded data removed]"
          },
          "metadata": {
            "needs_background": "light"
          }
        }
      ]
    },
    {
      "cell_type": "code",
      "source": [
        "#Finding the IQR\n",
        "percentile25 = df['num_calls'].quantile(0.25)\n",
        "percentile75 = df['num_calls'].quantile(0.75)\n",
        "iqr=percentile75 - percentile25\n",
        "print(iqr)\n",
        "print(percentile25)\n",
        "print(percentile75)"
      ],
      "metadata": {
        "colab": {
          "base_uri": "https://localhost:8080/"
        },
        "id": "E5qgPbSxl1S7",
        "outputId": "00bb4047-ee17-4b3d-8820-8cac1ea19428"
      },
      "execution_count": 89,
      "outputs": [
        {
          "output_type": "stream",
          "name": "stdout",
          "text": [
            "2.0\n",
            "1.0\n",
            "3.0\n"
          ]
        }
      ]
    },
    {
      "cell_type": "code",
      "source": [
        "#Finding upper and lower limit\n",
        "upper_limit = percentile75 + 1.5 * iqr\n",
        "lower_limit = percentile25 - 1.5 * iqr\n",
        "print(upper_limit)\n",
        "print(lower_limit)"
      ],
      "metadata": {
        "colab": {
          "base_uri": "https://localhost:8080/"
        },
        "id": "g0MehIHOl7n3",
        "outputId": "6514217d-acfc-42bc-9ba5-09420a37c8ea"
      },
      "execution_count": 90,
      "outputs": [
        {
          "output_type": "stream",
          "name": "stdout",
          "text": [
            "6.0\n",
            "-2.0\n"
          ]
        }
      ]
    },
    {
      "cell_type": "code",
      "source": [
        "df[df['num_calls'] < lower_limit]"
      ],
      "metadata": {
        "colab": {
          "base_uri": "https://localhost:8080/",
          "height": 49
        },
        "id": "86iGSIrYmNmq",
        "outputId": "46ca80d6-bbe6-491d-9473-650e5a927116"
      },
      "execution_count": 91,
      "outputs": [
        {
          "output_type": "execute_result",
          "data": {
            "text/plain": [
              "Empty DataFrame\n",
              "Columns: [age, job, marital, education_qual, day, mon, dur, num_calls, prev_outcome, insurance_stat]\n",
              "Index: []"
            ],
            "text/html": [
              "\n",
              "  <div id=\"df-6f541586-af87-4a1d-a633-d55209ed401f\">\n",
              "    <div class=\"colab-df-container\">\n",
              "      <div>\n",
              "<style scoped>\n",
              "    .dataframe tbody tr th:only-of-type {\n",
              "        vertical-align: middle;\n",
              "    }\n",
              "\n",
              "    .dataframe tbody tr th {\n",
              "        vertical-align: top;\n",
              "    }\n",
              "\n",
              "    .dataframe thead th {\n",
              "        text-align: right;\n",
              "    }\n",
              "</style>\n",
              "<table border=\"1\" class=\"dataframe\">\n",
              "  <thead>\n",
              "    <tr style=\"text-align: right;\">\n",
              "      <th></th>\n",
              "      <th>age</th>\n",
              "      <th>job</th>\n",
              "      <th>marital</th>\n",
              "      <th>education_qual</th>\n",
              "      <th>day</th>\n",
              "      <th>mon</th>\n",
              "      <th>dur</th>\n",
              "      <th>num_calls</th>\n",
              "      <th>prev_outcome</th>\n",
              "      <th>insurance_stat</th>\n",
              "    </tr>\n",
              "  </thead>\n",
              "  <tbody>\n",
              "  </tbody>\n",
              "</table>\n",
              "</div>\n",
              "      <button class=\"colab-df-convert\" onclick=\"convertToInteractive('df-6f541586-af87-4a1d-a633-d55209ed401f')\"\n",
              "              title=\"Convert this dataframe to an interactive table.\"\n",
              "              style=\"display:none;\">\n",
              "        \n",
              "  <svg xmlns=\"http://www.w3.org/2000/svg\" height=\"24px\"viewBox=\"0 0 24 24\"\n",
              "       width=\"24px\">\n",
              "    <path d=\"M0 0h24v24H0V0z\" fill=\"none\"/>\n",
              "    <path d=\"M18.56 5.44l.94 2.06.94-2.06 2.06-.94-2.06-.94-.94-2.06-.94 2.06-2.06.94zm-11 1L8.5 8.5l.94-2.06 2.06-.94-2.06-.94L8.5 2.5l-.94 2.06-2.06.94zm10 10l.94 2.06.94-2.06 2.06-.94-2.06-.94-.94-2.06-.94 2.06-2.06.94z\"/><path d=\"M17.41 7.96l-1.37-1.37c-.4-.4-.92-.59-1.43-.59-.52 0-1.04.2-1.43.59L10.3 9.45l-7.72 7.72c-.78.78-.78 2.05 0 2.83L4 21.41c.39.39.9.59 1.41.59.51 0 1.02-.2 1.41-.59l7.78-7.78 2.81-2.81c.8-.78.8-2.07 0-2.86zM5.41 20L4 18.59l7.72-7.72 1.47 1.35L5.41 20z\"/>\n",
              "  </svg>\n",
              "      </button>\n",
              "      \n",
              "  <style>\n",
              "    .colab-df-container {\n",
              "      display:flex;\n",
              "      flex-wrap:wrap;\n",
              "      gap: 12px;\n",
              "    }\n",
              "\n",
              "    .colab-df-convert {\n",
              "      background-color: #E8F0FE;\n",
              "      border: none;\n",
              "      border-radius: 50%;\n",
              "      cursor: pointer;\n",
              "      display: none;\n",
              "      fill: #1967D2;\n",
              "      height: 32px;\n",
              "      padding: 0 0 0 0;\n",
              "      width: 32px;\n",
              "    }\n",
              "\n",
              "    .colab-df-convert:hover {\n",
              "      background-color: #E2EBFA;\n",
              "      box-shadow: 0px 1px 2px rgba(60, 64, 67, 0.3), 0px 1px 3px 1px rgba(60, 64, 67, 0.15);\n",
              "      fill: #174EA6;\n",
              "    }\n",
              "\n",
              "    [theme=dark] .colab-df-convert {\n",
              "      background-color: #3B4455;\n",
              "      fill: #D2E3FC;\n",
              "    }\n",
              "\n",
              "    [theme=dark] .colab-df-convert:hover {\n",
              "      background-color: #434B5C;\n",
              "      box-shadow: 0px 1px 3px 1px rgba(0, 0, 0, 0.15);\n",
              "      filter: drop-shadow(0px 1px 2px rgba(0, 0, 0, 0.3));\n",
              "      fill: #FFFFFF;\n",
              "    }\n",
              "  </style>\n",
              "\n",
              "      <script>\n",
              "        const buttonEl =\n",
              "          document.querySelector('#df-6f541586-af87-4a1d-a633-d55209ed401f button.colab-df-convert');\n",
              "        buttonEl.style.display =\n",
              "          google.colab.kernel.accessAllowed ? 'block' : 'none';\n",
              "\n",
              "        async function convertToInteractive(key) {\n",
              "          const element = document.querySelector('#df-6f541586-af87-4a1d-a633-d55209ed401f');\n",
              "          const dataTable =\n",
              "            await google.colab.kernel.invokeFunction('convertToInteractive',\n",
              "                                                     [key], {});\n",
              "          if (!dataTable) return;\n",
              "\n",
              "          const docLinkHtml = 'Like what you see? Visit the ' +\n",
              "            '<a target=\"_blank\" href=https://colab.research.google.com/notebooks/data_table.ipynb>data table notebook</a>'\n",
              "            + ' to learn more about interactive tables.';\n",
              "          element.innerHTML = '';\n",
              "          dataTable['output_type'] = 'display_data';\n",
              "          await google.colab.output.renderOutput(dataTable, element);\n",
              "          const docLink = document.createElement('div');\n",
              "          docLink.innerHTML = docLinkHtml;\n",
              "          element.appendChild(docLink);\n",
              "        }\n",
              "      </script>\n",
              "    </div>\n",
              "  </div>\n",
              "  "
            ]
          },
          "metadata": {},
          "execution_count": 91
        }
      ]
    },
    {
      "cell_type": "code",
      "source": [
        "df[df['num_calls'] > upper_limit]"
      ],
      "metadata": {
        "colab": {
          "base_uri": "https://localhost:8080/",
          "height": 424
        },
        "id": "qOI8zqebmTm_",
        "outputId": "d60948fd-90cd-4d08-f4ac-721f784389f9"
      },
      "execution_count": 92,
      "outputs": [
        {
          "output_type": "execute_result",
          "data": {
            "text/plain": [
              "       age            job  marital education_qual  day  mon  dur  num_calls  \\\n",
              "679     59       services  married      secondary    6  may  250          7   \n",
              "701     30          admin  married      secondary    7  may  172          8   \n",
              "822     27       services   single      secondary    7  may  388          7   \n",
              "1008    43          admin  married       tertiary    7  may  244          7   \n",
              "1278    37          admin  married        primary    8  may  161          8   \n",
              "...    ...            ...      ...            ...  ...  ...  ...        ...   \n",
              "42676   25     technician   single      secondary    2  sep  206          7   \n",
              "42690   27  self-employed   single       tertiary    3  sep  543          9   \n",
              "42772   37       services   single       tertiary   13  sep  323          9   \n",
              "42878   38     management  married       tertiary   24  sep  246         12   \n",
              "43039   64     management  married       tertiary   19  oct  898          7   \n",
              "\n",
              "      prev_outcome insurance_stat  \n",
              "679        unknown             no  \n",
              "701        unknown             no  \n",
              "822        unknown             no  \n",
              "1008       unknown             no  \n",
              "1278       unknown             no  \n",
              "...            ...            ...  \n",
              "42676        other             no  \n",
              "42690      failure             no  \n",
              "42772        other            yes  \n",
              "42878      failure             no  \n",
              "43039        other            yes  \n",
              "\n",
              "[2900 rows x 10 columns]"
            ],
            "text/html": [
              "\n",
              "  <div id=\"df-79f1eed8-b635-4935-a007-b317b666cf5e\">\n",
              "    <div class=\"colab-df-container\">\n",
              "      <div>\n",
              "<style scoped>\n",
              "    .dataframe tbody tr th:only-of-type {\n",
              "        vertical-align: middle;\n",
              "    }\n",
              "\n",
              "    .dataframe tbody tr th {\n",
              "        vertical-align: top;\n",
              "    }\n",
              "\n",
              "    .dataframe thead th {\n",
              "        text-align: right;\n",
              "    }\n",
              "</style>\n",
              "<table border=\"1\" class=\"dataframe\">\n",
              "  <thead>\n",
              "    <tr style=\"text-align: right;\">\n",
              "      <th></th>\n",
              "      <th>age</th>\n",
              "      <th>job</th>\n",
              "      <th>marital</th>\n",
              "      <th>education_qual</th>\n",
              "      <th>day</th>\n",
              "      <th>mon</th>\n",
              "      <th>dur</th>\n",
              "      <th>num_calls</th>\n",
              "      <th>prev_outcome</th>\n",
              "      <th>insurance_stat</th>\n",
              "    </tr>\n",
              "  </thead>\n",
              "  <tbody>\n",
              "    <tr>\n",
              "      <th>679</th>\n",
              "      <td>59</td>\n",
              "      <td>services</td>\n",
              "      <td>married</td>\n",
              "      <td>secondary</td>\n",
              "      <td>6</td>\n",
              "      <td>may</td>\n",
              "      <td>250</td>\n",
              "      <td>7</td>\n",
              "      <td>unknown</td>\n",
              "      <td>no</td>\n",
              "    </tr>\n",
              "    <tr>\n",
              "      <th>701</th>\n",
              "      <td>30</td>\n",
              "      <td>admin</td>\n",
              "      <td>married</td>\n",
              "      <td>secondary</td>\n",
              "      <td>7</td>\n",
              "      <td>may</td>\n",
              "      <td>172</td>\n",
              "      <td>8</td>\n",
              "      <td>unknown</td>\n",
              "      <td>no</td>\n",
              "    </tr>\n",
              "    <tr>\n",
              "      <th>822</th>\n",
              "      <td>27</td>\n",
              "      <td>services</td>\n",
              "      <td>single</td>\n",
              "      <td>secondary</td>\n",
              "      <td>7</td>\n",
              "      <td>may</td>\n",
              "      <td>388</td>\n",
              "      <td>7</td>\n",
              "      <td>unknown</td>\n",
              "      <td>no</td>\n",
              "    </tr>\n",
              "    <tr>\n",
              "      <th>1008</th>\n",
              "      <td>43</td>\n",
              "      <td>admin</td>\n",
              "      <td>married</td>\n",
              "      <td>tertiary</td>\n",
              "      <td>7</td>\n",
              "      <td>may</td>\n",
              "      <td>244</td>\n",
              "      <td>7</td>\n",
              "      <td>unknown</td>\n",
              "      <td>no</td>\n",
              "    </tr>\n",
              "    <tr>\n",
              "      <th>1278</th>\n",
              "      <td>37</td>\n",
              "      <td>admin</td>\n",
              "      <td>married</td>\n",
              "      <td>primary</td>\n",
              "      <td>8</td>\n",
              "      <td>may</td>\n",
              "      <td>161</td>\n",
              "      <td>8</td>\n",
              "      <td>unknown</td>\n",
              "      <td>no</td>\n",
              "    </tr>\n",
              "    <tr>\n",
              "      <th>...</th>\n",
              "      <td>...</td>\n",
              "      <td>...</td>\n",
              "      <td>...</td>\n",
              "      <td>...</td>\n",
              "      <td>...</td>\n",
              "      <td>...</td>\n",
              "      <td>...</td>\n",
              "      <td>...</td>\n",
              "      <td>...</td>\n",
              "      <td>...</td>\n",
              "    </tr>\n",
              "    <tr>\n",
              "      <th>42676</th>\n",
              "      <td>25</td>\n",
              "      <td>technician</td>\n",
              "      <td>single</td>\n",
              "      <td>secondary</td>\n",
              "      <td>2</td>\n",
              "      <td>sep</td>\n",
              "      <td>206</td>\n",
              "      <td>7</td>\n",
              "      <td>other</td>\n",
              "      <td>no</td>\n",
              "    </tr>\n",
              "    <tr>\n",
              "      <th>42690</th>\n",
              "      <td>27</td>\n",
              "      <td>self-employed</td>\n",
              "      <td>single</td>\n",
              "      <td>tertiary</td>\n",
              "      <td>3</td>\n",
              "      <td>sep</td>\n",
              "      <td>543</td>\n",
              "      <td>9</td>\n",
              "      <td>failure</td>\n",
              "      <td>no</td>\n",
              "    </tr>\n",
              "    <tr>\n",
              "      <th>42772</th>\n",
              "      <td>37</td>\n",
              "      <td>services</td>\n",
              "      <td>single</td>\n",
              "      <td>tertiary</td>\n",
              "      <td>13</td>\n",
              "      <td>sep</td>\n",
              "      <td>323</td>\n",
              "      <td>9</td>\n",
              "      <td>other</td>\n",
              "      <td>yes</td>\n",
              "    </tr>\n",
              "    <tr>\n",
              "      <th>42878</th>\n",
              "      <td>38</td>\n",
              "      <td>management</td>\n",
              "      <td>married</td>\n",
              "      <td>tertiary</td>\n",
              "      <td>24</td>\n",
              "      <td>sep</td>\n",
              "      <td>246</td>\n",
              "      <td>12</td>\n",
              "      <td>failure</td>\n",
              "      <td>no</td>\n",
              "    </tr>\n",
              "    <tr>\n",
              "      <th>43039</th>\n",
              "      <td>64</td>\n",
              "      <td>management</td>\n",
              "      <td>married</td>\n",
              "      <td>tertiary</td>\n",
              "      <td>19</td>\n",
              "      <td>oct</td>\n",
              "      <td>898</td>\n",
              "      <td>7</td>\n",
              "      <td>other</td>\n",
              "      <td>yes</td>\n",
              "    </tr>\n",
              "  </tbody>\n",
              "</table>\n",
              "<p>2900 rows × 10 columns</p>\n",
              "</div>\n",
              "      <button class=\"colab-df-convert\" onclick=\"convertToInteractive('df-79f1eed8-b635-4935-a007-b317b666cf5e')\"\n",
              "              title=\"Convert this dataframe to an interactive table.\"\n",
              "              style=\"display:none;\">\n",
              "        \n",
              "  <svg xmlns=\"http://www.w3.org/2000/svg\" height=\"24px\"viewBox=\"0 0 24 24\"\n",
              "       width=\"24px\">\n",
              "    <path d=\"M0 0h24v24H0V0z\" fill=\"none\"/>\n",
              "    <path d=\"M18.56 5.44l.94 2.06.94-2.06 2.06-.94-2.06-.94-.94-2.06-.94 2.06-2.06.94zm-11 1L8.5 8.5l.94-2.06 2.06-.94-2.06-.94L8.5 2.5l-.94 2.06-2.06.94zm10 10l.94 2.06.94-2.06 2.06-.94-2.06-.94-.94-2.06-.94 2.06-2.06.94z\"/><path d=\"M17.41 7.96l-1.37-1.37c-.4-.4-.92-.59-1.43-.59-.52 0-1.04.2-1.43.59L10.3 9.45l-7.72 7.72c-.78.78-.78 2.05 0 2.83L4 21.41c.39.39.9.59 1.41.59.51 0 1.02-.2 1.41-.59l7.78-7.78 2.81-2.81c.8-.78.8-2.07 0-2.86zM5.41 20L4 18.59l7.72-7.72 1.47 1.35L5.41 20z\"/>\n",
              "  </svg>\n",
              "      </button>\n",
              "      \n",
              "  <style>\n",
              "    .colab-df-container {\n",
              "      display:flex;\n",
              "      flex-wrap:wrap;\n",
              "      gap: 12px;\n",
              "    }\n",
              "\n",
              "    .colab-df-convert {\n",
              "      background-color: #E8F0FE;\n",
              "      border: none;\n",
              "      border-radius: 50%;\n",
              "      cursor: pointer;\n",
              "      display: none;\n",
              "      fill: #1967D2;\n",
              "      height: 32px;\n",
              "      padding: 0 0 0 0;\n",
              "      width: 32px;\n",
              "    }\n",
              "\n",
              "    .colab-df-convert:hover {\n",
              "      background-color: #E2EBFA;\n",
              "      box-shadow: 0px 1px 2px rgba(60, 64, 67, 0.3), 0px 1px 3px 1px rgba(60, 64, 67, 0.15);\n",
              "      fill: #174EA6;\n",
              "    }\n",
              "\n",
              "    [theme=dark] .colab-df-convert {\n",
              "      background-color: #3B4455;\n",
              "      fill: #D2E3FC;\n",
              "    }\n",
              "\n",
              "    [theme=dark] .colab-df-convert:hover {\n",
              "      background-color: #434B5C;\n",
              "      box-shadow: 0px 1px 3px 1px rgba(0, 0, 0, 0.15);\n",
              "      filter: drop-shadow(0px 1px 2px rgba(0, 0, 0, 0.3));\n",
              "      fill: #FFFFFF;\n",
              "    }\n",
              "  </style>\n",
              "\n",
              "      <script>\n",
              "        const buttonEl =\n",
              "          document.querySelector('#df-79f1eed8-b635-4935-a007-b317b666cf5e button.colab-df-convert');\n",
              "        buttonEl.style.display =\n",
              "          google.colab.kernel.accessAllowed ? 'block' : 'none';\n",
              "\n",
              "        async function convertToInteractive(key) {\n",
              "          const element = document.querySelector('#df-79f1eed8-b635-4935-a007-b317b666cf5e');\n",
              "          const dataTable =\n",
              "            await google.colab.kernel.invokeFunction('convertToInteractive',\n",
              "                                                     [key], {});\n",
              "          if (!dataTable) return;\n",
              "\n",
              "          const docLinkHtml = 'Like what you see? Visit the ' +\n",
              "            '<a target=\"_blank\" href=https://colab.research.google.com/notebooks/data_table.ipynb>data table notebook</a>'\n",
              "            + ' to learn more about interactive tables.';\n",
              "          element.innerHTML = '';\n",
              "          dataTable['output_type'] = 'display_data';\n",
              "          await google.colab.output.renderOutput(dataTable, element);\n",
              "          const docLink = document.createElement('div');\n",
              "          docLink.innerHTML = docLinkHtml;\n",
              "          element.appendChild(docLink);\n",
              "        }\n",
              "      </script>\n",
              "    </div>\n",
              "  </div>\n",
              "  "
            ]
          },
          "metadata": {},
          "execution_count": 92
        }
      ]
    },
    {
      "cell_type": "code",
      "source": [
        "a = len(df[df['num_calls'] > upper_limit])\n",
        "print(a)"
      ],
      "metadata": {
        "colab": {
          "base_uri": "https://localhost:8080/"
        },
        "id": "L-YhQBZXmatG",
        "outputId": "0d7421a1-325c-4d72-f642-c41ef8167956"
      },
      "execution_count": 93,
      "outputs": [
        {
          "output_type": "stream",
          "name": "stdout",
          "text": [
            "2900\n"
          ]
        }
      ]
    },
    {
      "cell_type": "code",
      "source": [
        "df_high_calls = df[df['num_calls'] > upper_limit]\n",
        "b = (df_high_calls['insurance_stat']=='yes').sum()\n",
        "c = (df_high_calls['insurance_stat']=='no').sum()\n",
        "print(b,c)"
      ],
      "metadata": {
        "colab": {
          "base_uri": "https://localhost:8080/"
        },
        "id": "9nbBR5C9md5P",
        "outputId": "384e48f8-a25e-431a-b4ec-cc66552a4a01"
      },
      "execution_count": 94,
      "outputs": [
        {
          "output_type": "stream",
          "name": "stdout",
          "text": [
            "153 2747\n"
          ]
        }
      ]
    },
    {
      "cell_type": "code",
      "source": [
        "print((b/a)*100) #yes\n",
        "print((c/a)*100)#no"
      ],
      "metadata": {
        "colab": {
          "base_uri": "https://localhost:8080/"
        },
        "id": "6zvvOyx1m-C-",
        "outputId": "f5c477a1-0209-4fd2-c679-5230c98a6dc2"
      },
      "execution_count": 95,
      "outputs": [
        {
          "output_type": "stream",
          "name": "stdout",
          "text": [
            "5.275862068965517\n",
            "94.72413793103448\n"
          ]
        }
      ]
    },
    {
      "cell_type": "markdown",
      "source": [
        "There are outliers, but i am not going to clean them. Beacause there can be many number of calls"
      ],
      "metadata": {
        "id": "CFfOgSgVLjXh"
      }
    },
    {
      "cell_type": "markdown",
      "source": [
        "# **prev_outcome**"
      ],
      "metadata": {
        "id": "rOLjMeRfnleL"
      }
    },
    {
      "cell_type": "code",
      "source": [
        "df['prev_outcome'].isnull().sum()"
      ],
      "metadata": {
        "colab": {
          "base_uri": "https://localhost:8080/"
        },
        "id": "yugywbN8nb69",
        "outputId": "f4cba115-1f87-4783-bf95-3de27cf2329f"
      },
      "execution_count": 96,
      "outputs": [
        {
          "output_type": "execute_result",
          "data": {
            "text/plain": [
              "0"
            ]
          },
          "metadata": {},
          "execution_count": 96
        }
      ]
    },
    {
      "cell_type": "code",
      "source": [
        "df['prev_outcome'][0]"
      ],
      "metadata": {
        "colab": {
          "base_uri": "https://localhost:8080/",
          "height": 35
        },
        "id": "Un74tlifnofk",
        "outputId": "17db30bc-2582-4a12-fe61-ad145c7127c8"
      },
      "execution_count": 97,
      "outputs": [
        {
          "output_type": "execute_result",
          "data": {
            "text/plain": [
              "'unknown'"
            ],
            "application/vnd.google.colaboratory.intrinsic+json": {
              "type": "string"
            }
          },
          "metadata": {},
          "execution_count": 97
        }
      ]
    },
    {
      "cell_type": "code",
      "source": [
        "df['prev_outcome'].value_counts()"
      ],
      "metadata": {
        "colab": {
          "base_uri": "https://localhost:8080/"
        },
        "id": "AldrgqRonqNd",
        "outputId": "fbb743ac-aca8-4f31-930d-051835515819"
      },
      "execution_count": 98,
      "outputs": [
        {
          "output_type": "execute_result",
          "data": {
            "text/plain": [
              "unknown    35280\n",
              "failure     4709\n",
              "other       1774\n",
              "success     1424\n",
              "Name: prev_outcome, dtype: int64"
            ]
          },
          "metadata": {},
          "execution_count": 98
        }
      ]
    },
    {
      "cell_type": "code",
      "source": [
        "print(\"The percentage of unknown data is:\", ((df['prev_outcome']=='unknown').sum()/df.shape[0])*100)"
      ],
      "metadata": {
        "colab": {
          "base_uri": "https://localhost:8080/"
        },
        "id": "pHif4Z-Wnxwx",
        "outputId": "690f4810-99de-47b2-c224-b45408432b5a"
      },
      "execution_count": 99,
      "outputs": [
        {
          "output_type": "stream",
          "name": "stdout",
          "text": [
            "The percentage of unknown data is: 81.69124968161715\n"
          ]
        }
      ]
    },
    {
      "cell_type": "markdown",
      "source": [
        "As 81 percent of data is missing, i am going to drop this feature."
      ],
      "metadata": {
        "id": "hXd29oXnn3zp"
      }
    },
    {
      "cell_type": "code",
      "source": [
        "df.drop(['prev_outcome'],axis=1,inplace=True)"
      ],
      "metadata": {
        "id": "RydPc7T-n9S5"
      },
      "execution_count": 100,
      "outputs": []
    },
    {
      "cell_type": "code",
      "source": [
        "df.columns"
      ],
      "metadata": {
        "colab": {
          "base_uri": "https://localhost:8080/"
        },
        "id": "gcfALMmCofJK",
        "outputId": "611128c1-6e01-4eee-b85c-3b97e960238e"
      },
      "execution_count": 101,
      "outputs": [
        {
          "output_type": "execute_result",
          "data": {
            "text/plain": [
              "Index(['age', 'job', 'marital', 'education_qual', 'day', 'mon', 'dur',\n",
              "       'num_calls', 'insurance_stat'],\n",
              "      dtype='object')"
            ]
          },
          "metadata": {},
          "execution_count": 101
        }
      ]
    },
    {
      "cell_type": "markdown",
      "source": [
        "# **EDA**"
      ],
      "metadata": {
        "id": "LcCg0TGRiOq_"
      }
    },
    {
      "cell_type": "code",
      "source": [
        "sns.countplot(df['insurance_stat'])\n",
        "plt.title(\"Target counts\")\n",
        "plt.show()"
      ],
      "metadata": {
        "colab": {
          "base_uri": "https://localhost:8080/",
          "height": 351
        },
        "id": "Z3oJFDZyiQcy",
        "outputId": "9cce1c45-440c-4539-e359-81f17d5d0874"
      },
      "execution_count": 102,
      "outputs": [
        {
          "output_type": "stream",
          "name": "stderr",
          "text": [
            "/usr/local/lib/python3.7/dist-packages/seaborn/_decorators.py:43: FutureWarning: Pass the following variable as a keyword arg: x. From version 0.12, the only valid positional argument will be `data`, and passing other arguments without an explicit keyword will result in an error or misinterpretation.\n",
            "  FutureWarning\n"
          ]
        },
        {
          "output_type": "display_data",
          "data": {
            "text/plain": [
              "<Figure size 432x288 with 1 Axes>"
            ],
            "image/png": "[encoded data removed]"
          },
          "metadata": {
            "needs_background": "light"
          }
        }
      ]
    },
    {
      "cell_type": "markdown",
      "source": [
        "# **job**"
      ],
      "metadata": {
        "id": "w3_dLRoslOCP"
      }
    },
    {
      "cell_type": "code",
      "source": [
        "df_ins_yes = df[df['insurance_stat']=='yes']\n",
        "df_ins_no = df[df['insurance_stat']=='no']"
      ],
      "metadata": {
        "id": "G8r-zZFM8rRH"
      },
      "execution_count": 103,
      "outputs": []
    },
    {
      "cell_type": "code",
      "source": [
        "def feature(feature):\n",
        "  plt.subplot(2,2,1)\n",
        "  sns.countplot(df[feature],order = df[feature].value_counts().index[::-1])\n",
        "  plt.title(\"Countplot of \"+ feature,size=15)\n",
        "  plt.xticks(rotation=60)\n",
        "  plt.subplot(2,2,2)\n",
        "  sns.countplot(x=feature,hue='insurance_stat',data=df,order=df[feature].value_counts().index[::-1])\n",
        "  plt.title(\"Distribution of \"+feature,size=15)\n",
        "  plt.xticks(rotation=60)\n",
        "  plt.subplot(2,2,3)\n",
        "  sns.countplot(df_ins_yes[feature],order=df_ins_yes[feature].value_counts().index[::-1])\n",
        "  plt.title(feature + \" vs (target variable==yes)\",size=15)\n",
        "  plt.xticks(rotation=60)\n",
        "  plt.subplot(2,2,4)  \n",
        "  sns.countplot(df_ins_no[feature],order=df_ins_no[feature].value_counts().index[::-1])\n",
        "  plt.title(feature + \" vs (target variable==no)\",size=15)\n",
        "  plt.xticks(rotation=60)\n",
        "  plt.show()"
      ],
      "metadata": {
        "id": "DqXA0mOG2p9Z"
      },
      "execution_count": 104,
      "outputs": []
    },
    {
      "cell_type": "code",
      "source": [
        "plt.figure(figsize=(19,12))\n",
        "feature(\"job\")"
      ],
      "metadata": {
        "colab": {
          "base_uri": "https://localhost:8080/",
          "height": 912
        },
        "id": "sIJeL5DJ3mmN",
        "outputId": "d2b418de-3a08-4e66-80bf-1f64e060deb1"
      },
      "execution_count": 105,
      "outputs": [
        {
          "output_type": "stream",
          "name": "stderr",
          "text": [
            "/usr/local/lib/python3.7/dist-packages/seaborn/_decorators.py:43: FutureWarning: Pass the following variable as a keyword arg: x. From version 0.12, the only valid positional argument will be `data`, and passing other arguments without an explicit keyword will result in an error or misinterpretation.\n",
            "  FutureWarning\n",
            "/usr/local/lib/python3.7/dist-packages/seaborn/_decorators.py:43: FutureWarning: Pass the following variable as a keyword arg: x. From version 0.12, the only valid positional argument will be `data`, and passing other arguments without an explicit keyword will result in an error or misinterpretation.\n",
            "  FutureWarning\n",
            "/usr/local/lib/python3.7/dist-packages/seaborn/_decorators.py:43: FutureWarning: Pass the following variable as a keyword arg: x. From version 0.12, the only valid positional argument will be `data`, and passing other arguments without an explicit keyword will result in an error or misinterpretation.\n",
            "  FutureWarning\n"
          ]
        },
        {
          "output_type": "display_data",
          "data": {
            "text/plain": [
              "<Figure size 1368x864 with 4 Axes>"
            ],
            "image/png": "[encoded data removed]"
          },
          "metadata": {
            "needs_background": "light"
          }
        }
      ]
    },
    {
      "cell_type": "markdown",
      "source": [
        "1.   The most targeted customers: Blue-collar job, but comparing with conversion rate, we end up in losing lot of money.(Better to avoid targetting Blue-collar customers a lot) \n",
        "2.   Convertion rate is maximum: Management.\n",
        "3.   we need to target students also, as we can see from graphs that we put in very little time to target students, but their conversion rate is.average.(More than housemaid, entrepreneur, self employed and unemployed)\n"
      ],
      "metadata": {
        "id": "9hPMaGB_yB8o"
      }
    },
    {
      "cell_type": "markdown",
      "source": [
        "# **MARITAL**"
      ],
      "metadata": {
        "id": "wojBmzxX0cxx"
      }
    },
    {
      "cell_type": "code",
      "source": [
        "plt.figure(figsize=(16,12))\n",
        "feature(\"marital\")"
      ],
      "metadata": {
        "colab": {
          "base_uri": "https://localhost:8080/",
          "height": 888
        },
        "id": "_zF5JK634-Fs",
        "outputId": "1f0a98c7-7f53-4787-866a-b2b6604a7aa3"
      },
      "execution_count": 106,
      "outputs": [
        {
          "output_type": "stream",
          "name": "stderr",
          "text": [
            "/usr/local/lib/python3.7/dist-packages/seaborn/_decorators.py:43: FutureWarning: Pass the following variable as a keyword arg: x. From version 0.12, the only valid positional argument will be `data`, and passing other arguments without an explicit keyword will result in an error or misinterpretation.\n",
            "  FutureWarning\n",
            "/usr/local/lib/python3.7/dist-packages/seaborn/_decorators.py:43: FutureWarning: Pass the following variable as a keyword arg: x. From version 0.12, the only valid positional argument will be `data`, and passing other arguments without an explicit keyword will result in an error or misinterpretation.\n",
            "  FutureWarning\n",
            "/usr/local/lib/python3.7/dist-packages/seaborn/_decorators.py:43: FutureWarning: Pass the following variable as a keyword arg: x. From version 0.12, the only valid positional argument will be `data`, and passing other arguments without an explicit keyword will result in an error or misinterpretation.\n",
            "  FutureWarning\n"
          ]
        },
        {
          "output_type": "display_data",
          "data": {
            "text/plain": [
              "<Figure size 1152x864 with 4 Axes>"
            ],
            "image/png": "[encoded data removed]"
          },
          "metadata": {
            "needs_background": "light"
          }
        }
      ]
    },
    {
      "cell_type": "markdown",
      "source": [
        "1. Married people are mostly opting for the insurance.\n",
        "2. Divorced people are at low."
      ],
      "metadata": {
        "id": "vymQpyLO1_o7"
      }
    },
    {
      "cell_type": "markdown",
      "source": [
        "# **education_qual**"
      ],
      "metadata": {
        "id": "DJe9AOSP5jOb"
      }
    },
    {
      "cell_type": "code",
      "source": [
        "plt.figure(figsize=(16,12))\n",
        "feature(\"education_qual\")"
      ],
      "metadata": {
        "colab": {
          "base_uri": "https://localhost:8080/",
          "height": 897
        },
        "id": "I0v1nY6H5oUm",
        "outputId": "17469340-71cd-4897-c02b-4302a9e0c1d5"
      },
      "execution_count": 107,
      "outputs": [
        {
          "output_type": "stream",
          "name": "stderr",
          "text": [
            "/usr/local/lib/python3.7/dist-packages/seaborn/_decorators.py:43: FutureWarning: Pass the following variable as a keyword arg: x. From version 0.12, the only valid positional argument will be `data`, and passing other arguments without an explicit keyword will result in an error or misinterpretation.\n",
            "  FutureWarning\n",
            "/usr/local/lib/python3.7/dist-packages/seaborn/_decorators.py:43: FutureWarning: Pass the following variable as a keyword arg: x. From version 0.12, the only valid positional argument will be `data`, and passing other arguments without an explicit keyword will result in an error or misinterpretation.\n",
            "  FutureWarning\n",
            "/usr/local/lib/python3.7/dist-packages/seaborn/_decorators.py:43: FutureWarning: Pass the following variable as a keyword arg: x. From version 0.12, the only valid positional argument will be `data`, and passing other arguments without an explicit keyword will result in an error or misinterpretation.\n",
            "  FutureWarning\n"
          ]
        },
        {
          "output_type": "display_data",
          "data": {
            "text/plain": [
              "<Figure size 1152x864 with 4 Axes>"
            ],
            "image/png": "[encoded data removed]"
          },
          "metadata": {
            "needs_background": "light"
          }
        }
      ]
    },
    {
      "cell_type": "markdown",
      "source": [
        "1. People with higher education(Secondary/Tertiary --> Collage/Masters) are opting for insurance plans.\n",
        "2. We need to concentrate on spreading awareness about health insurance to people with less education."
      ],
      "metadata": {
        "id": "O3JK3OIX6BiB"
      }
    },
    {
      "cell_type": "markdown",
      "source": [
        "# **mon**"
      ],
      "metadata": {
        "id": "dtbH8LYZ6hnU"
      }
    },
    {
      "cell_type": "code",
      "source": [
        "plt.figure(figsize=(16,12))\n",
        "feature(\"mon\")"
      ],
      "metadata": {
        "colab": {
          "base_uri": "https://localhost:8080/",
          "height": 870
        },
        "id": "FQLWonKg6jRk",
        "outputId": "14f439bc-da28-4e24-ba3d-6589590a63c0"
      },
      "execution_count": 108,
      "outputs": [
        {
          "output_type": "stream",
          "name": "stderr",
          "text": [
            "/usr/local/lib/python3.7/dist-packages/seaborn/_decorators.py:43: FutureWarning: Pass the following variable as a keyword arg: x. From version 0.12, the only valid positional argument will be `data`, and passing other arguments without an explicit keyword will result in an error or misinterpretation.\n",
            "  FutureWarning\n",
            "/usr/local/lib/python3.7/dist-packages/seaborn/_decorators.py:43: FutureWarning: Pass the following variable as a keyword arg: x. From version 0.12, the only valid positional argument will be `data`, and passing other arguments without an explicit keyword will result in an error or misinterpretation.\n",
            "  FutureWarning\n",
            "/usr/local/lib/python3.7/dist-packages/seaborn/_decorators.py:43: FutureWarning: Pass the following variable as a keyword arg: x. From version 0.12, the only valid positional argument will be `data`, and passing other arguments without an explicit keyword will result in an error or misinterpretation.\n",
            "  FutureWarning\n"
          ]
        },
        {
          "output_type": "display_data",
          "data": {
            "text/plain": [
              "<Figure size 1152x864 with 4 Axes>"
            ],
            "image/png": "[encoded data removed]"
          },
          "metadata": {
            "needs_background": "light"
          }
        }
      ]
    },
    {
      "cell_type": "markdown",
      "source": [
        "1. People opting for Insurance plans when targeted during start of new financial year/When they get their appraisal cycle result."
      ],
      "metadata": {
        "id": "j1lVY_8h7rR8"
      }
    },
    {
      "cell_type": "markdown",
      "source": [
        "# **AGE**"
      ],
      "metadata": {
        "id": "ZPAxaY03vecA"
      }
    },
    {
      "cell_type": "code",
      "source": [
        "plt.figure(figsize=(35,25))\n",
        "feature(\"age\")"
      ],
      "metadata": {
        "colab": {
          "base_uri": "https://localhost:8080/",
          "height": 962
        },
        "id": "BKHpUPI3Dism",
        "outputId": "9c5442f0-3c88-4560-984d-89c0daaa81ca"
      },
      "execution_count": 127,
      "outputs": [
        {
          "output_type": "stream",
          "name": "stderr",
          "text": [
            "/usr/local/lib/python3.7/dist-packages/seaborn/_decorators.py:43: FutureWarning: Pass the following variable as a keyword arg: x. From version 0.12, the only valid positional argument will be `data`, and passing other arguments without an explicit keyword will result in an error or misinterpretation.\n",
            "  FutureWarning\n",
            "/usr/local/lib/python3.7/dist-packages/seaborn/_decorators.py:43: FutureWarning: Pass the following variable as a keyword arg: x. From version 0.12, the only valid positional argument will be `data`, and passing other arguments without an explicit keyword will result in an error or misinterpretation.\n",
            "  FutureWarning\n",
            "/usr/local/lib/python3.7/dist-packages/seaborn/_decorators.py:43: FutureWarning: Pass the following variable as a keyword arg: x. From version 0.12, the only valid positional argument will be `data`, and passing other arguments without an explicit keyword will result in an error or misinterpretation.\n",
            "  FutureWarning\n"
          ]
        },
        {
          "output_type": "display_data",
          "data": {
            "text/plain": [
              "<Figure size 2520x1800 with 4 Axes>"
            ],
            "image/png": "[encoded data removed]"
          },
          "metadata": {
            "needs_background": "light"
          }
        }
      ]
    },
    {
      "cell_type": "code",
      "source": [
        "sns.barplot(y='age',x='insurance_stat',data=df)"
      ],
      "metadata": {
        "colab": {
          "base_uri": "https://localhost:8080/",
          "height": 297
        },
        "id": "fjeUBGdMEHNo",
        "outputId": "aa345f7b-9acf-4d94-f294-2b6b7c171003"
      },
      "execution_count": 126,
      "outputs": [
        {
          "output_type": "execute_result",
          "data": {
            "text/plain": [
              "<matplotlib.axes._subplots.AxesSubplot at 0x7f683a863cd0>"
            ]
          },
          "metadata": {},
          "execution_count": 126
        },
        {
          "output_type": "display_data",
          "data": {
            "text/plain": [
              "<Figure size 432x288 with 1 Axes>"
            ],
            "image/png": "[encoded data removed]"
          },
          "metadata": {
            "needs_background": "light"
          }
        }
      ]
    },
    {
      "cell_type": "code",
      "source": [
        "df.columns"
      ],
      "metadata": {
        "colab": {
          "base_uri": "https://localhost:8080/"
        },
        "id": "Y7dqYsyFEvdb",
        "outputId": "3bee724b-6f35-4b12-fcce-584f9b42071d"
      },
      "execution_count": 128,
      "outputs": [
        {
          "output_type": "execute_result",
          "data": {
            "text/plain": [
              "Index(['age', 'job', 'marital', 'education_qual', 'day', 'mon', 'dur',\n",
              "       'num_calls', 'insurance_stat'],\n",
              "      dtype='object')"
            ]
          },
          "metadata": {},
          "execution_count": 128
        }
      ]
    },
    {
      "cell_type": "markdown",
      "source": [
        "# **DAY**"
      ],
      "metadata": {
        "id": "ytTt3xTJFS-Q"
      }
    },
    {
      "cell_type": "code",
      "source": [
        "plt.figure(figsize=(19,12))\n",
        "feature(\"day\")"
      ],
      "metadata": {
        "colab": {
          "base_uri": "https://localhost:8080/",
          "height": 862
        },
        "id": "ksZKtvYOFSa8",
        "outputId": "21ed69e0-c43a-4e06-8b69-5ff60b540bc0"
      },
      "execution_count": 131,
      "outputs": [
        {
          "output_type": "stream",
          "name": "stderr",
          "text": [
            "/usr/local/lib/python3.7/dist-packages/seaborn/_decorators.py:43: FutureWarning: Pass the following variable as a keyword arg: x. From version 0.12, the only valid positional argument will be `data`, and passing other arguments without an explicit keyword will result in an error or misinterpretation.\n",
            "  FutureWarning\n",
            "/usr/local/lib/python3.7/dist-packages/seaborn/_decorators.py:43: FutureWarning: Pass the following variable as a keyword arg: x. From version 0.12, the only valid positional argument will be `data`, and passing other arguments without an explicit keyword will result in an error or misinterpretation.\n",
            "  FutureWarning\n",
            "/usr/local/lib/python3.7/dist-packages/seaborn/_decorators.py:43: FutureWarning: Pass the following variable as a keyword arg: x. From version 0.12, the only valid positional argument will be `data`, and passing other arguments without an explicit keyword will result in an error or misinterpretation.\n",
            "  FutureWarning\n"
          ]
        },
        {
          "output_type": "display_data",
          "data": {
            "text/plain": [
              "<Figure size 1368x864 with 4 Axes>"
            ],
            "image/png": "[encoded data removed]"
          },
          "metadata": {
            "needs_background": "light"
          }
        }
      ]
    },
    {
      "cell_type": "code",
      "source": [
        "sns.barplot(y='day',x='insurance_stat',data=df)"
      ],
      "metadata": {
        "colab": {
          "base_uri": "https://localhost:8080/",
          "height": 297
        },
        "id": "YEoD_iZaFeom",
        "outputId": "b27dbee4-c32c-47d0-b5ce-f67f55ce3725"
      },
      "execution_count": 130,
      "outputs": [
        {
          "output_type": "execute_result",
          "data": {
            "text/plain": [
              "<matplotlib.axes._subplots.AxesSubplot at 0x7f683aca4b50>"
            ]
          },
          "metadata": {},
          "execution_count": 130
        },
        {
          "output_type": "display_data",
          "data": {
            "text/plain": [
              "<Figure size 432x288 with 1 Axes>"
            ],
            "image/png": "[encoded data removed]"
          },
          "metadata": {
            "needs_background": "light"
          }
        }
      ]
    },
    {
      "cell_type": "markdown",
      "source": [
        "# **Duration**"
      ],
      "metadata": {
        "id": "EYS72s58FiIe"
      }
    },
    {
      "cell_type": "code",
      "source": [
        "sns.barplot(y='dur',x='insurance_stat',data=df)"
      ],
      "metadata": {
        "colab": {
          "base_uri": "https://localhost:8080/",
          "height": 297
        },
        "id": "3BaQGijpFvCz",
        "outputId": "f45bf124-cf94-48fb-9fb1-2f46a6d546f8"
      },
      "execution_count": 133,
      "outputs": [
        {
          "output_type": "execute_result",
          "data": {
            "text/plain": [
              "<matplotlib.axes._subplots.AxesSubplot at 0x7f683a43de10>"
            ]
          },
          "metadata": {},
          "execution_count": 133
        },
        {
          "output_type": "display_data",
          "data": {
            "text/plain": [
              "<Figure size 432x288 with 1 Axes>"
            ],
            "image/png": "[encoded data removed]"
          },
          "metadata": {
            "needs_background": "light"
          }
        }
      ]
    },
    {
      "cell_type": "markdown",
      "source": [
        "# **Number of calls**"
      ],
      "metadata": {
        "id": "xv-3y6jzGAMM"
      }
    },
    {
      "cell_type": "code",
      "source": [
        "plt.figure(figsize=(20,12))\n",
        "feature(\"num_calls\")"
      ],
      "metadata": {
        "colab": {
          "base_uri": "https://localhost:8080/",
          "height": 848
        },
        "id": "d1InvK1QGdBg",
        "outputId": "a9886880-c30e-459f-975a-2df3a891bfff"
      },
      "execution_count": 135,
      "outputs": [
        {
          "output_type": "stream",
          "name": "stderr",
          "text": [
            "/usr/local/lib/python3.7/dist-packages/seaborn/_decorators.py:43: FutureWarning: Pass the following variable as a keyword arg: x. From version 0.12, the only valid positional argument will be `data`, and passing other arguments without an explicit keyword will result in an error or misinterpretation.\n",
            "  FutureWarning\n",
            "/usr/local/lib/python3.7/dist-packages/seaborn/_decorators.py:43: FutureWarning: Pass the following variable as a keyword arg: x. From version 0.12, the only valid positional argument will be `data`, and passing other arguments without an explicit keyword will result in an error or misinterpretation.\n",
            "  FutureWarning\n",
            "/usr/local/lib/python3.7/dist-packages/seaborn/_decorators.py:43: FutureWarning: Pass the following variable as a keyword arg: x. From version 0.12, the only valid positional argument will be `data`, and passing other arguments without an explicit keyword will result in an error or misinterpretation.\n",
            "  FutureWarning\n"
          ]
        },
        {
          "output_type": "display_data",
          "data": {
            "text/plain": [
              "<Figure size 1440x864 with 4 Axes>"
            ],
            "image/png": "[encoded data removed]"
          },
          "metadata": {
            "needs_background": "light"
          }
        }
      ]
    },
    {
      "cell_type": "code",
      "source": [
        "sns.barplot(y='num_calls',x='insurance_stat',data=df)"
      ],
      "metadata": {
        "colab": {
          "base_uri": "https://localhost:8080/",
          "height": 300
        },
        "id": "nIIAFv7PGUVT",
        "outputId": "c91b95e9-03a4-4219-eb63-7f0f2e7ee91b"
      },
      "execution_count": 134,
      "outputs": [
        {
          "output_type": "execute_result",
          "data": {
            "text/plain": [
              "<matplotlib.axes._subplots.AxesSubplot at 0x7f6833b746d0>"
            ]
          },
          "metadata": {},
          "execution_count": 134
        },
        {
          "output_type": "display_data",
          "data": {
            "text/plain": [
              "<Figure size 432x288 with 1 Axes>"
            ],
            "image/png": "[encoded data removed]"
          },
          "metadata": {
            "needs_background": "light"
          }
        }
      ]
    },
    {
      "cell_type": "markdown",
      "source": [
        "# **Encoding**"
      ],
      "metadata": {
        "id": "sm-uiD6y8OwX"
      }
    },
    {
      "cell_type": "code",
      "source": [
        "df['insurance_stat'] = df['insurance_stat'].map({'yes':1,'no':0})"
      ],
      "metadata": {
        "id": "ydnnC4ob5k-Q"
      },
      "execution_count": 136,
      "outputs": []
    },
    {
      "cell_type": "code",
      "source": [
        "df['insurance_stat'].value_counts()"
      ],
      "metadata": {
        "colab": {
          "base_uri": "https://localhost:8080/"
        },
        "id": "XnAe-3SF8Ye7",
        "outputId": "41d2f0e6-618c-4c5d-c33a-e004c87c1a3c"
      },
      "execution_count": 137,
      "outputs": [
        {
          "output_type": "execute_result",
          "data": {
            "text/plain": [
              "0    38166\n",
              "1     5021\n",
              "Name: insurance_stat, dtype: int64"
            ]
          },
          "metadata": {},
          "execution_count": 137
        }
      ]
    },
    {
      "cell_type": "code",
      "source": [
        "df.marital = df.marital.map({'divorced':1, 'single':2, 'married':3})\n",
        "df.education_qual = df.education_qual.map({'primary':1, 'tertiary':2, 'secondary':3})\n",
        "df.mon = df.mon.map({'dec': 1, 'jan': 2, 'mar' : 3, 'sep' : 4, 'oct' : 5, 'nov' : 6, 'feb' : 7, 'jun' : 8, 'apr' : 9, 'jul' : 10, 'aug' : 11, 'may' :12})"
      ],
      "metadata": {
        "id": "61gpafekBIPT"
      },
      "execution_count": 138,
      "outputs": []
    },
    {
      "cell_type": "code",
      "source": [
        "df=pd.get_dummies(df,columns=[\"job\"],prefix='job')"
      ],
      "metadata": {
        "id": "tkLTOsMhBy3x"
      },
      "execution_count": 139,
      "outputs": []
    },
    {
      "cell_type": "code",
      "source": [
        "df.dtypes"
      ],
      "metadata": {
        "colab": {
          "base_uri": "https://localhost:8080/"
        },
        "id": "A9Wn96uMBs5r",
        "outputId": "519aa326-eb3b-48e7-e34f-41bd76ab8855"
      },
      "execution_count": 140,
      "outputs": [
        {
          "output_type": "execute_result",
          "data": {
            "text/plain": [
              "age                  int64\n",
              "marital              int64\n",
              "education_qual       int64\n",
              "day                  int64\n",
              "mon                  int64\n",
              "dur                  int64\n",
              "num_calls            int64\n",
              "insurance_stat       int64\n",
              "job_admin            uint8\n",
              "job_blue-collar      uint8\n",
              "job_entrepreneur     uint8\n",
              "job_housemaid        uint8\n",
              "job_management       uint8\n",
              "job_retired          uint8\n",
              "job_self-employed    uint8\n",
              "job_services         uint8\n",
              "job_student          uint8\n",
              "job_technician       uint8\n",
              "job_unemployed       uint8\n",
              "dtype: object"
            ]
          },
          "metadata": {},
          "execution_count": 140
        }
      ]
    },
    {
      "cell_type": "markdown",
      "source": [
        "# **Data preparation and splitting**"
      ],
      "metadata": {
        "id": "VtsbYtteOvfu"
      }
    },
    {
      "cell_type": "code",
      "source": [
        "X = df.drop(['insurance_stat'],axis=1)\n",
        "y = df['insurance_stat']"
      ],
      "metadata": {
        "id": "2UXZJl-zO8PP"
      },
      "execution_count": 141,
      "outputs": []
    },
    {
      "cell_type": "code",
      "source": [
        "print(f\"Independent features has {X.shape[0]} rows and {X.shape[1]} columns\")\n",
        "print(f\"Dependent features has {y.shape[0]} rows and 1 column\")"
      ],
      "metadata": {
        "colab": {
          "base_uri": "https://localhost:8080/"
        },
        "id": "8BbgfuvGPK-o",
        "outputId": "7ca898f0-b34f-4fcd-adf8-a276d4bb089f"
      },
      "execution_count": 142,
      "outputs": [
        {
          "output_type": "stream",
          "name": "stdout",
          "text": [
            "Independent features has 43187 rows and 18 columns\n",
            "Dependent features has 43187 rows and 1 column\n"
          ]
        }
      ]
    },
    {
      "cell_type": "code",
      "source": [
        "from sklearn.model_selection import train_test_split\n",
        "X_train, X_test, y_train, y_test = train_test_split(X, y, test_size=0.2)"
      ],
      "metadata": {
        "id": "Wg1ofWVGPTcQ"
      },
      "execution_count": 143,
      "outputs": []
    },
    {
      "cell_type": "code",
      "source": [
        "print(\"The shape of X train:\", X_train.shape)\n",
        "print(\"The shape of X test:\", X_test.shape)\n",
        "print(\"The shape of y train:\", y_train.shape)\n",
        "print(\"The shape of y test:\", y_test.shape)"
      ],
      "metadata": {
        "colab": {
          "base_uri": "https://localhost:8080/"
        },
        "id": "S_hD45udPXQK",
        "outputId": "a6dce6c1-6c43-4bb0-aef4-7883cd3428b6"
      },
      "execution_count": 144,
      "outputs": [
        {
          "output_type": "stream",
          "name": "stdout",
          "text": [
            "The shape of X train: (34549, 18)\n",
            "The shape of X test: (8638, 18)\n",
            "The shape of y train: (34549,)\n",
            "The shape of y test: (8638,)\n"
          ]
        }
      ]
    },
    {
      "cell_type": "code",
      "source": [
        "y_train.value_counts()"
      ],
      "metadata": {
        "colab": {
          "base_uri": "https://localhost:8080/"
        },
        "id": "BcLQR0fAzQtt",
        "outputId": "3127f332-9340-4889-d231-5c618d2d4eb3"
      },
      "execution_count": 145,
      "outputs": [
        {
          "output_type": "execute_result",
          "data": {
            "text/plain": [
              "0    30487\n",
              "1     4062\n",
              "Name: insurance_stat, dtype: int64"
            ]
          },
          "metadata": {},
          "execution_count": 145
        }
      ]
    },
    {
      "cell_type": "markdown",
      "source": [
        "# **Scaling the data**"
      ],
      "metadata": {
        "id": "S4MKDD1NmNMH"
      }
    },
    {
      "cell_type": "code",
      "source": [
        "from sklearn.preprocessing import StandardScaler # importing the required function\n",
        "scaler = StandardScaler() #initialising\n",
        "scaler.fit(X_train) # finds the values of mu and sigma\n",
        "X_train_scaled = scaler.transform(X_train)\n",
        "X_test_scaled = scaler.transform(X_test) #only transform the test dataset, dont fit it"
      ],
      "metadata": {
        "id": "jkQ_AnJXmO4p"
      },
      "execution_count": 146,
      "outputs": []
    },
    {
      "cell_type": "markdown",
      "source": [
        "![resampling.png](data:image/png;base64,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)"
      ],
      "metadata": {
        "id": "b2yJC3B-ON4t"
      }
    },
    {
      "cell_type": "code",
      "source": [
        "!pip install imblearn"
      ],
      "metadata": {
        "colab": {
          "base_uri": "https://localhost:8080/"
        },
        "id": "ww46oYCWo252",
        "outputId": "65b16510-4d80-4492-edd0-2676ebd08c28"
      },
      "execution_count": 147,
      "outputs": [
        {
          "output_type": "stream",
          "name": "stdout",
          "text": [
            "Looking in indexes: https://pypi.org/simple, https://us-python.pkg.dev/colab-wheels/public/simple/\n",
            "Requirement already satisfied: imblearn in /usr/local/lib/python3.7/dist-packages (0.0)\n",
            "Requirement already satisfied: imbalanced-learn in /usr/local/lib/python3.7/dist-packages (from imblearn) (0.8.1)\n",
            "Requirement already satisfied: joblib>=0.11 in /usr/local/lib/python3.7/dist-packages (from imbalanced-learn->imblearn) (1.1.0)\n",
            "Requirement already satisfied: numpy>=1.13.3 in /usr/local/lib/python3.7/dist-packages (from imbalanced-learn->imblearn) (1.21.6)\n",
            "Requirement already satisfied: scikit-learn>=0.24 in /usr/local/lib/python3.7/dist-packages (from imbalanced-learn->imblearn) (1.0.2)\n",
            "Requirement already satisfied: scipy>=0.19.1 in /usr/local/lib/python3.7/dist-packages (from imbalanced-learn->imblearn) (1.7.3)\n",
            "Requirement already satisfied: threadpoolctl>=2.0.0 in /usr/local/lib/python3.7/dist-packages (from scikit-learn>=0.24->imbalanced-learn->imblearn) (3.1.0)\n"
          ]
        }
      ]
    },
    {
      "cell_type": "markdown",
      "source": [
        "# **Random under-sampling and over-sampling with imbalanced-learn**"
      ],
      "metadata": {
        "id": "yBojlfNiu2FP"
      }
    },
    {
      "cell_type": "code",
      "source": [
        "import imblearn\n",
        "from imblearn.under_sampling import RandomUnderSampler # From imblearn pkg , from under_sampling module, importting RandomUnderSampler class.\n",
        "\n",
        "rus = RandomUnderSampler() #Intialise the model\n",
        "X_rus, y_rus = rus.fit_resample(X_train, y_train) #resampling the data ## Decreases the major class # balances data"
      ],
      "metadata": {
        "id": "ZzBm7FYuruRD"
      },
      "execution_count": 148,
      "outputs": []
    },
    {
      "cell_type": "code",
      "source": [
        "print(\"classes distribution after undersampling\")\n",
        "print(y_rus.value_counts())\n",
        "print(\"----------------------------------------------------\")\n",
        "print(\"classes distribution before undersampling\")\n",
        "print(y_train.value_counts())"
      ],
      "metadata": {
        "colab": {
          "base_uri": "https://localhost:8080/"
        },
        "id": "puI7gKNYxKmk",
        "outputId": "5d861200-b8dc-4b7b-9024-f91215c2ed21"
      },
      "execution_count": 149,
      "outputs": [
        {
          "output_type": "stream",
          "name": "stdout",
          "text": [
            "classes distribution after undersampling\n",
            "0    4062\n",
            "1    4062\n",
            "Name: insurance_stat, dtype: int64\n",
            "----------------------------------------------------\n",
            "classes distribution before undersampling\n",
            "0    30487\n",
            "1     4062\n",
            "Name: insurance_stat, dtype: int64\n"
          ]
        }
      ]
    },
    {
      "cell_type": "code",
      "source": [
        "from imblearn.over_sampling import RandomOverSampler\n",
        "\n",
        "ros = RandomOverSampler() #Initialis the model \n",
        "X_ros, y_ros = ros.fit_resample(X_train, y_train) #Fit the model # increases the majority class"
      ],
      "metadata": {
        "id": "vEGW2E4jvndS"
      },
      "execution_count": 150,
      "outputs": []
    },
    {
      "cell_type": "code",
      "source": [
        "print(\"classes distribution after oversampling\")\n",
        "print(y_ros.value_counts())\n",
        "print(\"----------------------------------------------------\")\n",
        "print(\"classes distribution before oversampling\")\n",
        "print(y_train.value_counts())"
      ],
      "metadata": {
        "colab": {
          "base_uri": "https://localhost:8080/"
        },
        "id": "aVHMHgLiwh1A",
        "outputId": "95880a46-942d-4f74-9110-cdec571eb4e9"
      },
      "execution_count": 151,
      "outputs": [
        {
          "output_type": "stream",
          "name": "stdout",
          "text": [
            "classes distribution after oversampling\n",
            "0    30487\n",
            "1    30487\n",
            "Name: insurance_stat, dtype: int64\n",
            "----------------------------------------------------\n",
            "classes distribution before oversampling\n",
            "0    30487\n",
            "1     4062\n",
            "Name: insurance_stat, dtype: int64\n"
          ]
        }
      ]
    },
    {
      "cell_type": "markdown",
      "source": [
        "SMOTE (Synthetic Minority Oversampling TEchnique) consists of synthesizing elements for the minority class, based on those that already exist. It works randomly picingk a point from the minority class and computing the k-nearest neighbors for this point. The synthetic points are added between the chosen point and its neighbors."
      ],
      "metadata": {
        "id": "nYacZTNd0ljS"
      }
    },
    {
      "cell_type": "markdown",
      "source": [
        "![image.png](data:image/png;base64,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)"
      ],
      "metadata": {
        "id": "Aw-LSqSI0onN"
      }
    },
    {
      "cell_type": "markdown",
      "source": [
        "# **Over-sampling followed by under-sampling**"
      ],
      "metadata": {
        "id": "zrIw5eZV073Y"
      }
    },
    {
      "cell_type": "markdown",
      "source": [
        "Now, we will do a combination of over-sampling and under-sampling, using the SMOTE and Tomek links techniques:"
      ],
      "metadata": {
        "id": "g8XRqOXS1BXr"
      }
    },
    {
      "cell_type": "code",
      "source": [
        "from imblearn.combine import SMOTEENN\n",
        "smt = SMOTEENN(sampling_strategy='all')#startegy = all, increase minority datapoints decrease majority data points, do under & over sampling\n",
        "X_smt, y_smt = smt.fit_resample(X_train_scaled, y_train)"
      ],
      "metadata": {
        "id": "XnTiB15w06Hr"
      },
      "execution_count": 153,
      "outputs": []
    },
    {
      "cell_type": "code",
      "source": [
        "X_smt.shape"
      ],
      "metadata": {
        "colab": {
          "base_uri": "https://localhost:8080/"
        },
        "id": "sZsz9wM6xi6Z",
        "outputId": "b502bcb3-56fd-4957-db95-929e786540ec"
      },
      "execution_count": 154,
      "outputs": [
        {
          "output_type": "execute_result",
          "data": {
            "text/plain": [
              "(51606, 18)"
            ]
          },
          "metadata": {},
          "execution_count": 154
        }
      ]
    },
    {
      "cell_type": "code",
      "source": [
        "y_smt.value_counts()"
      ],
      "metadata": {
        "id": "642MeqiXxmL_",
        "outputId": "502bc299-7b24-44e1-b9f2-02dc5b34852e",
        "colab": {
          "base_uri": "https://localhost:8080/"
        }
      },
      "execution_count": 155,
      "outputs": [
        {
          "output_type": "execute_result",
          "data": {
            "text/plain": [
              "1    28180\n",
              "0    23426\n",
              "Name: insurance_stat, dtype: int64"
            ]
          },
          "metadata": {},
          "execution_count": 155
        }
      ]
    },
    {
      "cell_type": "code",
      "source": [
        "sns.countplot(y_smt)"
      ],
      "metadata": {
        "colab": {
          "base_uri": "https://localhost:8080/",
          "height": 352
        },
        "id": "6OjDfjGCsseK",
        "outputId": "85fca02b-2aaf-4922-ea17-b7e46b338a64"
      },
      "execution_count": 156,
      "outputs": [
        {
          "output_type": "stream",
          "name": "stderr",
          "text": [
            "/usr/local/lib/python3.7/dist-packages/seaborn/_decorators.py:43: FutureWarning: Pass the following variable as a keyword arg: x. From version 0.12, the only valid positional argument will be `data`, and passing other arguments without an explicit keyword will result in an error or misinterpretation.\n",
            "  FutureWarning\n"
          ]
        },
        {
          "output_type": "execute_result",
          "data": {
            "text/plain": [
              "<matplotlib.axes._subplots.AxesSubplot at 0x7f682d0ac590>"
            ]
          },
          "metadata": {},
          "execution_count": 156
        },
        {
          "output_type": "display_data",
          "data": {
            "text/plain": [
              "<Figure size 432x288 with 1 Axes>"
            ],
            "image/png": "[encoded data removed]"
          },
          "metadata": {
            "needs_background": "light"
          }
        }
      ]
    },
    {
      "cell_type": "markdown",
      "source": [
        "# **Logistic regression**"
      ],
      "metadata": {
        "id": "lTaqyuBZASpJ"
      }
    },
    {
      "cell_type": "code",
      "source": [
        "from sklearn.linear_model import LogisticRegression\n",
        "\n",
        "lr = LogisticRegression()\n",
        "lr.fit(X_smt,y_smt) #train model on balanced data\n",
        "#print( \"AUROC on the sampled dataset : \",roc_auc_score(y_test, lr.predict_proba(X)[:, 1]))"
      ],
      "metadata": {
        "colab": {
          "base_uri": "https://localhost:8080/"
        },
        "id": "18sQ4aIb8IIx",
        "outputId": "c5def838-6984-44b9-ff70-b7585d491509"
      },
      "execution_count": 157,
      "outputs": [
        {
          "output_type": "execute_result",
          "data": {
            "text/plain": [
              "LogisticRegression()"
            ]
          },
          "metadata": {},
          "execution_count": 157
        }
      ]
    },
    {
      "cell_type": "code",
      "source": [
        "y_pred=lr.predict(X_test_scaled)"
      ],
      "metadata": {
        "id": "1OsX6XE9_Ghj"
      },
      "execution_count": 158,
      "outputs": []
    },
    {
      "cell_type": "code",
      "source": [
        "df = pd.DataFrame({'Actual': y_test, 'Predicted': y_pred})\n",
        "df.tail()"
      ],
      "metadata": {
        "colab": {
          "base_uri": "https://localhost:8080/",
          "height": 206
        },
        "id": "db3OHf0R_MzV",
        "outputId": "b1bf5381-a135-420c-a5c6-3eeecd0cfa24"
      },
      "execution_count": 159,
      "outputs": [
        {
          "output_type": "execute_result",
          "data": {
            "text/plain": [
              "       Actual  Predicted\n",
              "11363       0          0\n",
              "29327       1          1\n",
              "26123       0          1\n",
              "31427       0          0\n",
              "42776       0          0"
            ],
            "text/html": [
              "\n",
              "  <div id=\"df-ea64d001-8087-4eb6-b617-e247732e7aa5\">\n",
              "    <div class=\"colab-df-container\">\n",
              "      <div>\n",
              "<style scoped>\n",
              "    .dataframe tbody tr th:only-of-type {\n",
              "        vertical-align: middle;\n",
              "    }\n",
              "\n",
              "    .dataframe tbody tr th {\n",
              "        vertical-align: top;\n",
              "    }\n",
              "\n",
              "    .dataframe thead th {\n",
              "        text-align: right;\n",
              "    }\n",
              "</style>\n",
              "<table border=\"1\" class=\"dataframe\">\n",
              "  <thead>\n",
              "    <tr style=\"text-align: right;\">\n",
              "      <th></th>\n",
              "      <th>Actual</th>\n",
              "      <th>Predicted</th>\n",
              "    </tr>\n",
              "  </thead>\n",
              "  <tbody>\n",
              "    <tr>\n",
              "      <th>11363</th>\n",
              "      <td>0</td>\n",
              "      <td>0</td>\n",
              "    </tr>\n",
              "    <tr>\n",
              "      <th>29327</th>\n",
              "      <td>1</td>\n",
              "      <td>1</td>\n",
              "    </tr>\n",
              "    <tr>\n",
              "      <th>26123</th>\n",
              "      <td>0</td>\n",
              "      <td>1</td>\n",
              "    </tr>\n",
              "    <tr>\n",
              "      <th>31427</th>\n",
              "      <td>0</td>\n",
              "      <td>0</td>\n",
              "    </tr>\n",
              "    <tr>\n",
              "      <th>42776</th>\n",
              "      <td>0</td>\n",
              "      <td>0</td>\n",
              "    </tr>\n",
              "  </tbody>\n",
              "</table>\n",
              "</div>\n",
              "      <button class=\"colab-df-convert\" onclick=\"convertToInteractive('df-ea64d001-8087-4eb6-b617-e247732e7aa5')\"\n",
              "              title=\"Convert this dataframe to an interactive table.\"\n",
              "              style=\"display:none;\">\n",
              "        \n",
              "  <svg xmlns=\"http://www.w3.org/2000/svg\" height=\"24px\"viewBox=\"0 0 24 24\"\n",
              "       width=\"24px\">\n",
              "    <path d=\"M0 0h24v24H0V0z\" fill=\"none\"/>\n",
              "    <path d=\"M18.56 5.44l.94 2.06.94-2.06 2.06-.94-2.06-.94-.94-2.06-.94 2.06-2.06.94zm-11 1L8.5 8.5l.94-2.06 2.06-.94-2.06-.94L8.5 2.5l-.94 2.06-2.06.94zm10 10l.94 2.06.94-2.06 2.06-.94-2.06-.94-.94-2.06-.94 2.06-2.06.94z\"/><path d=\"M17.41 7.96l-1.37-1.37c-.4-.4-.92-.59-1.43-.59-.52 0-1.04.2-1.43.59L10.3 9.45l-7.72 7.72c-.78.78-.78 2.05 0 2.83L4 21.41c.39.39.9.59 1.41.59.51 0 1.02-.2 1.41-.59l7.78-7.78 2.81-2.81c.8-.78.8-2.07 0-2.86zM5.41 20L4 18.59l7.72-7.72 1.47 1.35L5.41 20z\"/>\n",
              "  </svg>\n",
              "      </button>\n",
              "      \n",
              "  <style>\n",
              "    .colab-df-container {\n",
              "      display:flex;\n",
              "      flex-wrap:wrap;\n",
              "      gap: 12px;\n",
              "    }\n",
              "\n",
              "    .colab-df-convert {\n",
              "      background-color: #E8F0FE;\n",
              "      border: none;\n",
              "      border-radius: 50%;\n",
              "      cursor: pointer;\n",
              "      display: none;\n",
              "      fill: #1967D2;\n",
              "      height: 32px;\n",
              "      padding: 0 0 0 0;\n",
              "      width: 32px;\n",
              "    }\n",
              "\n",
              "    .colab-df-convert:hover {\n",
              "      background-color: #E2EBFA;\n",
              "      box-shadow: 0px 1px 2px rgba(60, 64, 67, 0.3), 0px 1px 3px 1px rgba(60, 64, 67, 0.15);\n",
              "      fill: #174EA6;\n",
              "    }\n",
              "\n",
              "    [theme=dark] .colab-df-convert {\n",
              "      background-color: #3B4455;\n",
              "      fill: #D2E3FC;\n",
              "    }\n",
              "\n",
              "    [theme=dark] .colab-df-convert:hover {\n",
              "      background-color: #434B5C;\n",
              "      box-shadow: 0px 1px 3px 1px rgba(0, 0, 0, 0.15);\n",
              "      filter: drop-shadow(0px 1px 2px rgba(0, 0, 0, 0.3));\n",
              "      fill: #FFFFFF;\n",
              "    }\n",
              "  </style>\n",
              "\n",
              "      <script>\n",
              "        const buttonEl =\n",
              "          document.querySelector('#df-ea64d001-8087-4eb6-b617-e247732e7aa5 button.colab-df-convert');\n",
              "        buttonEl.style.display =\n",
              "          google.colab.kernel.accessAllowed ? 'block' : 'none';\n",
              "\n",
              "        async function convertToInteractive(key) {\n",
              "          const element = document.querySelector('#df-ea64d001-8087-4eb6-b617-e247732e7aa5');\n",
              "          const dataTable =\n",
              "            await google.colab.kernel.invokeFunction('convertToInteractive',\n",
              "                                                     [key], {});\n",
              "          if (!dataTable) return;\n",
              "\n",
              "          const docLinkHtml = 'Like what you see? Visit the ' +\n",
              "            '<a target=\"_blank\" href=https://colab.research.google.com/notebooks/data_table.ipynb>data table notebook</a>'\n",
              "            + ' to learn more about interactive tables.';\n",
              "          element.innerHTML = '';\n",
              "          dataTable['output_type'] = 'display_data';\n",
              "          await google.colab.output.renderOutput(dataTable, element);\n",
              "          const docLink = document.createElement('div');\n",
              "          docLink.innerHTML = docLinkHtml;\n",
              "          element.appendChild(docLink);\n",
              "        }\n",
              "      </script>\n",
              "    </div>\n",
              "  </div>\n",
              "  "
            ]
          },
          "metadata": {},
          "execution_count": 159
        }
      ]
    },
    {
      "cell_type": "code",
      "source": [
        "from sklearn.metrics import accuracy_score, roc_auc_score, plot_roc_curve, confusion_matrix,f1_score\n",
        "print(f1_score(y_test,y_pred))"
      ],
      "metadata": {
        "colab": {
          "base_uri": "https://localhost:8080/"
        },
        "id": "avS5QyQy835B",
        "outputId": "fcf80591-df1c-4b3c-a8cd-ae75a3fdc2a8"
      },
      "execution_count": 160,
      "outputs": [
        {
          "output_type": "stream",
          "name": "stdout",
          "text": [
            "0.42704436130411544\n"
          ]
        }
      ]
    },
    {
      "cell_type": "code",
      "source": [
        "plot_roc_curve(lr, X_test_scaled, y_test)"
      ],
      "metadata": {
        "colab": {
          "base_uri": "https://localhost:8080/",
          "height": 351
        },
        "id": "EZrYbT9l_auC",
        "outputId": "a6aacfcd-4157-4695-bd41-860ba348c7d9"
      },
      "execution_count": 161,
      "outputs": [
        {
          "output_type": "stream",
          "name": "stderr",
          "text": [
            "/usr/local/lib/python3.7/dist-packages/sklearn/utils/deprecation.py:87: FutureWarning: Function plot_roc_curve is deprecated; Function :func:`plot_roc_curve` is deprecated in 1.0 and will be removed in 1.2. Use one of the class methods: :meth:`sklearn.metric.RocCurveDisplay.from_predictions` or :meth:`sklearn.metric.RocCurveDisplay.from_estimator`.\n",
            "  warnings.warn(msg, category=FutureWarning)\n"
          ]
        },
        {
          "output_type": "execute_result",
          "data": {
            "text/plain": [
              "<sklearn.metrics._plot.roc_curve.RocCurveDisplay at 0x7f682d0212d0>"
            ]
          },
          "metadata": {},
          "execution_count": 161
        },
        {
          "output_type": "display_data",
          "data": {
            "text/plain": [
              "<Figure size 432x288 with 1 Axes>"
            ],
            "image/png": "[encoded data removed]"
          },
          "metadata": {
            "needs_background": "light"
          }
        }
      ]
    },
    {
      "cell_type": "markdown",
      "source": [
        "# **KNN Algoritm**"
      ],
      "metadata": {
        "id": "fo18K8G598Y5"
      }
    },
    {
      "cell_type": "code",
      "source": [
        "from sklearn.neighbors import KNeighborsClassifier\n",
        "from sklearn.model_selection import cross_val_score"
      ],
      "metadata": {
        "id": "KRSSRBJL-AAn"
      },
      "execution_count": 162,
      "outputs": []
    },
    {
      "cell_type": "code",
      "source": [
        "for i in [1,2,3,4,5,6,7,8,9,10,20,50]:\n",
        "  knn = KNeighborsClassifier(i) #initialising the model\n",
        "  knn.fit(X_smt,y_smt) # training the model\n",
        "  print(\"K value  : \" , i, \" train score : \", knn.score(X_smt,y_smt) , \" score : \", np.mean(cross_val_score(knn, X_smt, y_smt, cv=10)))"
      ],
      "metadata": {
        "colab": {
          "base_uri": "https://localhost:8080/"
        },
        "id": "dedzz7SJ-rXf",
        "outputId": "2d23aa4e-717e-49d0-e6c4-fa68f4cc3cf9"
      },
      "execution_count": 163,
      "outputs": [
        {
          "output_type": "stream",
          "name": "stdout",
          "text": [
            "K value  :  1  train score :  1.0  score :  0.9966089289227945\n",
            "K value  :  2  train score :  0.999631825756695  score :  0.9958532126007669\n",
            "K value  :  3  train score :  0.9975778010308879  score :  0.9889547763563638\n",
            "K value  :  4  train score :  0.9969189629112893  score :  0.9883347227041209\n",
            "K value  :  5  train score :  0.9927334030926637  score :  0.9788590186686374\n",
            "K value  :  6  train score :  0.9923458512576057  score :  0.9787815556146351\n",
            "K value  :  7  train score :  0.985331163043057  score :  0.9686858204572456\n",
            "K value  :  8  train score :  0.9850792543502693  score :  0.96901530410698\n",
            "K value  :  9  train score :  0.976863155447041  score :  0.9610898712616537\n",
            "K value  :  10  train score :  0.9769019106305469  score :  0.9609348662974695\n",
            "K value  :  20  train score :  0.9455877223578654  score :  0.9319072043005908\n",
            "K value  :  50  train score :  0.9038483897221253  score :  0.8933847362974244\n"
          ]
        }
      ]
    },
    {
      "cell_type": "code",
      "source": [
        "knn = KNeighborsClassifier(1) # at k=1 we got best cross val score(Average of evaluation metric)\n",
        "knn.fit(X_smt,y_smt)"
      ],
      "metadata": {
        "colab": {
          "base_uri": "https://localhost:8080/"
        },
        "id": "2AYL4jgaFXqn",
        "outputId": "10d24cc5-f316-45c4-d4dc-b51760b3c54e"
      },
      "execution_count": 169,
      "outputs": [
        {
          "output_type": "execute_result",
          "data": {
            "text/plain": [
              "KNeighborsClassifier(n_neighbors=1)"
            ]
          },
          "metadata": {},
          "execution_count": 169
        }
      ]
    },
    {
      "cell_type": "code",
      "source": [
        "y_pred=knn.predict(X_test_scaled)"
      ],
      "metadata": {
        "id": "Qxll2X0zAGQf"
      },
      "execution_count": 170,
      "outputs": []
    },
    {
      "cell_type": "code",
      "source": [
        "df = pd.DataFrame({'Actual': y_test, 'Predicted': y_pred})\n",
        "df.tail()"
      ],
      "metadata": {
        "colab": {
          "base_uri": "https://localhost:8080/",
          "height": 206
        },
        "id": "J7nxsR-7AH6-",
        "outputId": "651576e6-4e93-4753-dbeb-89361b34efed"
      },
      "execution_count": 171,
      "outputs": [
        {
          "output_type": "execute_result",
          "data": {
            "text/plain": [
              "       Actual  Predicted\n",
              "11363       0          0\n",
              "29327       1          1\n",
              "26123       0          0\n",
              "31427       0          1\n",
              "42776       0          1"
            ],
            "text/html": [
              "\n",
              "  <div id=\"df-c375827d-94a8-4b29-99d9-049376b770cf\">\n",
              "    <div class=\"colab-df-container\">\n",
              "      <div>\n",
              "<style scoped>\n",
              "    .dataframe tbody tr th:only-of-type {\n",
              "        vertical-align: middle;\n",
              "    }\n",
              "\n",
              "    .dataframe tbody tr th {\n",
              "        vertical-align: top;\n",
              "    }\n",
              "\n",
              "    .dataframe thead th {\n",
              "        text-align: right;\n",
              "    }\n",
              "</style>\n",
              "<table border=\"1\" class=\"dataframe\">\n",
              "  <thead>\n",
              "    <tr style=\"text-align: right;\">\n",
              "      <th></th>\n",
              "      <th>Actual</th>\n",
              "      <th>Predicted</th>\n",
              "    </tr>\n",
              "  </thead>\n",
              "  <tbody>\n",
              "    <tr>\n",
              "      <th>11363</th>\n",
              "      <td>0</td>\n",
              "      <td>0</td>\n",
              "    </tr>\n",
              "    <tr>\n",
              "      <th>29327</th>\n",
              "      <td>1</td>\n",
              "      <td>1</td>\n",
              "    </tr>\n",
              "    <tr>\n",
              "      <th>26123</th>\n",
              "      <td>0</td>\n",
              "      <td>0</td>\n",
              "    </tr>\n",
              "    <tr>\n",
              "      <th>31427</th>\n",
              "      <td>0</td>\n",
              "      <td>1</td>\n",
              "    </tr>\n",
              "    <tr>\n",
              "      <th>42776</th>\n",
              "      <td>0</td>\n",
              "      <td>1</td>\n",
              "    </tr>\n",
              "  </tbody>\n",
              "</table>\n",
              "</div>\n",
              "      <button class=\"colab-df-convert\" onclick=\"convertToInteractive('df-c375827d-94a8-4b29-99d9-049376b770cf')\"\n",
              "              title=\"Convert this dataframe to an interactive table.\"\n",
              "              style=\"display:none;\">\n",
              "        \n",
              "  <svg xmlns=\"http://www.w3.org/2000/svg\" height=\"24px\"viewBox=\"0 0 24 24\"\n",
              "       width=\"24px\">\n",
              "    <path d=\"M0 0h24v24H0V0z\" fill=\"none\"/>\n",
              "    <path d=\"M18.56 5.44l.94 2.06.94-2.06 2.06-.94-2.06-.94-.94-2.06-.94 2.06-2.06.94zm-11 1L8.5 8.5l.94-2.06 2.06-.94-2.06-.94L8.5 2.5l-.94 2.06-2.06.94zm10 10l.94 2.06.94-2.06 2.06-.94-2.06-.94-.94-2.06-.94 2.06-2.06.94z\"/><path d=\"M17.41 7.96l-1.37-1.37c-.4-.4-.92-.59-1.43-.59-.52 0-1.04.2-1.43.59L10.3 9.45l-7.72 7.72c-.78.78-.78 2.05 0 2.83L4 21.41c.39.39.9.59 1.41.59.51 0 1.02-.2 1.41-.59l7.78-7.78 2.81-2.81c.8-.78.8-2.07 0-2.86zM5.41 20L4 18.59l7.72-7.72 1.47 1.35L5.41 20z\"/>\n",
              "  </svg>\n",
              "      </button>\n",
              "      \n",
              "  <style>\n",
              "    .colab-df-container {\n",
              "      display:flex;\n",
              "      flex-wrap:wrap;\n",
              "      gap: 12px;\n",
              "    }\n",
              "\n",
              "    .colab-df-convert {\n",
              "      background-color: #E8F0FE;\n",
              "      border: none;\n",
              "      border-radius: 50%;\n",
              "      cursor: pointer;\n",
              "      display: none;\n",
              "      fill: #1967D2;\n",
              "      height: 32px;\n",
              "      padding: 0 0 0 0;\n",
              "      width: 32px;\n",
              "    }\n",
              "\n",
              "    .colab-df-convert:hover {\n",
              "      background-color: #E2EBFA;\n",
              "      box-shadow: 0px 1px 2px rgba(60, 64, 67, 0.3), 0px 1px 3px 1px rgba(60, 64, 67, 0.15);\n",
              "      fill: #174EA6;\n",
              "    }\n",
              "\n",
              "    [theme=dark] .colab-df-convert {\n",
              "      background-color: #3B4455;\n",
              "      fill: #D2E3FC;\n",
              "    }\n",
              "\n",
              "    [theme=dark] .colab-df-convert:hover {\n",
              "      background-color: #434B5C;\n",
              "      box-shadow: 0px 1px 3px 1px rgba(0, 0, 0, 0.15);\n",
              "      filter: drop-shadow(0px 1px 2px rgba(0, 0, 0, 0.3));\n",
              "      fill: #FFFFFF;\n",
              "    }\n",
              "  </style>\n",
              "\n",
              "      <script>\n",
              "        const buttonEl =\n",
              "          document.querySelector('#df-c375827d-94a8-4b29-99d9-049376b770cf button.colab-df-convert');\n",
              "        buttonEl.style.display =\n",
              "          google.colab.kernel.accessAllowed ? 'block' : 'none';\n",
              "\n",
              "        async function convertToInteractive(key) {\n",
              "          const element = document.querySelector('#df-c375827d-94a8-4b29-99d9-049376b770cf');\n",
              "          const dataTable =\n",
              "            await google.colab.kernel.invokeFunction('convertToInteractive',\n",
              "                                                     [key], {});\n",
              "          if (!dataTable) return;\n",
              "\n",
              "          const docLinkHtml = 'Like what you see? Visit the ' +\n",
              "            '<a target=\"_blank\" href=https://colab.research.google.com/notebooks/data_table.ipynb>data table notebook</a>'\n",
              "            + ' to learn more about interactive tables.';\n",
              "          element.innerHTML = '';\n",
              "          dataTable['output_type'] = 'display_data';\n",
              "          await google.colab.output.renderOutput(dataTable, element);\n",
              "          const docLink = document.createElement('div');\n",
              "          docLink.innerHTML = docLinkHtml;\n",
              "          element.appendChild(docLink);\n",
              "        }\n",
              "      </script>\n",
              "    </div>\n",
              "  </div>\n",
              "  "
            ]
          },
          "metadata": {},
          "execution_count": 171
        }
      ]
    },
    {
      "cell_type": "code",
      "source": [
        "plot_roc_curve(knn, X_test_scaled, y_test)"
      ],
      "metadata": {
        "colab": {
          "base_uri": "https://localhost:8080/",
          "height": 351
        },
        "id": "P7lM-XYpAN0O",
        "outputId": "0f19432f-ada1-4bb0-b03c-d62dd9171fb3"
      },
      "execution_count": 172,
      "outputs": [
        {
          "output_type": "stream",
          "name": "stderr",
          "text": [
            "/usr/local/lib/python3.7/dist-packages/sklearn/utils/deprecation.py:87: FutureWarning: Function plot_roc_curve is deprecated; Function :func:`plot_roc_curve` is deprecated in 1.0 and will be removed in 1.2. Use one of the class methods: :meth:`sklearn.metric.RocCurveDisplay.from_predictions` or :meth:`sklearn.metric.RocCurveDisplay.from_estimator`.\n",
            "  warnings.warn(msg, category=FutureWarning)\n"
          ]
        },
        {
          "output_type": "execute_result",
          "data": {
            "text/plain": [
              "<sklearn.metrics._plot.roc_curve.RocCurveDisplay at 0x7f682cf56450>"
            ]
          },
          "metadata": {},
          "execution_count": 172
        },
        {
          "output_type": "display_data",
          "data": {
            "text/plain": [
              "<Figure size 432x288 with 1 Axes>"
            ],
            "image/png": "[encoded data removed]"
          },
          "metadata": {
            "needs_background": "light"
          }
        }
      ]
    },
    {
      "cell_type": "markdown",
      "source": [
        "# **Decission tree**"
      ],
      "metadata": {
        "id": "RENFFLs2Ax60"
      }
    },
    {
      "cell_type": "code",
      "source": [
        "from sklearn.tree import DecisionTreeClassifier\n",
        "for depth in [1,2,3,4,5,6,7,8,9,10,11,12,13,14,15,16,17,18,19,20,21,22,23,24,25,26,27,28,29,30]:\n",
        "  dt = DecisionTreeClassifier(max_depth=depth) \n",
        "  dt.fit(X_smt, y_smt) \n",
        "  trainAccuracy = accuracy_score(y_smt, dt.predict(X_smt)) \n",
        "  dt = DecisionTreeClassifier(max_depth=depth) \n",
        "  valAccuracy = cross_val_score(dt, X_smt, y_smt, cv=10) \n",
        "  print(\"Depth  : \", depth, \" Training Accuracy : \", trainAccuracy, \" Cross val score : \" ,np.mean(valAccuracy))"
      ],
      "metadata": {
        "colab": {
          "base_uri": "https://localhost:8080/"
        },
        "id": "BGUWp-nEA1AL",
        "outputId": "8f22fa90-4fc9-4a9e-aa3b-ba86a2518cae"
      },
      "execution_count": 168,
      "outputs": [
        {
          "output_type": "stream",
          "name": "stdout",
          "text": [
            "Depth  :  1  Training Accuracy :  0.7799286904623494  Cross val score :  0.7797931527301512\n",
            "Depth  :  2  Training Accuracy :  0.7973103902646979  Cross val score :  0.7972329404042543\n",
            "Depth  :  3  Training Accuracy :  0.8410843700344921  Cross val score :  0.8408713870726935\n",
            "Depth  :  4  Training Accuracy :  0.8431965275355578  Cross val score :  0.8426929047462408\n",
            "Depth  :  5  Training Accuracy :  0.854454908343991  Cross val score :  0.8493587903612214\n",
            "Depth  :  6  Training Accuracy :  0.867806069061737  Cross val score :  0.8650938125686236\n",
            "Depth  :  7  Training Accuracy :  0.8823780180599156  Cross val score :  0.876255228915735\n",
            "Depth  :  8  Training Accuracy :  0.8964267720807658  Cross val score :  0.8906335643443898\n",
            "Depth  :  9  Training Accuracy :  0.9048947796767818  Cross val score :  0.897803254582295\n",
            "Depth  :  10  Training Accuracy :  0.9179552765182343  Cross val score :  0.9068720494646041\n",
            "Depth  :  11  Training Accuracy :  0.9297756074875014  Cross val score :  0.9139255620192589\n",
            "Depth  :  12  Training Accuracy :  0.9388055652443514  Cross val score :  0.9189831007451534\n",
            "Depth  :  13  Training Accuracy :  0.9525055226136496  Cross val score :  0.9267147313858108\n",
            "Depth  :  14  Training Accuracy :  0.9609541526179126  Cross val score :  0.9293695410870738\n",
            "Depth  :  15  Training Accuracy :  0.9694996705809402  Cross val score :  0.9351053368360496\n",
            "Depth  :  16  Training Accuracy :  0.9776770143006627  Cross val score :  0.9389421105518581\n",
            "Depth  :  17  Training Accuracy :  0.9825601674223927  Cross val score :  0.9410736306436617\n",
            "Depth  :  18  Training Accuracy :  0.9876758516451576  Cross val score :  0.942914520652058\n",
            "Depth  :  19  Training Accuracy :  0.991163818160679  Cross val score :  0.9436508646392368\n",
            "Depth  :  20  Training Accuracy :  0.993973568964849  Cross val score :  0.9444840440152665\n",
            "Depth  :  21  Training Accuracy :  0.9959113281401387  Cross val score :  0.945259192753042\n",
            "Depth  :  22  Training Accuracy :  0.9972483819710887  Cross val score :  0.9464799953136899\n",
            "Depth  :  23  Training Accuracy :  0.9980234856412045  Cross val score :  0.9467318581970623\n",
            "Depth  :  24  Training Accuracy :  0.998507925435027  Cross val score :  0.9469837586309966\n",
            "Depth  :  25  Training Accuracy :  0.9989342324535907  Cross val score :  0.9461893201696083\n",
            "Depth  :  26  Training Accuracy :  0.9993992946556602  Cross val score :  0.9466156241879691\n",
            "Depth  :  27  Training Accuracy :  0.9995930705731891  Cross val score :  0.9467512530622484\n",
            "Depth  :  28  Training Accuracy :  0.9996899585319536  Cross val score :  0.9458211556861313\n",
            "Depth  :  29  Training Accuracy :  0.9997868464907181  Cross val score :  0.9467512605723606\n",
            "Depth  :  30  Training Accuracy :  0.999806224082471  Cross val score :  0.946266832039341\n"
          ]
        }
      ]
    },
    {
      "cell_type": "code",
      "source": [
        "dt = DecisionTreeClassifier(max_depth=24) # Instantiate model # max depth = log2 18 is 4.16.i.e, 4 # To control overfitting\n",
        "dt.fit(X_smt, y_smt)"
      ],
      "metadata": {
        "colab": {
          "base_uri": "https://localhost:8080/"
        },
        "id": "ZPNyMeU1BPU2",
        "outputId": "81237d74-8ce9-4c6a-e3dd-79c683e9473c"
      },
      "execution_count": 173,
      "outputs": [
        {
          "output_type": "execute_result",
          "data": {
            "text/plain": [
              "DecisionTreeClassifier(max_depth=24)"
            ]
          },
          "metadata": {},
          "execution_count": 173
        }
      ]
    },
    {
      "cell_type": "code",
      "source": [
        "y_pred = dt.predict(X_test_scaled)\n",
        "y_pred"
      ],
      "metadata": {
        "colab": {
          "base_uri": "https://localhost:8080/"
        },
        "id": "2i_qDFYPBTg-",
        "outputId": "acc5fe07-04d4-4da7-9101-8d0f33558ec3"
      },
      "execution_count": 174,
      "outputs": [
        {
          "output_type": "execute_result",
          "data": {
            "text/plain": [
              "array([0, 0, 0, ..., 0, 0, 0])"
            ]
          },
          "metadata": {},
          "execution_count": 174
        }
      ]
    },
    {
      "cell_type": "code",
      "source": [
        "df = pd.DataFrame({'Actual': y_test, 'Predicted': y_pred})\n",
        "df.head()"
      ],
      "metadata": {
        "colab": {
          "base_uri": "https://localhost:8080/",
          "height": 206
        },
        "id": "UWuC7_7IBVMr",
        "outputId": "00006bb7-f3cf-435d-af09-19e70a739034"
      },
      "execution_count": 175,
      "outputs": [
        {
          "output_type": "execute_result",
          "data": {
            "text/plain": [
              "       Actual  Predicted\n",
              "11901       0          0\n",
              "39995       0          0\n",
              "824         0          0\n",
              "40928       1          0\n",
              "32435       0          1"
            ],
            "text/html": [
              "\n",
              "  <div id=\"df-06741191-7d55-41c6-a574-2197495f0094\">\n",
              "    <div class=\"colab-df-container\">\n",
              "      <div>\n",
              "<style scoped>\n",
              "    .dataframe tbody tr th:only-of-type {\n",
              "        vertical-align: middle;\n",
              "    }\n",
              "\n",
              "    .dataframe tbody tr th {\n",
              "        vertical-align: top;\n",
              "    }\n",
              "\n",
              "    .dataframe thead th {\n",
              "        text-align: right;\n",
              "    }\n",
              "</style>\n",
              "<table border=\"1\" class=\"dataframe\">\n",
              "  <thead>\n",
              "    <tr style=\"text-align: right;\">\n",
              "      <th></th>\n",
              "      <th>Actual</th>\n",
              "      <th>Predicted</th>\n",
              "    </tr>\n",
              "  </thead>\n",
              "  <tbody>\n",
              "    <tr>\n",
              "      <th>11901</th>\n",
              "      <td>0</td>\n",
              "      <td>0</td>\n",
              "    </tr>\n",
              "    <tr>\n",
              "      <th>39995</th>\n",
              "      <td>0</td>\n",
              "      <td>0</td>\n",
              "    </tr>\n",
              "    <tr>\n",
              "      <th>824</th>\n",
              "      <td>0</td>\n",
              "      <td>0</td>\n",
              "    </tr>\n",
              "    <tr>\n",
              "      <th>40928</th>\n",
              "      <td>1</td>\n",
              "      <td>0</td>\n",
              "    </tr>\n",
              "    <tr>\n",
              "      <th>32435</th>\n",
              "      <td>0</td>\n",
              "      <td>1</td>\n",
              "    </tr>\n",
              "  </tbody>\n",
              "</table>\n",
              "</div>\n",
              "      <button class=\"colab-df-convert\" onclick=\"convertToInteractive('df-06741191-7d55-41c6-a574-2197495f0094')\"\n",
              "              title=\"Convert this dataframe to an interactive table.\"\n",
              "              style=\"display:none;\">\n",
              "        \n",
              "  <svg xmlns=\"http://www.w3.org/2000/svg\" height=\"24px\"viewBox=\"0 0 24 24\"\n",
              "       width=\"24px\">\n",
              "    <path d=\"M0 0h24v24H0V0z\" fill=\"none\"/>\n",
              "    <path d=\"M18.56 5.44l.94 2.06.94-2.06 2.06-.94-2.06-.94-.94-2.06-.94 2.06-2.06.94zm-11 1L8.5 8.5l.94-2.06 2.06-.94-2.06-.94L8.5 2.5l-.94 2.06-2.06.94zm10 10l.94 2.06.94-2.06 2.06-.94-2.06-.94-.94-2.06-.94 2.06-2.06.94z\"/><path d=\"M17.41 7.96l-1.37-1.37c-.4-.4-.92-.59-1.43-.59-.52 0-1.04.2-1.43.59L10.3 9.45l-7.72 7.72c-.78.78-.78 2.05 0 2.83L4 21.41c.39.39.9.59 1.41.59.51 0 1.02-.2 1.41-.59l7.78-7.78 2.81-2.81c.8-.78.8-2.07 0-2.86zM5.41 20L4 18.59l7.72-7.72 1.47 1.35L5.41 20z\"/>\n",
              "  </svg>\n",
              "      </button>\n",
              "      \n",
              "  <style>\n",
              "    .colab-df-container {\n",
              "      display:flex;\n",
              "      flex-wrap:wrap;\n",
              "      gap: 12px;\n",
              "    }\n",
              "\n",
              "    .colab-df-convert {\n",
              "      background-color: #E8F0FE;\n",
              "      border: none;\n",
              "      border-radius: 50%;\n",
              "      cursor: pointer;\n",
              "      display: none;\n",
              "      fill: #1967D2;\n",
              "      height: 32px;\n",
              "      padding: 0 0 0 0;\n",
              "      width: 32px;\n",
              "    }\n",
              "\n",
              "    .colab-df-convert:hover {\n",
              "      background-color: #E2EBFA;\n",
              "      box-shadow: 0px 1px 2px rgba(60, 64, 67, 0.3), 0px 1px 3px 1px rgba(60, 64, 67, 0.15);\n",
              "      fill: #174EA6;\n",
              "    }\n",
              "\n",
              "    [theme=dark] .colab-df-convert {\n",
              "      background-color: #3B4455;\n",
              "      fill: #D2E3FC;\n",
              "    }\n",
              "\n",
              "    [theme=dark] .colab-df-convert:hover {\n",
              "      background-color: #434B5C;\n",
              "      box-shadow: 0px 1px 3px 1px rgba(0, 0, 0, 0.15);\n",
              "      filter: drop-shadow(0px 1px 2px rgba(0, 0, 0, 0.3));\n",
              "      fill: #FFFFFF;\n",
              "    }\n",
              "  </style>\n",
              "\n",
              "      <script>\n",
              "        const buttonEl =\n",
              "          document.querySelector('#df-06741191-7d55-41c6-a574-2197495f0094 button.colab-df-convert');\n",
              "        buttonEl.style.display =\n",
              "          google.colab.kernel.accessAllowed ? 'block' : 'none';\n",
              "\n",
              "        async function convertToInteractive(key) {\n",
              "          const element = document.querySelector('#df-06741191-7d55-41c6-a574-2197495f0094');\n",
              "          const dataTable =\n",
              "            await google.colab.kernel.invokeFunction('convertToInteractive',\n",
              "                                                     [key], {});\n",
              "          if (!dataTable) return;\n",
              "\n",
              "          const docLinkHtml = 'Like what you see? Visit the ' +\n",
              "            '<a target=\"_blank\" href=https://colab.research.google.com/notebooks/data_table.ipynb>data table notebook</a>'\n",
              "            + ' to learn more about interactive tables.';\n",
              "          element.innerHTML = '';\n",
              "          dataTable['output_type'] = 'display_data';\n",
              "          await google.colab.output.renderOutput(dataTable, element);\n",
              "          const docLink = document.createElement('div');\n",
              "          docLink.innerHTML = docLinkHtml;\n",
              "          element.appendChild(docLink);\n",
              "        }\n",
              "      </script>\n",
              "    </div>\n",
              "  </div>\n",
              "  "
            ]
          },
          "metadata": {},
          "execution_count": 175
        }
      ]
    },
    {
      "cell_type": "code",
      "source": [
        "plot_roc_curve(dt, X_test_scaled, y_test)"
      ],
      "metadata": {
        "colab": {
          "base_uri": "https://localhost:8080/",
          "height": 351
        },
        "id": "aGrYzZBcBYWY",
        "outputId": "4494bf33-3dda-42fb-f109-1db6b929a033"
      },
      "execution_count": 176,
      "outputs": [
        {
          "output_type": "stream",
          "name": "stderr",
          "text": [
            "/usr/local/lib/python3.7/dist-packages/sklearn/utils/deprecation.py:87: FutureWarning: Function plot_roc_curve is deprecated; Function :func:`plot_roc_curve` is deprecated in 1.0 and will be removed in 1.2. Use one of the class methods: :meth:`sklearn.metric.RocCurveDisplay.from_predictions` or :meth:`sklearn.metric.RocCurveDisplay.from_estimator`.\n",
            "  warnings.warn(msg, category=FutureWarning)\n"
          ]
        },
        {
          "output_type": "execute_result",
          "data": {
            "text/plain": [
              "<sklearn.metrics._plot.roc_curve.RocCurveDisplay at 0x7f682ce78850>"
            ]
          },
          "metadata": {},
          "execution_count": 176
        },
        {
          "output_type": "display_data",
          "data": {
            "text/plain": [
              "<Figure size 432x288 with 1 Axes>"
            ],
            "image/png": "[encoded data removed]"
          },
          "metadata": {
            "needs_background": "light"
          }
        }
      ]
    },
    {
      "cell_type": "markdown",
      "source": [
        "# **Random forest**"
      ],
      "metadata": {
        "id": "wwNeJEpoBaf8"
      }
    },
    {
      "cell_type": "code",
      "source": [
        "from sklearn.ensemble import RandomForestClassifier\n",
        "# Instantiate model # max depth = log2 18 is 4.16.i.e, 4 fearures = sqrt(18) # To control overfitting\n",
        "rf = RandomForestClassifier(n_estimators= 100, max_depth = 4, max_features='sqrt')\n",
        "rf.fit(X_smt,y_smt)"
      ],
      "metadata": {
        "colab": {
          "base_uri": "https://localhost:8080/"
        },
        "id": "d_dOZnLnBe9B",
        "outputId": "409c4bfd-2131-45a1-d566-ca9962c69737"
      },
      "execution_count": 177,
      "outputs": [
        {
          "output_type": "execute_result",
          "data": {
            "text/plain": [
              "RandomForestClassifier(max_depth=4, max_features='sqrt')"
            ]
          },
          "metadata": {},
          "execution_count": 177
        }
      ]
    },
    {
      "cell_type": "code",
      "source": [
        "y_pred = rf.predict(X_test_scaled)\n",
        "y_pred"
      ],
      "metadata": {
        "colab": {
          "base_uri": "https://localhost:8080/"
        },
        "id": "wqUMGsowCdBx",
        "outputId": "4817e732-0910-4ab3-89ab-1540eeb17a0a"
      },
      "execution_count": 178,
      "outputs": [
        {
          "output_type": "execute_result",
          "data": {
            "text/plain": [
              "array([0, 1, 0, ..., 1, 1, 0])"
            ]
          },
          "metadata": {},
          "execution_count": 178
        }
      ]
    },
    {
      "cell_type": "code",
      "source": [
        "df = pd.DataFrame({'Actual': y_test, 'Predicted': y_pred})\n",
        "df.head()"
      ],
      "metadata": {
        "colab": {
          "base_uri": "https://localhost:8080/",
          "height": 206
        },
        "id": "vklUxNAWCgKI",
        "outputId": "27f06bfe-e76b-4105-814b-8a19447cf473"
      },
      "execution_count": 179,
      "outputs": [
        {
          "output_type": "execute_result",
          "data": {
            "text/plain": [
              "       Actual  Predicted\n",
              "11901       0          0\n",
              "39995       0          1\n",
              "824         0          0\n",
              "40928       1          0\n",
              "32435       0          1"
            ],
            "text/html": [
              "\n",
              "  <div id=\"df-fdde9035-bda3-417c-a8fa-0abf5369cd24\">\n",
              "    <div class=\"colab-df-container\">\n",
              "      <div>\n",
              "<style scoped>\n",
              "    .dataframe tbody tr th:only-of-type {\n",
              "        vertical-align: middle;\n",
              "    }\n",
              "\n",
              "    .dataframe tbody tr th {\n",
              "        vertical-align: top;\n",
              "    }\n",
              "\n",
              "    .dataframe thead th {\n",
              "        text-align: right;\n",
              "    }\n",
              "</style>\n",
              "<table border=\"1\" class=\"dataframe\">\n",
              "  <thead>\n",
              "    <tr style=\"text-align: right;\">\n",
              "      <th></th>\n",
              "      <th>Actual</th>\n",
              "      <th>Predicted</th>\n",
              "    </tr>\n",
              "  </thead>\n",
              "  <tbody>\n",
              "    <tr>\n",
              "      <th>11901</th>\n",
              "      <td>0</td>\n",
              "      <td>0</td>\n",
              "    </tr>\n",
              "    <tr>\n",
              "      <th>39995</th>\n",
              "      <td>0</td>\n",
              "      <td>1</td>\n",
              "    </tr>\n",
              "    <tr>\n",
              "      <th>824</th>\n",
              "      <td>0</td>\n",
              "      <td>0</td>\n",
              "    </tr>\n",
              "    <tr>\n",
              "      <th>40928</th>\n",
              "      <td>1</td>\n",
              "      <td>0</td>\n",
              "    </tr>\n",
              "    <tr>\n",
              "      <th>32435</th>\n",
              "      <td>0</td>\n",
              "      <td>1</td>\n",
              "    </tr>\n",
              "  </tbody>\n",
              "</table>\n",
              "</div>\n",
              "      <button class=\"colab-df-convert\" onclick=\"convertToInteractive('df-fdde9035-bda3-417c-a8fa-0abf5369cd24')\"\n",
              "              title=\"Convert this dataframe to an interactive table.\"\n",
              "              style=\"display:none;\">\n",
              "        \n",
              "  <svg xmlns=\"http://www.w3.org/2000/svg\" height=\"24px\"viewBox=\"0 0 24 24\"\n",
              "       width=\"24px\">\n",
              "    <path d=\"M0 0h24v24H0V0z\" fill=\"none\"/>\n",
              "    <path d=\"M18.56 5.44l.94 2.06.94-2.06 2.06-.94-2.06-.94-.94-2.06-.94 2.06-2.06.94zm-11 1L8.5 8.5l.94-2.06 2.06-.94-2.06-.94L8.5 2.5l-.94 2.06-2.06.94zm10 10l.94 2.06.94-2.06 2.06-.94-2.06-.94-.94-2.06-.94 2.06-2.06.94z\"/><path d=\"M17.41 7.96l-1.37-1.37c-.4-.4-.92-.59-1.43-.59-.52 0-1.04.2-1.43.59L10.3 9.45l-7.72 7.72c-.78.78-.78 2.05 0 2.83L4 21.41c.39.39.9.59 1.41.59.51 0 1.02-.2 1.41-.59l7.78-7.78 2.81-2.81c.8-.78.8-2.07 0-2.86zM5.41 20L4 18.59l7.72-7.72 1.47 1.35L5.41 20z\"/>\n",
              "  </svg>\n",
              "      </button>\n",
              "      \n",
              "  <style>\n",
              "    .colab-df-container {\n",
              "      display:flex;\n",
              "      flex-wrap:wrap;\n",
              "      gap: 12px;\n",
              "    }\n",
              "\n",
              "    .colab-df-convert {\n",
              "      background-color: #E8F0FE;\n",
              "      border: none;\n",
              "      border-radius: 50%;\n",
              "      cursor: pointer;\n",
              "      display: none;\n",
              "      fill: #1967D2;\n",
              "      height: 32px;\n",
              "      padding: 0 0 0 0;\n",
              "      width: 32px;\n",
              "    }\n",
              "\n",
              "    .colab-df-convert:hover {\n",
              "      background-color: #E2EBFA;\n",
              "      box-shadow: 0px 1px 2px rgba(60, 64, 67, 0.3), 0px 1px 3px 1px rgba(60, 64, 67, 0.15);\n",
              "      fill: #174EA6;\n",
              "    }\n",
              "\n",
              "    [theme=dark] .colab-df-convert {\n",
              "      background-color: #3B4455;\n",
              "      fill: #D2E3FC;\n",
              "    }\n",
              "\n",
              "    [theme=dark] .colab-df-convert:hover {\n",
              "      background-color: #434B5C;\n",
              "      box-shadow: 0px 1px 3px 1px rgba(0, 0, 0, 0.15);\n",
              "      filter: drop-shadow(0px 1px 2px rgba(0, 0, 0, 0.3));\n",
              "      fill: #FFFFFF;\n",
              "    }\n",
              "  </style>\n",
              "\n",
              "      <script>\n",
              "        const buttonEl =\n",
              "          document.querySelector('#df-fdde9035-bda3-417c-a8fa-0abf5369cd24 button.colab-df-convert');\n",
              "        buttonEl.style.display =\n",
              "          google.colab.kernel.accessAllowed ? 'block' : 'none';\n",
              "\n",
              "        async function convertToInteractive(key) {\n",
              "          const element = document.querySelector('#df-fdde9035-bda3-417c-a8fa-0abf5369cd24');\n",
              "          const dataTable =\n",
              "            await google.colab.kernel.invokeFunction('convertToInteractive',\n",
              "                                                     [key], {});\n",
              "          if (!dataTable) return;\n",
              "\n",
              "          const docLinkHtml = 'Like what you see? Visit the ' +\n",
              "            '<a target=\"_blank\" href=https://colab.research.google.com/notebooks/data_table.ipynb>data table notebook</a>'\n",
              "            + ' to learn more about interactive tables.';\n",
              "          element.innerHTML = '';\n",
              "          dataTable['output_type'] = 'display_data';\n",
              "          await google.colab.output.renderOutput(dataTable, element);\n",
              "          const docLink = document.createElement('div');\n",
              "          docLink.innerHTML = docLinkHtml;\n",
              "          element.appendChild(docLink);\n",
              "        }\n",
              "      </script>\n",
              "    </div>\n",
              "  </div>\n",
              "  "
            ]
          },
          "metadata": {},
          "execution_count": 179
        }
      ]
    },
    {
      "cell_type": "code",
      "source": [
        "plot_roc_curve(rf, X_test_scaled, y_test)"
      ],
      "metadata": {
        "colab": {
          "base_uri": "https://localhost:8080/",
          "height": 351
        },
        "id": "o6nM6FDuChku",
        "outputId": "b9468543-f52f-4628-b860-8db7e19e5236"
      },
      "execution_count": 180,
      "outputs": [
        {
          "output_type": "stream",
          "name": "stderr",
          "text": [
            "/usr/local/lib/python3.7/dist-packages/sklearn/utils/deprecation.py:87: FutureWarning: Function plot_roc_curve is deprecated; Function :func:`plot_roc_curve` is deprecated in 1.0 and will be removed in 1.2. Use one of the class methods: :meth:`sklearn.metric.RocCurveDisplay.from_predictions` or :meth:`sklearn.metric.RocCurveDisplay.from_estimator`.\n",
            "  warnings.warn(msg, category=FutureWarning)\n"
          ]
        },
        {
          "output_type": "execute_result",
          "data": {
            "text/plain": [
              "<sklearn.metrics._plot.roc_curve.RocCurveDisplay at 0x7f682cdedfd0>"
            ]
          },
          "metadata": {},
          "execution_count": 180
        },
        {
          "output_type": "display_data",
          "data": {
            "text/plain": [
              "<Figure size 432x288 with 1 Axes>"
            ],
            "image/png": "[encoded data removed]"
          },
          "metadata": {
            "needs_background": "light"
          }
        }
      ]
    },
    {
      "cell_type": "markdown",
      "source": [
        "# **XG boost**"
      ],
      "metadata": {
        "id": "sXNn-oqvCmVo"
      }
    },
    {
      "cell_type": "code",
      "source": [
        "import xgboost as xgb\n",
        "for lr in [0.01,0.02,0.03,0.04,0.05,0.06,0.07,0.08,0.09,0.1,0.11,0.12,0.13,0.14,0.15,0.2,0.5,0.7,0.75,0.8,0.9,1]:\n",
        "  model = xgb.XGBClassifier(learning_rate = lr, n_estimators=100, verbosity = 0) # initialise the model\n",
        "  model.fit(X_smt,y_smt) #train the model\n",
        "  print(\"Learning rate : \", lr, \" Train score : \", model.score(X_smt,y_smt), \" Cross-Val score : \", np.mean(cross_val_score(model, X_smt, y_smt, cv=10)))"
      ],
      "metadata": {
        "colab": {
          "base_uri": "https://localhost:8080/"
        },
        "id": "BgqgRzL3Gyhv",
        "outputId": "9258291a-0636-4c33-dd69-1bdf4acb7ea6"
      },
      "execution_count": 181,
      "outputs": [
        {
          "output_type": "stream",
          "name": "stdout",
          "text": [
            "Learning rate :  0.01  Train score :  0.8496298879975197  Cross-Val score :  0.8486612586347517\n",
            "Learning rate :  0.02  Train score :  0.8650738286245785  Cross-Val score :  0.8642021369273726\n",
            "Learning rate :  0.03  Train score :  0.8837732046661241  Cross-Val score :  0.8837542788865207\n",
            "Learning rate :  0.04  Train score :  0.9013099252024959  Cross-Val score :  0.8996440206738374\n",
            "Learning rate :  0.05  Train score :  0.9091966050459249  Cross-Val score :  0.9070656639164636\n",
            "Learning rate :  0.06  Train score :  0.9139634926171375  Cross-Val score :  0.9132665045984417\n",
            "Learning rate :  0.07  Train score :  0.9182653179862806  Cross-Val score :  0.9194093521927273\n",
            "Learning rate :  0.08  Train score :  0.9251249854668062  Cross-Val score :  0.9240017821496644\n",
            "Learning rate :  0.09  Train score :  0.9323140720071309  Cross-Val score :  0.9278967329509185\n",
            "Learning rate :  0.1  Train score :  0.9334961051040577  Cross-Val score :  0.9315592532845478\n",
            "Learning rate :  0.11  Train score :  0.9371584699453552  Cross-Val score :  0.9343496956151458\n",
            "Learning rate :  0.12  Train score :  0.9412083866217107  Cross-Val score :  0.9376438712226012\n",
            "Learning rate :  0.13  Train score :  0.9430105026547301  Cross-Val score :  0.9399691409482868\n",
            "Learning rate :  0.14  Train score :  0.9456846103166299  Cross-Val score :  0.941306301434882\n",
            "Learning rate :  0.15  Train score :  0.9461690501104523  Cross-Val score :  0.9423333543616479\n",
            "Learning rate :  0.2  Train score :  0.9524086346548851  Cross-Val score :  0.9477979899935264\n",
            "Learning rate :  0.5  Train score :  0.9683951478510251  Cross-Val score :  0.9582430505175218\n",
            "Learning rate :  0.7  Train score :  0.97217377824284  Cross-Val score :  0.9595027103995528\n",
            "Learning rate :  0.75  Train score :  0.972154400651087  Cross-Val score :  0.9585145072840578\n",
            "Learning rate :  0.8  Train score :  0.9722900437933574  Cross-Val score :  0.9590376241609327\n",
            "Learning rate :  0.9  Train score :  0.9735108320737899  Cross-Val score :  0.9588826567473102\n",
            "Learning rate :  1  Train score :  0.9733364337480138  Cross-Val score :  0.9581270155264063\n"
          ]
        }
      ]
    },
    {
      "cell_type": "code",
      "source": [
        "model = xgb.XGBClassifier(learning_rate = 0.7, n_estimators=100)\n",
        "model.fit(X_smt,y_smt) #train the model"
      ],
      "metadata": {
        "colab": {
          "base_uri": "https://localhost:8080/"
        },
        "id": "Gra7qtlnHeZ2",
        "outputId": "de29eba0-4840-4b98-8152-862213823667"
      },
      "execution_count": 182,
      "outputs": [
        {
          "output_type": "execute_result",
          "data": {
            "text/plain": [
              "XGBClassifier(learning_rate=0.7)"
            ]
          },
          "metadata": {},
          "execution_count": 182
        }
      ]
    },
    {
      "cell_type": "code",
      "source": [
        "y_pred = model.predict(X_test_scaled)\n",
        "y_pred"
      ],
      "metadata": {
        "colab": {
          "base_uri": "https://localhost:8080/"
        },
        "id": "PIF2UjB5IL0T",
        "outputId": "8566bb02-f34a-42ed-aba8-946cf4569225"
      },
      "execution_count": 183,
      "outputs": [
        {
          "output_type": "execute_result",
          "data": {
            "text/plain": [
              "array([0, 0, 0, ..., 0, 0, 0])"
            ]
          },
          "metadata": {},
          "execution_count": 183
        }
      ]
    },
    {
      "cell_type": "code",
      "source": [
        "df = pd.DataFrame({'Actual': y_test, 'Predicted': y_pred})\n",
        "df.head()"
      ],
      "metadata": {
        "colab": {
          "base_uri": "https://localhost:8080/",
          "height": 206
        },
        "id": "s7KN-IypIQR-",
        "outputId": "08aea991-7ace-4544-eb94-85a83fa17cdf"
      },
      "execution_count": 184,
      "outputs": [
        {
          "output_type": "execute_result",
          "data": {
            "text/plain": [
              "       Actual  Predicted\n",
              "11901       0          0\n",
              "39995       0          0\n",
              "824         0          0\n",
              "40928       1          0\n",
              "32435       0          1"
            ],
            "text/html": [
              "\n",
              "  <div id=\"df-6dc68533-2586-4849-9e8c-54f58118b147\">\n",
              "    <div class=\"colab-df-container\">\n",
              "      <div>\n",
              "<style scoped>\n",
              "    .dataframe tbody tr th:only-of-type {\n",
              "        vertical-align: middle;\n",
              "    }\n",
              "\n",
              "    .dataframe tbody tr th {\n",
              "        vertical-align: top;\n",
              "    }\n",
              "\n",
              "    .dataframe thead th {\n",
              "        text-align: right;\n",
              "    }\n",
              "</style>\n",
              "<table border=\"1\" class=\"dataframe\">\n",
              "  <thead>\n",
              "    <tr style=\"text-align: right;\">\n",
              "      <th></th>\n",
              "      <th>Actual</th>\n",
              "      <th>Predicted</th>\n",
              "    </tr>\n",
              "  </thead>\n",
              "  <tbody>\n",
              "    <tr>\n",
              "      <th>11901</th>\n",
              "      <td>0</td>\n",
              "      <td>0</td>\n",
              "    </tr>\n",
              "    <tr>\n",
              "      <th>39995</th>\n",
              "      <td>0</td>\n",
              "      <td>0</td>\n",
              "    </tr>\n",
              "    <tr>\n",
              "      <th>824</th>\n",
              "      <td>0</td>\n",
              "      <td>0</td>\n",
              "    </tr>\n",
              "    <tr>\n",
              "      <th>40928</th>\n",
              "      <td>1</td>\n",
              "      <td>0</td>\n",
              "    </tr>\n",
              "    <tr>\n",
              "      <th>32435</th>\n",
              "      <td>0</td>\n",
              "      <td>1</td>\n",
              "    </tr>\n",
              "  </tbody>\n",
              "</table>\n",
              "</div>\n",
              "      <button class=\"colab-df-convert\" onclick=\"convertToInteractive('df-6dc68533-2586-4849-9e8c-54f58118b147')\"\n",
              "              title=\"Convert this dataframe to an interactive table.\"\n",
              "              style=\"display:none;\">\n",
              "        \n",
              "  <svg xmlns=\"http://www.w3.org/2000/svg\" height=\"24px\"viewBox=\"0 0 24 24\"\n",
              "       width=\"24px\">\n",
              "    <path d=\"M0 0h24v24H0V0z\" fill=\"none\"/>\n",
              "    <path d=\"M18.56 5.44l.94 2.06.94-2.06 2.06-.94-2.06-.94-.94-2.06-.94 2.06-2.06.94zm-11 1L8.5 8.5l.94-2.06 2.06-.94-2.06-.94L8.5 2.5l-.94 2.06-2.06.94zm10 10l.94 2.06.94-2.06 2.06-.94-2.06-.94-.94-2.06-.94 2.06-2.06.94z\"/><path d=\"M17.41 7.96l-1.37-1.37c-.4-.4-.92-.59-1.43-.59-.52 0-1.04.2-1.43.59L10.3 9.45l-7.72 7.72c-.78.78-.78 2.05 0 2.83L4 21.41c.39.39.9.59 1.41.59.51 0 1.02-.2 1.41-.59l7.78-7.78 2.81-2.81c.8-.78.8-2.07 0-2.86zM5.41 20L4 18.59l7.72-7.72 1.47 1.35L5.41 20z\"/>\n",
              "  </svg>\n",
              "      </button>\n",
              "      \n",
              "  <style>\n",
              "    .colab-df-container {\n",
              "      display:flex;\n",
              "      flex-wrap:wrap;\n",
              "      gap: 12px;\n",
              "    }\n",
              "\n",
              "    .colab-df-convert {\n",
              "      background-color: #E8F0FE;\n",
              "      border: none;\n",
              "      border-radius: 50%;\n",
              "      cursor: pointer;\n",
              "      display: none;\n",
              "      fill: #1967D2;\n",
              "      height: 32px;\n",
              "      padding: 0 0 0 0;\n",
              "      width: 32px;\n",
              "    }\n",
              "\n",
              "    .colab-df-convert:hover {\n",
              "      background-color: #E2EBFA;\n",
              "      box-shadow: 0px 1px 2px rgba(60, 64, 67, 0.3), 0px 1px 3px 1px rgba(60, 64, 67, 0.15);\n",
              "      fill: #174EA6;\n",
              "    }\n",
              "\n",
              "    [theme=dark] .colab-df-convert {\n",
              "      background-color: #3B4455;\n",
              "      fill: #D2E3FC;\n",
              "    }\n",
              "\n",
              "    [theme=dark] .colab-df-convert:hover {\n",
              "      background-color: #434B5C;\n",
              "      box-shadow: 0px 1px 3px 1px rgba(0, 0, 0, 0.15);\n",
              "      filter: drop-shadow(0px 1px 2px rgba(0, 0, 0, 0.3));\n",
              "      fill: #FFFFFF;\n",
              "    }\n",
              "  </style>\n",
              "\n",
              "      <script>\n",
              "        const buttonEl =\n",
              "          document.querySelector('#df-6dc68533-2586-4849-9e8c-54f58118b147 button.colab-df-convert');\n",
              "        buttonEl.style.display =\n",
              "          google.colab.kernel.accessAllowed ? 'block' : 'none';\n",
              "\n",
              "        async function convertToInteractive(key) {\n",
              "          const element = document.querySelector('#df-6dc68533-2586-4849-9e8c-54f58118b147');\n",
              "          const dataTable =\n",
              "            await google.colab.kernel.invokeFunction('convertToInteractive',\n",
              "                                                     [key], {});\n",
              "          if (!dataTable) return;\n",
              "\n",
              "          const docLinkHtml = 'Like what you see? Visit the ' +\n",
              "            '<a target=\"_blank\" href=https://colab.research.google.com/notebooks/data_table.ipynb>data table notebook</a>'\n",
              "            + ' to learn more about interactive tables.';\n",
              "          element.innerHTML = '';\n",
              "          dataTable['output_type'] = 'display_data';\n",
              "          await google.colab.output.renderOutput(dataTable, element);\n",
              "          const docLink = document.createElement('div');\n",
              "          docLink.innerHTML = docLinkHtml;\n",
              "          element.appendChild(docLink);\n",
              "        }\n",
              "      </script>\n",
              "    </div>\n",
              "  </div>\n",
              "  "
            ]
          },
          "metadata": {},
          "execution_count": 184
        }
      ]
    },
    {
      "cell_type": "code",
      "source": [
        "plot_roc_curve(model, X_test_scaled, y_test)"
      ],
      "metadata": {
        "colab": {
          "base_uri": "https://localhost:8080/",
          "height": 351
        },
        "id": "AzJPwWNyISD8",
        "outputId": "c19f3b18-d958-42d5-a448-de696db1e6a1"
      },
      "execution_count": 185,
      "outputs": [
        {
          "output_type": "stream",
          "name": "stderr",
          "text": [
            "/usr/local/lib/python3.7/dist-packages/sklearn/utils/deprecation.py:87: FutureWarning: Function plot_roc_curve is deprecated; Function :func:`plot_roc_curve` is deprecated in 1.0 and will be removed in 1.2. Use one of the class methods: :meth:`sklearn.metric.RocCurveDisplay.from_predictions` or :meth:`sklearn.metric.RocCurveDisplay.from_estimator`.\n",
            "  warnings.warn(msg, category=FutureWarning)\n"
          ]
        },
        {
          "output_type": "execute_result",
          "data": {
            "text/plain": [
              "<sklearn.metrics._plot.roc_curve.RocCurveDisplay at 0x7f6823f6c4d0>"
            ]
          },
          "metadata": {},
          "execution_count": 185
        },
        {
          "output_type": "display_data",
          "data": {
            "text/plain": [
              "<Figure size 432x288 with 1 Axes>"
            ],
            "image/png": "[encoded data removed]"
          },
          "metadata": {
            "needs_background": "light"
          }
        }
      ]
    },
    {
      "cell_type": "markdown",
      "source": [
        "# **Feature Importances**"
      ],
      "metadata": {
        "id": "PAFDtMymJXc6"
      }
    },
    {
      "cell_type": "code",
      "source": [
        "rf.feature_importances_"
      ],
      "metadata": {
        "colab": {
          "base_uri": "https://localhost:8080/"
        },
        "id": "XU4rUiFcJbDV",
        "outputId": "54878eab-5fb2-4078-dbbc-161dce6ff354"
      },
      "execution_count": 187,
      "outputs": [
        {
          "output_type": "execute_result",
          "data": {
            "text/plain": [
              "array([6.59215849e-02, 1.90574038e-02, 7.96146763e-03, 1.70099689e-02,\n",
              "       1.60701714e-01, 5.75180953e-01, 1.20254928e-01, 1.71907266e-04,\n",
              "       1.43983868e-02, 3.37241053e-04, 3.48383960e-04, 8.17260479e-04,\n",
              "       6.88127058e-03, 5.92152832e-05, 8.85682711e-04, 9.67056284e-03,\n",
              "       1.63636794e-04, 1.78432126e-04])"
            ]
          },
          "metadata": {},
          "execution_count": 187
        }
      ]
    },
    {
      "cell_type": "code",
      "source": [
        "sorted_idx = rf.feature_importances_.argsort()\n",
        "plt.figure(figsize=(10,5))\n",
        "plt.barh(X.columns[sorted_idx], rf.feature_importances_[sorted_idx], color=\"green\")\n",
        "plt.xlabel(\"Random Forest Feature Importances\")\n",
        "plt.title(\"Feature Importances\",color='m',size=15)\n",
        "plt.show()"
      ],
      "metadata": {
        "colab": {
          "base_uri": "https://localhost:8080/",
          "height": 352
        },
        "id": "wiFTPj91JfNu",
        "outputId": "ef1b1bbc-d78b-43ef-d6a3-3dbb84f1ff47"
      },
      "execution_count": 188,
      "outputs": [
        {
          "output_type": "display_data",
          "data": {
            "text/plain": [
              "<Figure size 720x360 with 1 Axes>"
            ],
            "image/png": "[encoded data removed]"
          },
          "metadata": {
            "needs_background": "light"
          }
        }
      ]
    },
    {
      "cell_type": "code",
      "source": [
        "model.feature_importances_"
      ],
      "metadata": {
        "colab": {
          "base_uri": "https://localhost:8080/"
        },
        "id": "5H4rmhoFJl3t",
        "outputId": "7a14f264-3c42-4807-dc84-140d383ce766"
      },
      "execution_count": 189,
      "outputs": [
        {
          "output_type": "execute_result",
          "data": {
            "text/plain": [
              "array([0.02590611, 0.01941309, 0.04974987, 0.02576633, 0.1055136 ,\n",
              "       0.22336833, 0.12924175, 0.01514103, 0.14087614, 0.02480533,\n",
              "       0.01386111, 0.0310306 , 0.00787131, 0.00755252, 0.03436135,\n",
              "       0.13279732, 0.00778106, 0.00496304], dtype=float32)"
            ]
          },
          "metadata": {},
          "execution_count": 189
        }
      ]
    },
    {
      "cell_type": "code",
      "source": [
        "sorted_idx = model.feature_importances_.argsort()\n",
        "plt.figure(figsize=(10,5))\n",
        "plt.barh(X.columns[sorted_idx], model.feature_importances_[sorted_idx], color=\"m\")\n",
        "plt.xlabel(\"Extreme Gradient Boosting Feature Importance\")\n",
        "plt.title(\"Feature Importances\")\n",
        "plt.show()"
      ],
      "metadata": {
        "colab": {
          "base_uri": "https://localhost:8080/",
          "height": 350
        },
        "id": "uEaPIOYNJmCw",
        "outputId": "3e30095d-4a2a-46bf-de08-04506749c8c1"
      },
      "execution_count": 190,
      "outputs": [
        {
          "output_type": "display_data",
          "data": {
            "text/plain": [
              "<Figure size 720x360 with 1 Axes>"
            ],
            "image/png": "[encoded data removed]"
          },
          "metadata": {
            "needs_background": "light"
          }
        }
      ]
    }
  ]
}